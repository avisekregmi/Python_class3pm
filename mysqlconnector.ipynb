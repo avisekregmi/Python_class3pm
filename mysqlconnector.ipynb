{
 "cells": [
  {
   "cell_type": "code",
   "execution_count": null,
   "id": "ba90661d",
   "metadata": {},
   "outputs": [],
   "source": [
    "!pip install mysql-connector"
   ]
  },
  {
   "cell_type": "code",
   "execution_count": null,
   "id": "c0d1b601",
   "metadata": {},
   "outputs": [],
   "source": [
    "import mysql.connector\n",
    "#importing database\n",
    "database = mysql.connector.connect(\n",
    "host=\"localhost\",\n",
    "user=\"root\",\n",
    "password=\"\"\n",
    ")\n",
    "db = database.cursor()\n",
    "\n",
    "db.execute(\"CREATE DATABASE pythons1\")"
   ]
  },
  {
   "cell_type": "code",
   "execution_count": 5,
   "id": "7039bcec",
   "metadata": {},
   "outputs": [],
   "source": [
    "import mysql.connector\n",
    "#importing database\n",
    "database = mysql.connector.connect(\n",
    "host=\"localhost\",\n",
    "user=\"root\",\n",
    "password=\"\",\n",
    "database = \"python3pm\")\n",
    "db = database.cursor()"
   ]
  },
  {
   "cell_type": "code",
   "execution_count": 6,
   "id": "4eecaa06",
   "metadata": {},
   "outputs": [
    {
     "name": "stdout",
     "output_type": "stream",
     "text": [
      "[(1, 'Rama', 89, 98, 85, 67, 89, 428, 85.6, 'A'), (3, 'Nabin', 89, 82, 84, 98, 89, 445, 89.6, 'A'), (4, 'Shiva', 49, 57, 25, 98, 89, 318, 63.6, 'C'), (8, 'Ram', 78, 79, 93, 67, 78, 415, 83.5, 'A'), (10, 'Sameer', 89, 67, 80, 98, 89, 412, 82.5, 'A'), (12, 'Rama', 89, 78, 67, 81, 87, 402, 80.4, 'A'), (13, 'Rama', 89, 78, 67, 81, 87, 402, 80.4, 'A')]\n"
     ]
    }
   ],
   "source": [
    "sql = \"SELECT * FROM student\"\n",
    "db.execute(sql)\n",
    "result =db.fetchall()\n",
    "print(result)"
   ]
  },
  {
   "cell_type": "code",
   "execution_count": 7,
   "id": "6c526f8a",
   "metadata": {},
   "outputs": [
    {
     "name": "stdout",
     "output_type": "stream",
     "text": [
      "(1, 'Rama', 89, 98, 85, 67, 89, 428, 85.6, 'A')\n",
      "(3, 'Nabin', 89, 82, 84, 98, 89, 445, 89.6, 'A')\n",
      "(4, 'Shiva', 49, 57, 25, 98, 89, 318, 63.6, 'C')\n",
      "(8, 'Ram', 78, 79, 93, 67, 78, 415, 83.5, 'A')\n",
      "(10, 'Sameer', 89, 67, 80, 98, 89, 412, 82.5, 'A')\n",
      "(12, 'Rama', 89, 78, 67, 81, 87, 402, 80.4, 'A')\n",
      "(13, 'Rama', 89, 78, 67, 81, 87, 402, 80.4, 'A')\n"
     ]
    }
   ],
   "source": [
    "sql = \"SELECT * FROM student\"\n",
    "db.execute(sql)\n",
    "result =db.fetchall()\n",
    "for i in result:\n",
    "    print(i)"
   ]
  },
  {
   "cell_type": "code",
   "execution_count": 8,
   "id": "73031378",
   "metadata": {},
   "outputs": [
    {
     "name": "stdout",
     "output_type": "stream",
     "text": [
      "(1, 'Rama', 89, 98, 85, 67, 89, 428, 85.6, 'A')\n",
      "(3, 'Nabin', 89, 82, 84, 98, 89, 445, 89.6, 'A')\n",
      "(8, 'Ram', 78, 79, 93, 67, 78, 415, 83.5, 'A')\n",
      "(10, 'Sameer', 89, 67, 80, 98, 89, 412, 82.5, 'A')\n",
      "(12, 'Rama', 89, 78, 67, 81, 87, 402, 80.4, 'A')\n",
      "(13, 'Rama', 89, 78, 67, 81, 87, 402, 80.4, 'A')\n"
     ]
    }
   ],
   "source": [
    "sql = \"SELECT * FROM student WHERE per > 70\"\n",
    "db.execute(sql)\n",
    "result =db.fetchall()\n",
    "for i in result:\n",
    "    print(i)"
   ]
  },
  {
   "cell_type": "code",
   "execution_count": 9,
   "id": "ac3db43d",
   "metadata": {},
   "outputs": [
    {
     "name": "stdout",
     "output_type": "stream",
     "text": [
      "('Rama', 'A')\n",
      "('Nabin', 'A')\n",
      "('Ram', 'A')\n",
      "('Sameer', 'A')\n",
      "('Rama', 'A')\n",
      "('Rama', 'A')\n"
     ]
    }
   ],
   "source": [
    "sql = \"SELECT name,grade FROM student WHERE per > 70\"\n",
    "db.execute(sql)\n",
    "result =db.fetchall()\n",
    "for i in result:\n",
    "    print(i)"
   ]
  },
  {
   "cell_type": "code",
   "execution_count": 10,
   "id": "793a2f66",
   "metadata": {},
   "outputs": [
    {
     "name": "stdout",
     "output_type": "stream",
     "text": [
      "('Rama', 'A')\n",
      "('Nabin', 'A')\n",
      "('Ram', 'A')\n",
      "('Sameer', 'A')\n",
      "('Rama', 'A')\n",
      "('Rama', 'A')\n"
     ]
    }
   ],
   "source": [
    "sql = \"SELECT name,grade FROM student WHERE per > 70\"\n",
    "db.execute(sql)\n",
    "result =db.fetchall()\n",
    "for i in result:\n",
    "    print(i)"
   ]
  },
  {
   "cell_type": "code",
   "execution_count": 12,
   "id": "059c6d09",
   "metadata": {},
   "outputs": [
    {
     "ename": "IntegrityError",
     "evalue": "1062 (23000): Duplicate entry '8' for key 'PRIMARY'",
     "output_type": "error",
     "traceback": [
      "\u001b[1;31m---------------------------------------------------------------------------\u001b[0m",
      "\u001b[1;31mIntegrityError\u001b[0m                            Traceback (most recent call last)",
      "Input \u001b[1;32mIn [12]\u001b[0m, in \u001b[0;36m<cell line: 3>\u001b[1;34m()\u001b[0m\n\u001b[0;32m      1\u001b[0m sql \u001b[38;5;241m=\u001b[39m \u001b[38;5;124m'''\u001b[39m\u001b[38;5;124mINSERT INTO student(sn, name, physics, chemistry, math, english, nepali, total, per, grade) \u001b[39m\n\u001b[0;32m      2\u001b[0m \u001b[38;5;124mVALUES (8,\u001b[39m\u001b[38;5;124m'\u001b[39m\u001b[38;5;124mRam\u001b[39m\u001b[38;5;124m'\u001b[39m\u001b[38;5;124m,78,79,93,67,78,415,83.5,\u001b[39m\u001b[38;5;124m'\u001b[39m\u001b[38;5;124mA\u001b[39m\u001b[38;5;124m'\u001b[39m\u001b[38;5;124m)\u001b[39m\u001b[38;5;124m'''\u001b[39m\n\u001b[1;32m----> 3\u001b[0m \u001b[43mdb\u001b[49m\u001b[38;5;241;43m.\u001b[39;49m\u001b[43mexecute\u001b[49m\u001b[43m(\u001b[49m\u001b[43msql\u001b[49m\u001b[43m)\u001b[49m\n\u001b[0;32m      4\u001b[0m database\u001b[38;5;241m.\u001b[39mcommit()\n",
      "File \u001b[1;32mc:\\users\\aregmi\\appdata\\local\\programs\\python\\python38\\lib\\site-packages\\mysql\\connector\\cursor.py:551\u001b[0m, in \u001b[0;36mMySQLCursor.execute\u001b[1;34m(self, operation, params, multi)\u001b[0m\n\u001b[0;32m    549\u001b[0m \u001b[38;5;28;01melse\u001b[39;00m:\n\u001b[0;32m    550\u001b[0m     \u001b[38;5;28;01mtry\u001b[39;00m:\n\u001b[1;32m--> 551\u001b[0m         \u001b[38;5;28mself\u001b[39m\u001b[38;5;241m.\u001b[39m_handle_result(\u001b[38;5;28;43mself\u001b[39;49m\u001b[38;5;241;43m.\u001b[39;49m\u001b[43m_connection\u001b[49m\u001b[38;5;241;43m.\u001b[39;49m\u001b[43mcmd_query\u001b[49m\u001b[43m(\u001b[49m\u001b[43mstmt\u001b[49m\u001b[43m)\u001b[49m)\n\u001b[0;32m    552\u001b[0m     \u001b[38;5;28;01mexcept\u001b[39;00m errors\u001b[38;5;241m.\u001b[39mInterfaceError:\n\u001b[0;32m    553\u001b[0m         \u001b[38;5;28;01mif\u001b[39;00m \u001b[38;5;28mself\u001b[39m\u001b[38;5;241m.\u001b[39m_connection\u001b[38;5;241m.\u001b[39m_have_next_result:  \u001b[38;5;66;03m# pylint: disable=W0212\u001b[39;00m\n",
      "File \u001b[1;32mc:\\users\\aregmi\\appdata\\local\\programs\\python\\python38\\lib\\site-packages\\mysql\\connector\\connection.py:490\u001b[0m, in \u001b[0;36mMySQLConnection.cmd_query\u001b[1;34m(self, query, raw, buffered, raw_as_string)\u001b[0m\n\u001b[0;32m    488\u001b[0m \u001b[38;5;28;01mif\u001b[39;00m \u001b[38;5;129;01mnot\u001b[39;00m \u001b[38;5;28misinstance\u001b[39m(query, \u001b[38;5;28mbytes\u001b[39m):\n\u001b[0;32m    489\u001b[0m     query \u001b[38;5;241m=\u001b[39m query\u001b[38;5;241m.\u001b[39mencode(\u001b[38;5;124m'\u001b[39m\u001b[38;5;124mutf-8\u001b[39m\u001b[38;5;124m'\u001b[39m)\n\u001b[1;32m--> 490\u001b[0m result \u001b[38;5;241m=\u001b[39m \u001b[38;5;28;43mself\u001b[39;49m\u001b[38;5;241;43m.\u001b[39;49m\u001b[43m_handle_result\u001b[49m\u001b[43m(\u001b[49m\u001b[38;5;28;43mself\u001b[39;49m\u001b[38;5;241;43m.\u001b[39;49m\u001b[43m_send_cmd\u001b[49m\u001b[43m(\u001b[49m\u001b[43mServerCmd\u001b[49m\u001b[38;5;241;43m.\u001b[39;49m\u001b[43mQUERY\u001b[49m\u001b[43m,\u001b[49m\u001b[43m \u001b[49m\u001b[43mquery\u001b[49m\u001b[43m)\u001b[49m\u001b[43m)\u001b[49m\n\u001b[0;32m    492\u001b[0m \u001b[38;5;28;01mif\u001b[39;00m \u001b[38;5;28mself\u001b[39m\u001b[38;5;241m.\u001b[39m_have_next_result:\n\u001b[0;32m    493\u001b[0m     \u001b[38;5;28;01mraise\u001b[39;00m errors\u001b[38;5;241m.\u001b[39mInterfaceError(\n\u001b[0;32m    494\u001b[0m         \u001b[38;5;124m'\u001b[39m\u001b[38;5;124mUse cmd_query_iter for statements with multiple queries.\u001b[39m\u001b[38;5;124m'\u001b[39m)\n",
      "File \u001b[1;32mc:\\users\\aregmi\\appdata\\local\\programs\\python\\python38\\lib\\site-packages\\mysql\\connector\\connection.py:395\u001b[0m, in \u001b[0;36mMySQLConnection._handle_result\u001b[1;34m(self, packet)\u001b[0m\n\u001b[0;32m    393\u001b[0m     \u001b[38;5;28;01mreturn\u001b[39;00m \u001b[38;5;28mself\u001b[39m\u001b[38;5;241m.\u001b[39m_handle_eof(packet)\n\u001b[0;32m    394\u001b[0m \u001b[38;5;28;01melif\u001b[39;00m packet[\u001b[38;5;241m4\u001b[39m] \u001b[38;5;241m==\u001b[39m \u001b[38;5;241m255\u001b[39m:\n\u001b[1;32m--> 395\u001b[0m     \u001b[38;5;28;01mraise\u001b[39;00m errors\u001b[38;5;241m.\u001b[39mget_exception(packet)\n\u001b[0;32m    397\u001b[0m \u001b[38;5;66;03m# We have a text result set\u001b[39;00m\n\u001b[0;32m    398\u001b[0m column_count \u001b[38;5;241m=\u001b[39m \u001b[38;5;28mself\u001b[39m\u001b[38;5;241m.\u001b[39m_protocol\u001b[38;5;241m.\u001b[39mparse_column_count(packet)\n",
      "\u001b[1;31mIntegrityError\u001b[0m: 1062 (23000): Duplicate entry '8' for key 'PRIMARY'"
     ]
    }
   ],
   "source": [
    "sql = '''INSERT INTO student(sn, name, physics, chemistry, math, english, nepali, total, per, grade) \n",
    "VALUES (8,'Ram',78,79,93,67,78,415,83.5,'A')'''\n",
    "db.execute(sql)\n",
    "database.commit()"
   ]
  },
  {
   "cell_type": "code",
   "execution_count": 13,
   "id": "6f2064a5",
   "metadata": {},
   "outputs": [
    {
     "name": "stdout",
     "output_type": "stream",
     "text": [
      "Enter name = Ram\n",
      "Enter physics = 89\n",
      "Enter chemistry = 87\n",
      "Enter math = 90\n",
      "Enter english = 85\n",
      "Enter nepali = 80\n"
     ]
    }
   ],
   "source": [
    "name = input(\"Enter name = \")\n",
    "physics = int(input(\"Enter physics = \"))\n",
    "chemistry = int(input(\"Enter chemistry = \"))\n",
    "math = int(input(\"Enter math = \"))\n",
    "english = int(input(\"Enter english = \"))\n",
    "nepali = int(input(\"Enter nepali = \"))\n",
    "\n",
    "total = physics+chemistry+math+english+nepali\n",
    "per = total/5 \n",
    "if per >= 80:\n",
    "    grade = \"A\"\n",
    "elif per >= 60:\n",
    "    grade = \"B\"\n",
    "elif per >= 45:\n",
    "    grade = \"C\"\n",
    "else:\n",
    "    grade = \"F\"\n",
    "    \n",
    "sql = f'''INSERT INTO student(name, physics, chemistry, math, english, nepali, total, per, grade) \n",
    "VALUES ('{name}', {physics}, {chemistry}, {math}, {english}, {nepali}, {total}, {per}, '{grade}')'''\n",
    "db.execute(sql)\n",
    "database.commit()"
   ]
  },
  {
   "cell_type": "code",
   "execution_count": 14,
   "id": "ef4e81ad",
   "metadata": {},
   "outputs": [
    {
     "name": "stdout",
     "output_type": "stream",
     "text": [
      "Enter name = Ram\n",
      "Enter physics = 89\n",
      "Enter chemistry = 70\n",
      "Enter math = 85\n",
      "Enter english = 80\n",
      "Enter nepali = 80\n",
      "INSERT INTO student(name, physics, chemistry, math, english, nepali, total, per, grade) \n",
      "VALUES ('Ram', 89, 70, 85, 80, 80, 404, 80.8, 'A')\n"
     ]
    }
   ],
   "source": [
    "name = input(\"Enter name = \")\n",
    "physics = int(input(\"Enter physics = \"))\n",
    "chemistry = int(input(\"Enter chemistry = \"))\n",
    "math = int(input(\"Enter math = \"))\n",
    "english = int(input(\"Enter english = \"))\n",
    "nepali = int(input(\"Enter nepali = \"))\n",
    "\n",
    "total = physics+chemistry+math+english+nepali\n",
    "per = total/5 \n",
    "if per >= 80:\n",
    "    grade = \"A\"\n",
    "elif per >= 60:\n",
    "    grade = \"B\"\n",
    "elif per >= 45:\n",
    "    grade = \"C\"\n",
    "else:\n",
    "    grade = \"F\"\n",
    "    \n",
    "sql = f'''INSERT INTO student(name, physics, chemistry, math, english, nepali, total, per, grade) \n",
    "VALUES ('{name}', {physics}, {chemistry}, {math}, {english}, {nepali}, {total}, {per}, '{grade}')'''\n",
    "print(sql)"
   ]
  },
  {
   "cell_type": "code",
   "execution_count": 15,
   "id": "f19cc602",
   "metadata": {},
   "outputs": [],
   "source": [
    "db.execute(sql)\n",
    "database.commit()"
   ]
  },
  {
   "cell_type": "code",
   "execution_count": 16,
   "id": "5e79c1dd",
   "metadata": {},
   "outputs": [
    {
     "name": "stdout",
     "output_type": "stream",
     "text": [
      "Enter initial name = Ram\n",
      "Enter final name = Shyam\n"
     ]
    }
   ],
   "source": [
    "# To update sql\n",
    "#UPDATE student SET name = 'Ustab' WHERE name = 'Ram'\n",
    "initial = input(\"Enter initial name = \")\n",
    "final = input(\"Enter final name = \")\n",
    "sql = f\"UPDATE student SET name = 'Ustab' WHERE name = 'Ram'\"\n",
    "db.execute(\"UPDATE student SET name = '{final}' WHERE name = '{initial}'\")"
   ]
  },
  {
   "cell_type": "code",
   "execution_count": 17,
   "id": "f1d08a6f",
   "metadata": {},
   "outputs": [
    {
     "name": "stdout",
     "output_type": "stream",
     "text": [
      "Enter name = Ram\n"
     ]
    }
   ],
   "source": [
    "# To Delete sql\n",
    "# DELETE student WHERE name = 'Ram'\n",
    "name = input(\"Enter name = \")\n",
    "sql = \"DELETE FROM student WHERE name = '{name}'\"\n",
    "db.execute(sql)\n",
    "database.commit()"
   ]
  },
  {
   "cell_type": "code",
   "execution_count": null,
   "id": "3db74300",
   "metadata": {},
   "outputs": [],
   "source": []
  }
 ],
 "metadata": {
  "kernelspec": {
   "display_name": "Python 3 (ipykernel)",
   "language": "python",
   "name": "python3"
  },
  "language_info": {
   "codemirror_mode": {
    "name": "ipython",
    "version": 3
   },
   "file_extension": ".py",
   "mimetype": "text/x-python",
   "name": "python",
   "nbconvert_exporter": "python",
   "pygments_lexer": "ipython3",
   "version": "3.8.10"
  }
 },
 "nbformat": 4,
 "nbformat_minor": 5
}
