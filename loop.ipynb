{
 "cells": [
  {
   "cell_type": "code",
   "execution_count": null,
   "id": "303b9dce",
   "metadata": {},
   "outputs": [],
   "source": [
    "# for loop\n",
    "# while loop"
   ]
  },
  {
   "cell_type": "code",
   "execution_count": null,
   "id": "755222fc",
   "metadata": {},
   "outputs": [],
   "source": [
    "# range(5)\n",
    "# range (1, 5)\n",
    "# range (1,5,2)\n",
    "# range gives you sequence of numbers."
   ]
  },
  {
   "cell_type": "code",
   "execution_count": null,
   "id": "a3fe5d5d",
   "metadata": {},
   "outputs": [],
   "source": [
    "for i in range(5): # in makes a sequence.\n",
    "    print(i,\"Hello World\")"
   ]
  },
  {
   "cell_type": "code",
   "execution_count": null,
   "id": "5bf53516",
   "metadata": {},
   "outputs": [],
   "source": [
    "for i in range(1,5): # in makes a sequence.\n",
    "    print(i,\"Hello World\")"
   ]
  },
  {
   "cell_type": "code",
   "execution_count": null,
   "id": "e7f8028e",
   "metadata": {},
   "outputs": [],
   "source": [
    "for i in range(1,5,2): # in makes a sequence. # number 2 means increment by 2\n",
    "    print(i,\"Hello World\")"
   ]
  },
  {
   "cell_type": "code",
   "execution_count": null,
   "id": "5a22a100",
   "metadata": {},
   "outputs": [],
   "source": [
    "n = int(input(\"Enter n = \"))\n",
    "for i in range(1, 11):\n",
    "    print((i*n))"
   ]
  },
  {
   "cell_type": "code",
   "execution_count": null,
   "id": "2ef77ad8",
   "metadata": {},
   "outputs": [],
   "source": [
    "n = int(input(\"Enter n = \"))\n",
    "for i in range(1, 11):\n",
    "    print(n, \"*\", i, \"=\", n*i)"
   ]
  },
  {
   "cell_type": "code",
   "execution_count": null,
   "id": "13647889",
   "metadata": {},
   "outputs": [],
   "source": [
    "n = int(input(\"Enter n = \"))\n",
    "for i in range(1, 11):\n",
    "    print(n, \"*\", i, \"=\", n*i)"
   ]
  },
  {
   "cell_type": "code",
   "execution_count": null,
   "id": "828c5077",
   "metadata": {},
   "outputs": [],
   "source": [
    "s = 0\n",
    "n = int(input(\"Enter n = \"))\n",
    "for i in range(n):\n",
    "    x = int(input(\"Enter x = \"))\n",
    "    s = s+x\n",
    "\n",
    "print(s)"
   ]
  },
  {
   "cell_type": "code",
   "execution_count": null,
   "id": "90dbe2d8",
   "metadata": {},
   "outputs": [],
   "source": [
    "s = str()\n",
    "# s = \"\"\n",
    "n = int(input(\"Enter n = \"))\n",
    "for i in range(n):\n",
    "    x = int(input(\"Enter x = \"))\n",
    "    s = s+x\n",
    "\n",
    "print(s)"
   ]
  },
  {
   "cell_type": "code",
   "execution_count": null,
   "id": "7d0caa75",
   "metadata": {},
   "outputs": [],
   "source": [
    "s = 0\n",
    "n = int(input(\"Enter n = \"))\n",
    "for i in range(n):\n",
    "    name = int(input(\"Enter name = \"))\n",
    "    phone = int(input(\"Enter phone =\"))\n",
    "    s = s+name+\" \"+str(phone)+ \"\\n\"\n",
    "    print(s)\n",
    "\n",
    "print(s)"
   ]
  },
  {
   "cell_type": "code",
   "execution_count": null,
   "id": "7f006424",
   "metadata": {},
   "outputs": [],
   "source": [
    "n = int(input(\"Enter n = \"))\n",
    "for i in range(1, 11):\n",
    "    print(n, \"*\", i, \"=\", n*i)"
   ]
  },
  {
   "cell_type": "code",
   "execution_count": null,
   "id": "7f2a0de9",
   "metadata": {},
   "outputs": [],
   "source": [
    "s = 0\n",
    "n = int(input(\"Enter n = \"))\n",
    "for i in range(n):\n",
    "    x = int(input(\"Enter x = \"))\n",
    "    s = s+x\n",
    "\n",
    "print(s)"
   ]
  },
  {
   "cell_type": "code",
   "execution_count": null,
   "id": "4516501d",
   "metadata": {},
   "outputs": [],
   "source": [
    "s = str()\n",
    "# s = \"\"\n",
    "n = int(input(\"Enter n = \"))\n",
    "for i in range(n):\n",
    "    x = int(input(\"Enter x = \"))\n",
    "    s = s+x\"\\n\"\n",
    "\n",
    "print(s)"
   ]
  },
  {
   "cell_type": "code",
   "execution_count": null,
   "id": "35f87984",
   "metadata": {},
   "outputs": [],
   "source": [
    "s = 0\n",
    "n = int(input(\"Enter n = \"))\n",
    "for i in range(n):\n",
    "    name = input(\"Enter name = \")\n",
    "    phone = int(input(\"Enter phone =\"))\n",
    "    s = s+name+\" \"+str(phone)+\"\\n\"\n",
    "\n",
    "print(s)"
   ]
  },
  {
   "cell_type": "code",
   "execution_count": null,
   "id": "a8d08be7",
   "metadata": {},
   "outputs": [],
   "source": [
    "# 4! = 1*2*3*4 # factorial\n",
    "fac = 2\n",
    "n = int(input(\"Enter n = \"))\n",
    "for i in range(1, n+1):\n",
    "    fac = fac*i\n",
    "    print(fac)"
   ]
  },
  {
   "cell_type": "code",
   "execution_count": null,
   "id": "61b4ff63",
   "metadata": {},
   "outputs": [],
   "source": [
    "#WAP to create a billing taking data from user like (product_name, price, quantity)"
   ]
  },
  {
   "cell_type": "code",
   "execution_count": null,
   "id": "6f4d314c",
   "metadata": {},
   "outputs": [],
   "source": [
    "bill = 0\n",
    "s = str()\n",
    "n = int(input(\"Enter n = \"))\n",
    "for i in range(n):\n",
    "    name = input (\"Enter name =\")\n",
    "    price = int(input(\"Enter price = \"))\n",
    "    quantity = int(input(\"Enter quantity = \"))\n",
    "    total = price*quantity\n",
    "    s = s + name+\" \"+str(price)+\" \"+str(quantity)+\" \"+str(total)+\"\\n\"\n",
    "    bill = bill+total\n",
    "\n",
    "print(s)\n",
    "print(bill)"
   ]
  },
  {
   "cell_type": "code",
   "execution_count": null,
   "id": "1fa7bde9",
   "metadata": {},
   "outputs": [],
   "source": [
    "a = \"Hello World\"\n",
    "for i in a:\n",
    "    print(i, \"Hello World\")"
   ]
  },
  {
   "cell_type": "code",
   "execution_count": null,
   "id": "e422ecb5",
   "metadata": {},
   "outputs": [],
   "source": [
    "a = \"Hello World\"\n",
    "for i in a:\n",
    "    if i != \" \" :\n",
    "        print(i,end =\"\") # print i and go to the end, (print horizontally)"
   ]
  },
  {
   "cell_type": "code",
   "execution_count": null,
   "id": "f3b6ace4",
   "metadata": {},
   "outputs": [],
   "source": [
    "# while <condition>:\n",
    " #   <operation>"
   ]
  },
  {
   "cell_type": "code",
   "execution_count": null,
   "id": "306cfc84",
   "metadata": {},
   "outputs": [],
   "source": [
    "# when you see * sign in the input box,\n",
    "# it means the code has not been executed completely."
   ]
  },
  {
   "cell_type": "code",
   "execution_count": null,
   "id": "ff25c9f0",
   "metadata": {},
   "outputs": [],
   "source": [
    "a = 0 \n",
    "while a<5:\n",
    "    print(a,\"Hello World\")\n",
    "    a = a+1 # a value has incremented."
   ]
  },
  {
   "cell_type": "code",
   "execution_count": null,
   "id": "7452a4c4",
   "metadata": {},
   "outputs": [],
   "source": [
    "a = 5 \n",
    "while a>0:\n",
    "    print(a,\"Hello World\")\n",
    "    a = a-1 "
   ]
  },
  {
   "cell_type": "code",
   "execution_count": null,
   "id": "c01031d3",
   "metadata": {},
   "outputs": [],
   "source": [
    "a = 1 \n",
    "while a<5:\n",
    "    print(a,\"Hello World\")\n",
    "    a = a+2"
   ]
  },
  {
   "cell_type": "code",
   "execution_count": null,
   "id": "b995aaee",
   "metadata": {},
   "outputs": [],
   "source": [
    "a = 1 \n",
    "while a<=5:\n",
    "    print(a,\"Hello World\")\n",
    "    a = a+2"
   ]
  },
  {
   "cell_type": "code",
   "execution_count": null,
   "id": "f884f7dd",
   "metadata": {},
   "outputs": [],
   "source": [
    "n = int(input(\"Enter n = \"))\n",
    "for i in range(1, 11):\n",
    "    print(n, \"*\",i, \"=\", n*1)"
   ]
  },
  {
   "cell_type": "code",
   "execution_count": null,
   "id": "052da98b",
   "metadata": {},
   "outputs": [],
   "source": [
    "i = 1\n",
    "n = int(input(\"Enter n = \"))\n",
    "while i<=10:\n",
    "    print(n, \"*\",i, \"=\", n*1)\n",
    "    i +=1"
   ]
  },
  {
   "cell_type": "code",
   "execution_count": null,
   "id": "98c8d061",
   "metadata": {},
   "outputs": [],
   "source": [
    "a = 1\n",
    "while a<=5:\n",
    "    print(a, \"Hello World\")\n",
    "    a = a+1"
   ]
  },
  {
   "cell_type": "code",
   "execution_count": null,
   "id": "30f24b73",
   "metadata": {},
   "outputs": [],
   "source": [
    "i = 0\n",
    "s = 0\n",
    "n = int(input(\"Enter n = \"))\n",
    "while i<n:\n",
    "    x = int(input(\"Enter x =\"))\n",
    "    s = s+x\n",
    "    i = i+1\n",
    "print(s)"
   ]
  },
  {
   "cell_type": "code",
   "execution_count": 1,
   "id": "ba6df074",
   "metadata": {},
   "outputs": [
    {
     "name": "stdout",
     "output_type": "stream",
     "text": [
      "Enter n =2\n",
      "Enter name = Ram\n",
      "Enter phone = 985176789\n",
      "Enter name = Shyam\n",
      "Enter phone = 098877776\n",
      "Ram 985176789\n",
      "Shyam 98877776\n",
      "\n"
     ]
    }
   ],
   "source": [
    "s = str()\n",
    "i = 0\n",
    "# s = \"\"\n",
    "n = int(input(\"Enter n =\"))\n",
    "while i<n:\n",
    "    name = input(\"Enter name = \")\n",
    "    phone = int(input(\"Enter phone = \"))\n",
    "    s = s+name+\" \"+str(phone)+\"\\n\"\n",
    "    i = i+1\n",
    "\n",
    "print(s)"
   ]
  },
  {
   "cell_type": "code",
   "execution_count": 4,
   "id": "80d2722f",
   "metadata": {},
   "outputs": [
    {
     "name": "stdout",
     "output_type": "stream",
     "text": [
      "Enter n = 5\n",
      "120\n"
     ]
    }
   ],
   "source": [
    "# 4! = 1*2*3*4 # factorial\n",
    "i = 1\n",
    "fac = 1\n",
    "n = int(input(\"Enter n = \"))\n",
    "while i<=n:\n",
    "    fac = fac*i\n",
    "    i = i +1\n",
    "print(fac)"
   ]
  },
  {
   "cell_type": "code",
   "execution_count": null,
   "id": "da9e36fa",
   "metadata": {},
   "outputs": [],
   "source": [
    "# control statement\n",
    "# break\n",
    "# continue"
   ]
  },
  {
   "cell_type": "code",
   "execution_count": 1,
   "id": "bf473b4d",
   "metadata": {},
   "outputs": [
    {
     "name": "stdout",
     "output_type": "stream",
     "text": [
      "0\n",
      "1\n",
      "2\n",
      "3\n",
      "4\n"
     ]
    }
   ],
   "source": [
    "for i in range(20):\n",
    "    if i == 5:\n",
    "        break\n",
    "    print(i)"
   ]
  },
  {
   "cell_type": "code",
   "execution_count": 2,
   "id": "04ed1261",
   "metadata": {},
   "outputs": [
    {
     "name": "stdout",
     "output_type": "stream",
     "text": [
      "0\n",
      "1\n",
      "2\n",
      "3\n",
      "4\n",
      "6\n",
      "7\n",
      "8\n",
      "9\n"
     ]
    }
   ],
   "source": [
    "for i in range(10):\n",
    "    if i == 5:\n",
    "        continue # it will return the loop on top, buttom cod will not run\n",
    "    print(i) # went from 4 to 6, the code skipped 5"
   ]
  },
  {
   "cell_type": "code",
   "execution_count": 5,
   "id": "ea84abe4",
   "metadata": {},
   "outputs": [
    {
     "name": "stdout",
     "output_type": "stream",
     "text": [
      "H\n",
      "e\n",
      "l\n",
      "l\n",
      "o\n"
     ]
    }
   ],
   "source": [
    "a = \"Hello World\"\n",
    "for i in a:\n",
    "    if i == \" \":\n",
    "        break\n",
    "    print(i)"
   ]
  },
  {
   "cell_type": "code",
   "execution_count": 6,
   "id": "ae34295f",
   "metadata": {},
   "outputs": [
    {
     "name": "stdout",
     "output_type": "stream",
     "text": [
      "HelloWorld"
     ]
    }
   ],
   "source": [
    "a = \"Hello World\"\n",
    "for i in a:\n",
    "    if i == \" \":\n",
    "        continue\n",
    "    print(i, end= \"\")"
   ]
  },
  {
   "cell_type": "code",
   "execution_count": null,
   "id": "e8a9d818",
   "metadata": {},
   "outputs": [],
   "source": [
    "a = 1\n",
    "while a<=5:\n",
    "    print(a, \"Hello World\")\n",
    "    a = a+0.5 # while loop you can use float and in range you cannot use float"
   ]
  },
  {
   "cell_type": "code",
   "execution_count": null,
   "id": "fe59b48e",
   "metadata": {},
   "outputs": [],
   "source": [
    "#WAP to find prime and composite numbers 0, 1, 2, 3, 5, 8"
   ]
  },
  {
   "cell_type": "code",
   "execution_count": null,
   "id": "5068a59d",
   "metadata": {},
   "outputs": [],
   "source": [
    "Input = int(input(\"Enter a number to check: \"))\n",
    "count = 0\n",
    "\n",
    "for number in range(1, Input +1):\n",
    "    remainder = Input%number\n",
    "    if (remainder == 0):\n",
    "        count = count+1\n",
    "\n",
    "if (count == 1):\n",
    "    print(\"The number is neither prime nor composite.\")\n",
    "\n",
    "if (count == 2):\n",
    "    print(\"The number is a prime number.\")\n",
    "\n",
    "elif(count > 3):\n",
    "    print(\"The number is a composite number.\")"
   ]
  }
 ],
 "metadata": {
  "kernelspec": {
   "display_name": "Python 3 (ipykernel)",
   "language": "python",
   "name": "python3"
  },
  "language_info": {
   "codemirror_mode": {
    "name": "ipython",
    "version": 3
   },
   "file_extension": ".py",
   "mimetype": "text/x-python",
   "name": "python",
   "nbconvert_exporter": "python",
   "pygments_lexer": "ipython3",
   "version": "3.8.10"
  }
 },
 "nbformat": 4,
 "nbformat_minor": 5
}
