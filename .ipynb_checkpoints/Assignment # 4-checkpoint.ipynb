{
 "cells": [
  {
   "cell_type": "code",
   "execution_count": 4,
   "id": "9c0effa8",
   "metadata": {},
   "outputs": [
    {
     "name": "stdout",
     "output_type": "stream",
     "text": [
      "Please enter a string: Avisek\n",
      "The number of vowels: 3\n",
      "The number of consonant: 3\n"
     ]
    }
   ],
   "source": [
    "str =input(\"Please enter a string: \");\n",
    "\n",
    "vowels=0\n",
    "consonants=0\n",
    "\n",
    "for i in str:\n",
    "    if(i == 'a'or i == 'e'or i == 'i'or i == 'o'or i == 'u' or i == 'A'or i == 'E'or i == 'I'or i == 'O'or i == 'U' ):\n",
    "        \n",
    "           vowels=vowels+1;\n",
    "    else:\n",
    "        consonants=consonants+1;\n",
    "        \n",
    "\n",
    "print(\"The number of vowels:\",vowels);\n",
    "print(\"The number of consonant:\",consonants);"
   ]
  }
 ],
 "metadata": {
  "kernelspec": {
   "display_name": "Python 3 (ipykernel)",
   "language": "python",
   "name": "python3"
  },
  "language_info": {
   "codemirror_mode": {
    "name": "ipython",
    "version": 3
   },
   "file_extension": ".py",
   "mimetype": "text/x-python",
   "name": "python",
   "nbconvert_exporter": "python",
   "pygments_lexer": "ipython3",
   "version": "3.8.10"
  }
 },
 "nbformat": 4,
 "nbformat_minor": 5
}
