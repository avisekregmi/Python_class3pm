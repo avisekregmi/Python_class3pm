{
 "cells": [
  {
   "cell_type": "code",
   "execution_count": 21,
   "id": "697718e9",
   "metadata": {},
   "outputs": [
    {
     "name": "stdout",
     "output_type": "stream",
     "text": [
      "Str2 is the rotation of str1\n"
     ]
    }
   ],
   "source": [
    "str1 = \"NEPALINDIACHINA\" \n",
    "str2 = \"INDIACHINANEPAL\" \n",
    "\n",
    "str3 = str1 + str1\n",
    "if len(str1) != len(str2):\n",
    "    print(\"False\")\n",
    "\n",
    "else:\n",
    "    if str2 in str3:\n",
    "        print(\"Str2 is the rotation of str1\")\n",
    "    \n",
    "    else: \n",
    "        print(\"Str2 is not rotation of str2\")"
   ]
  },
  {
   "cell_type": "code",
   "execution_count": 22,
   "id": "09715a49",
   "metadata": {},
   "outputs": [
    {
     "name": "stdout",
     "output_type": "stream",
     "text": [
      "Str2 is not rotation of str2\n"
     ]
    }
   ],
   "source": [
    "str1 = \"NEPALINDIACHINA\" \n",
    "str2 = \"indiachinanepal\" \n",
    "\n",
    "str3 = str1 + str1\n",
    "if len(str1) != len(str2):\n",
    "    print(\"False\")\n",
    "\n",
    "else:\n",
    "    if str2 in str3:\n",
    "        print(\"Str2 is the rotation of str1\")\n",
    "    \n",
    "    else: \n",
    "        print(\"Str2 is not rotation of str2\")"
   ]
  },
  {
   "cell_type": "code",
   "execution_count": 32,
   "id": "3ac1dbc9",
   "metadata": {},
   "outputs": [
    {
     "name": "stdout",
     "output_type": "stream",
     "text": [
      "I\n",
      "like\n",
      "Apple,\n",
      "Banana,\n",
      "Orange,\n",
      "and\n",
      "Kiwi\n"
     ]
    }
   ],
   "source": [
    "s =\"I like Apple, Banana, Orange, and Kiwi\"\n",
    "fruits = [\"Apple\", \"Banana\", \"Orange\", \"Kiwi\"]\n",
    "x = s.split()\n",
    "for i in x:\n",
    "    print(i)\n",
    "    if i == \"Appple\" or i == \"Banana\" or i == \"Orange\" or i == \"Kiwi\":\n",
    "         "
   ]
  },
  {
   "cell_type": "code",
   "execution_count": 33,
   "id": "ec56678d",
   "metadata": {},
   "outputs": [],
   "source": [
    "txt = s =\"I like Apple, Banana, Orange, and Kiwi\""
   ]
  },
  {
   "cell_type": "code",
   "execution_count": 34,
   "id": "e88d52b2",
   "metadata": {},
   "outputs": [],
   "source": [
    "txt = txt.replace(\",\", '')"
   ]
  },
  {
   "cell_type": "code",
   "execution_count": 35,
   "id": "ab2fe680",
   "metadata": {},
   "outputs": [
    {
     "data": {
      "text/plain": [
       "'I like Apple, Banana, Orange, and Kiwi'"
      ]
     },
     "execution_count": 35,
     "metadata": {},
     "output_type": "execute_result"
    }
   ],
   "source": [
    "txt"
   ]
  },
  {
   "cell_type": "code",
   "execution_count": null,
   "id": "33292a8c",
   "metadata": {},
   "outputs": [],
   "source": []
  }
 ],
 "metadata": {
  "kernelspec": {
   "display_name": "Python 3 (ipykernel)",
   "language": "python",
   "name": "python3"
  },
  "language_info": {
   "codemirror_mode": {
    "name": "ipython",
    "version": 3
   },
   "file_extension": ".py",
   "mimetype": "text/x-python",
   "name": "python",
   "nbconvert_exporter": "python",
   "pygments_lexer": "ipython3",
   "version": "3.8.10"
  }
 },
 "nbformat": 4,
 "nbformat_minor": 5
}
