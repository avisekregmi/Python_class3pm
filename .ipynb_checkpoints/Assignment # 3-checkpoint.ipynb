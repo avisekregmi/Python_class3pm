{
 "cells": [
  {
   "cell_type": "code",
   "execution_count": 7,
   "id": "9a98de83",
   "metadata": {},
   "outputs": [
    {
     "name": "stdout",
     "output_type": "stream",
     "text": [
      "Enter age:5\n",
      "The person 5 is not eligible for voting\n"
     ]
    }
   ],
   "source": [
    "age = int(input(\"Enter age:\"))\n",
    "\n",
    "if age >= 18:\n",
    "    print(\"The person {} is eligible for voting\".format(age))\n",
    "\n",
    "else:\n",
    "    print(\"The person {} is not eligible for voting\".format(age)) "
   ]
  },
  {
   "cell_type": "code",
   "execution_count": 8,
   "id": "4fdd786b",
   "metadata": {},
   "outputs": [
    {
     "name": "stdout",
     "output_type": "stream",
     "text": [
      "Enter age:20\n",
      "The person 20 is eligible for voting\n"
     ]
    }
   ],
   "source": [
    "age = int(input(\"Enter age:\"))\n",
    "\n",
    "if age >= 18:\n",
    "    print(\"The person {} is eligible for voting\".format(age))\n",
    "\n",
    "else:\n",
    "    print(\"The person {} is not eligible for voting\".format(age)) "
   ]
  },
  {
   "cell_type": "code",
   "execution_count": 11,
   "id": "3791c786",
   "metadata": {},
   "outputs": [
    {
     "name": "stdout",
     "output_type": "stream",
     "text": [
      "Enter the number whose divisibility needs to be checked:9\n",
      "Enter the number with which divisibility needs to be checked:3\n",
      "The number 9 is divisible by three\n"
     ]
    }
   ],
   "source": [
    "num = int (input (\"Enter the number whose divisibility needs to be checked:\")) \n",
    "\n",
    "div = int (input (\"Enter the number with which divisibility needs to be checked:\"))\n",
    "\n",
    "if num % div == 0:\n",
    "    \n",
    "    print(\"The number {} is divisible by three\".format(num))\n",
    "\n",
    "else:\n",
    "    \n",
    "    print(\"The numer {} is not divisible by three\".format(num)) \n"
   ]
  },
  {
   "cell_type": "code",
   "execution_count": 1,
   "id": "5b90cf32",
   "metadata": {},
   "outputs": [
    {
     "name": "stdout",
     "output_type": "stream",
     "text": [
      "Enter your unit:101\n",
      "The charge is Rs.5 per unit.\n"
     ]
    }
   ],
   "source": [
    "unit = int(input(\"Enter your unit:\"))\n",
    "\n",
    "if unit  <= 100:\n",
    "    print(\"There is no charge:\") \n",
    "    \n",
    "elif unit <= 200:\n",
    "    charge = (unit-100) * 5\n",
    "    print(\"The charge\") \n",
    "        \n",
    "elif: unit > 200:\n",
    "    charge (unit - 200) * 10\n",
    "    print(\"The charge after 200 units is Rs.10 per unit.\") "
   ]
  },
  {
   "cell_type": "code",
   "execution_count": 10,
   "id": "54f0b5ca",
   "metadata": {},
   "outputs": [
    {
     "name": "stdout",
     "output_type": "stream",
     "text": [
      "Enter a number: 70\n",
      "Hello\n"
     ]
    }
   ],
   "source": [
    "num = int(input(\"Enter a number: \"))\n",
    "\n",
    "if num % 5 == 0:\n",
    "    print(\"Hello\")\n",
    "else:\n",
    "    print (\"Bye\")\n"
   ]
  },
  {
   "cell_type": "code",
   "execution_count": 3,
   "id": "645f0582",
   "metadata": {},
   "outputs": [
    {
     "name": "stdout",
     "output_type": "stream",
     "text": [
      "enter a number56\n",
      "The last digit is div. by 3\n"
     ]
    }
   ],
   "source": [
    "user_input = int(input (\"enter a number\"))\n",
    "rem = user_input % 10\n",
    "if rem % 3 == 0:\n",
    "    print (\"The last digit is div. by 3\")\n",
    "else:\n",
    "    print (\"Not div by 3\")"
   ]
  },
  {
   "cell_type": "code",
   "execution_count": 5,
   "id": "0af86bf8",
   "metadata": {},
   "outputs": [
    {
     "name": "stdout",
     "output_type": "stream",
     "text": [
      "Enter your unit:150\n",
      "The cost is 250\n"
     ]
    }
   ],
   "source": [
    "unit = int(input(\"Enter your unit:\"))\n",
    "price = 0\n",
    "\n",
    "if unit  <= 100:\n",
    "    print(\"The cost is {}\".format(price)) \n",
    "    \n",
    "elif unit <= 200:\n",
    "    unit = unit - 100\n",
    "    price = price + unit * 5\n",
    "    print(\"The cost is {}\".format(price))\n",
    "\n",
    "else:\n",
    "    price = (100 * 5) + (unit - 200) * 10\n",
    "    print(\"The cost is {}\".format(price))\n",
    "        \n"
   ]
  },
  {
   "cell_type": "code",
   "execution_count": null,
   "id": "368be788",
   "metadata": {},
   "outputs": [],
   "source": []
  }
 ],
 "metadata": {
  "kernelspec": {
   "display_name": "Python 3 (ipykernel)",
   "language": "python",
   "name": "python3"
  },
  "language_info": {
   "codemirror_mode": {
    "name": "ipython",
    "version": 3
   },
   "file_extension": ".py",
   "mimetype": "text/x-python",
   "name": "python",
   "nbconvert_exporter": "python",
   "pygments_lexer": "ipython3",
   "version": "3.8.10"
  }
 },
 "nbformat": 4,
 "nbformat_minor": 5
}
