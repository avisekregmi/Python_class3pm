{
 "cells": [
  {
   "cell_type": "code",
   "execution_count": 1,
   "id": "1714e6d3",
   "metadata": {},
   "outputs": [],
   "source": [
    "# comprehensions: List, Dictionary"
   ]
  },
  {
   "cell_type": "code",
   "execution_count": 3,
   "id": "0fcd5dd4",
   "metadata": {},
   "outputs": [
    {
     "name": "stdout",
     "output_type": "stream",
     "text": [
      "Enter value = 5\n",
      "Enter value = 234\n",
      "Enter value = 345\n",
      "Enter value = 576\n",
      "Enter value = 345\n"
     ]
    }
   ],
   "source": [
    "a = [int(input(\"Enter value = \")) for i in range (5)]\n"
   ]
  },
  {
   "cell_type": "code",
   "execution_count": 7,
   "id": "aa218e82",
   "metadata": {},
   "outputs": [
    {
     "name": "stdout",
     "output_type": "stream",
     "text": [
      "[6, 76]\n"
     ]
    }
   ],
   "source": [
    "l = [23,5,6,65,65,76]\n",
    "a = [i for i in l if i%2 ==0]\n",
    "print(a)"
   ]
  },
  {
   "cell_type": "code",
   "execution_count": 48,
   "id": "763aa03e",
   "metadata": {},
   "outputs": [
    {
     "name": "stdout",
     "output_type": "stream",
     "text": [
      "['Apple', 'Cat']\n"
     ]
    }
   ],
   "source": [
    "l = [\"Apple\", \"ball\", \"Cat\", \"dog\"]\n",
    "a = [i for i in l if i[0].isupper()]\n",
    "print(a)"
   ]
  },
  {
   "cell_type": "code",
   "execution_count": 10,
   "id": "311c1f1e",
   "metadata": {},
   "outputs": [
    {
     "name": "stdout",
     "output_type": "stream",
     "text": [
      "{1: 1, 2: 4, 3: 9, 4: 16}\n"
     ]
    }
   ],
   "source": [
    "# dict comphrension\n",
    "d = {i:i**2 for i in range (1,5)}\n",
    "print(d)"
   ]
  },
  {
   "cell_type": "code",
   "execution_count": 53,
   "id": "44f2649f",
   "metadata": {},
   "outputs": [
    {
     "data": {
      "text/plain": [
       "dict_items([('Apple', 'APPLE'), ('ball', 'BALL'), ('Cat', 'CAT'), ('dog', 'DOG')])"
      ]
     },
     "execution_count": 53,
     "metadata": {},
     "output_type": "execute_result"
    }
   ],
   "source": [
    "l = ['Apple', 'ball', 'Cat', 'dog']\n",
    "d = {i:i.upper() for i in l}\n",
    "d.items()"
   ]
  },
  {
   "cell_type": "code",
   "execution_count": 12,
   "id": "04b8f046",
   "metadata": {},
   "outputs": [
    {
     "data": {
      "text/plain": [
       "dict_values(['APPLE', 'BALL', 'CAT', 'DOG'])"
      ]
     },
     "execution_count": 12,
     "metadata": {},
     "output_type": "execute_result"
    }
   ],
   "source": [
    "l = ['Apple', 'ball', 'Cat', 'dog'] # lower case value changes to uppercase\n",
    "d = {i:i.upper() for i in l}\n",
    "d.values()\n"
   ]
  },
  {
   "cell_type": "code",
   "execution_count": 13,
   "id": "be1f1b40",
   "metadata": {},
   "outputs": [],
   "source": [
    "# Date & Time"
   ]
  },
  {
   "cell_type": "code",
   "execution_count": 21,
   "id": "c06b2afa",
   "metadata": {},
   "outputs": [
    {
     "name": "stdout",
     "output_type": "stream",
     "text": [
      "2022-09-21 11:54:48.080377\n"
     ]
    }
   ],
   "source": [
    "import datetime\n",
    "x = datetime.datetime.now()\n",
    "print(x)"
   ]
  },
  {
   "cell_type": "code",
   "execution_count": 60,
   "id": "df190e57",
   "metadata": {},
   "outputs": [
    {
     "name": "stdout",
     "output_type": "stream",
     "text": [
      "0:00:00\n"
     ]
    }
   ],
   "source": [
    "import datetime\n",
    "x = datetime.datetime.now()\n",
    "for i in range(1,1000):\n",
    "    pass\n",
    "y = datetime.datetime.now()\n",
    "print(y-x)"
   ]
  },
  {
   "cell_type": "code",
   "execution_count": 57,
   "id": "644c070a",
   "metadata": {},
   "outputs": [
    {
     "name": "stdout",
     "output_type": "stream",
     "text": [
      "0:00:00\n",
      "499500\n"
     ]
    }
   ],
   "source": [
    "import datetime\n",
    "x = datetime.datetime.now()\n",
    "s = 0\n",
    "for i in range(1,1000):\n",
    "    s = s+i\n",
    "y = datetime.datetime.now()\n",
    "print(y-x)\n",
    "print(s)"
   ]
  },
  {
   "cell_type": "code",
   "execution_count": 61,
   "id": "bbe99c39",
   "metadata": {},
   "outputs": [
    {
     "name": "stdout",
     "output_type": "stream",
     "text": [
      "Enter z = 10\n",
      "0:00:12.466408\n",
      "499500\n"
     ]
    }
   ],
   "source": [
    "import datetime\n",
    "x = datetime.datetime.now()\n",
    "z = input(\"Enter z = \")\n",
    "y = datetime.datetime.now()\n",
    "print(y-x)\n",
    "print(s)"
   ]
  },
  {
   "cell_type": "code",
   "execution_count": 63,
   "id": "babedd6f",
   "metadata": {},
   "outputs": [
    {
     "name": "stdout",
     "output_type": "stream",
     "text": [
      "06/01/18\n"
     ]
    }
   ],
   "source": [
    "import datetime # to print which day is 2018,6,1\n",
    "\n",
    "x = datetime.datetime(2018, 6, 1)\n",
    "\n",
    "print(x.strftime(\"%D\"))"
   ]
  },
  {
   "cell_type": "code",
   "execution_count": 64,
   "id": "2c146bd3",
   "metadata": {},
   "outputs": [
    {
     "name": "stdout",
     "output_type": "stream",
     "text": [
      "Fri Jun  1 00:00:00 2018\n"
     ]
    }
   ],
   "source": [
    "import datetime # to print which day is 2018,6,1 # mostly used\n",
    "\n",
    "x = datetime.datetime(2018, 6, 1)\n",
    "\n",
    "print(x.strftime(\"%c\"))"
   ]
  },
  {
   "cell_type": "code",
   "execution_count": 65,
   "id": "7adac225",
   "metadata": {},
   "outputs": [
    {
     "name": "stdout",
     "output_type": "stream",
     "text": [
      "Wed Sep 21 13:34:40 2022\n"
     ]
    }
   ],
   "source": [
    "import datetime # to print current date and time\n",
    "\n",
    "x = datetime.datetime.now()\n",
    "\n",
    "print(x.strftime(\"%c\"))"
   ]
  },
  {
   "cell_type": "code",
   "execution_count": 67,
   "id": "1e02bf19",
   "metadata": {},
   "outputs": [
    {
     "data": {
      "text/plain": [
       "[]"
      ]
     },
     "execution_count": 67,
     "metadata": {},
     "output_type": "execute_result"
    }
   ],
   "source": [
    "import os \n",
    "os.listdir()"
   ]
  },
  {
   "cell_type": "code",
   "execution_count": 69,
   "id": "ac138661",
   "metadata": {},
   "outputs": [
    {
     "data": {
      "text/plain": [
       "['newfolder']"
      ]
     },
     "execution_count": 69,
     "metadata": {},
     "output_type": "execute_result"
    }
   ],
   "source": [
    "os.mkdir('newfolder')\n",
    "os.listdir() # to create a new folder"
   ]
  },
  {
   "cell_type": "code",
   "execution_count": 70,
   "id": "a8b2e452",
   "metadata": {},
   "outputs": [
    {
     "data": {
      "text/plain": [
       "['newfolder']"
      ]
     },
     "execution_count": 70,
     "metadata": {},
     "output_type": "execute_result"
    }
   ],
   "source": [
    "os.listdir() # to list all the filenames"
   ]
  },
  {
   "cell_type": "code",
   "execution_count": 33,
   "id": "08514e8a",
   "metadata": {},
   "outputs": [],
   "source": [
    "os.chdir('newfolder/') # to go inside folder"
   ]
  },
  {
   "cell_type": "code",
   "execution_count": 71,
   "id": "55f20b43",
   "metadata": {},
   "outputs": [],
   "source": [
    "os.rename('newfolder/', 'new') # to rename folder"
   ]
  },
  {
   "cell_type": "code",
   "execution_count": 73,
   "id": "5b0a2a2e",
   "metadata": {},
   "outputs": [
    {
     "data": {
      "text/plain": [
       "['new']"
      ]
     },
     "execution_count": 73,
     "metadata": {},
     "output_type": "execute_result"
    }
   ],
   "source": [
    "os.listdir() "
   ]
  },
  {
   "cell_type": "code",
   "execution_count": 75,
   "id": "875501ca",
   "metadata": {},
   "outputs": [
    {
     "ename": "FileNotFoundError",
     "evalue": "[WinError 2] The system cannot find the file specified: 'newdata.txt'",
     "output_type": "error",
     "traceback": [
      "\u001b[1;31m---------------------------------------------------------------------------\u001b[0m",
      "\u001b[1;31mFileNotFoundError\u001b[0m                         Traceback (most recent call last)",
      "Input \u001b[1;32mIn [75]\u001b[0m, in \u001b[0;36m<cell line: 1>\u001b[1;34m()\u001b[0m\n\u001b[1;32m----> 1\u001b[0m \u001b[43mos\u001b[49m\u001b[38;5;241;43m.\u001b[39;49m\u001b[43mremove\u001b[49m\u001b[43m(\u001b[49m\u001b[38;5;124;43m'\u001b[39;49m\u001b[38;5;124;43mnewdata.txt\u001b[39;49m\u001b[38;5;124;43m'\u001b[39;49m\u001b[43m)\u001b[49m\n",
      "\u001b[1;31mFileNotFoundError\u001b[0m: [WinError 2] The system cannot find the file specified: 'newdata.txt'"
     ]
    }
   ],
   "source": [
    "os.remove('newdata.txt')  # to remove folder"
   ]
  },
  {
   "cell_type": "code",
   "execution_count": 2,
   "id": "13b097bf",
   "metadata": {},
   "outputs": [
    {
     "data": {
      "text/html": [
       "<div>\n",
       "<style scoped>\n",
       "    .dataframe tbody tr th:only-of-type {\n",
       "        vertical-align: middle;\n",
       "    }\n",
       "\n",
       "    .dataframe tbody tr th {\n",
       "        vertical-align: top;\n",
       "    }\n",
       "\n",
       "    .dataframe thead th {\n",
       "        text-align: right;\n",
       "    }\n",
       "</style>\n",
       "<table border=\"1\" class=\"dataframe\">\n",
       "  <thead>\n",
       "    <tr style=\"text-align: right;\">\n",
       "      <th></th>\n",
       "      <th>name</th>\n",
       "      <th>age</th>\n",
       "      <th>add</th>\n",
       "    </tr>\n",
       "  </thead>\n",
       "  <tbody>\n",
       "    <tr>\n",
       "      <th>0</th>\n",
       "      <td>Ram</td>\n",
       "      <td>34</td>\n",
       "      <td>Kathmandu</td>\n",
       "    </tr>\n",
       "    <tr>\n",
       "      <th>1</th>\n",
       "      <td>Shyam</td>\n",
       "      <td>56</td>\n",
       "      <td>Bhaktapur</td>\n",
       "    </tr>\n",
       "    <tr>\n",
       "      <th>2</th>\n",
       "      <td>Hari</td>\n",
       "      <td>78</td>\n",
       "      <td>Lalitpur</td>\n",
       "    </tr>\n",
       "  </tbody>\n",
       "</table>\n",
       "</div>"
      ],
      "text/plain": [
       "    name  age        add\n",
       "0    Ram   34  Kathmandu\n",
       "1  Shyam   56  Bhaktapur\n",
       "2   Hari   78   Lalitpur"
      ]
     },
     "execution_count": 2,
     "metadata": {},
     "output_type": "execute_result"
    }
   ],
   "source": [
    "import pandas as pd\n",
    "data ={\"name\":[\"Ram\", \"Shyam\", \"Hari\"],\n",
    "       \"age\": [34,56,78],\n",
    "       \"add\": [\"Kathmandu\", \"Bhaktapur\", \"Lalitpur\"]}\n",
    "df = pd.DataFrame(data) \n",
    "df.to_json(\"clean_data.json\") \n",
    "df"
   ]
  },
  {
   "cell_type": "code",
   "execution_count": 3,
   "id": "2130beb9",
   "metadata": {},
   "outputs": [
    {
     "data": {
      "image/png": "[encoded data removed]",
      "text/plain": [
       "<Figure size 432x288 with 1 Axes>"
      ]
     },
     "metadata": {
      "needs_background": "light"
     },
     "output_type": "display_data"
    }
   ],
   "source": [
    "from matplotlib import pyplot as plt\n",
    "\n",
    "#Plotting to our canvas\n",
    "\n",
    "plt.plot([1,2,3],[4,5,1])\n",
    "\n",
    "#Showing what we plotted\n",
    "\n",
    "plt.show()"
   ]
  },
  {
   "cell_type": "code",
   "execution_count": 52,
   "id": "b203e39b",
   "metadata": {},
   "outputs": [
    {
     "data": {
      "image/png": "[encoded data removed]",
      "text/plain": [
       "<Figure size 432x288 with 1 Axes>"
      ]
     },
     "metadata": {
      "needs_background": "light"
     },
     "output_type": "display_data"
    }
   ],
   "source": [
    "x = [5,2,7]\n",
    "\n",
    "y = [2,16,4]\n",
    "\n",
    "plt.plot(x,y)\n",
    "\n",
    "plt.title('Info')\n",
    "\n",
    "plt.ylabel('Y axis')\n",
    "\n",
    "plt.xlabel('X axis')\n",
    "\n",
    "plt.show()"
   ]
  },
  {
   "cell_type": "code",
   "execution_count": 50,
   "id": "356a1972",
   "metadata": {},
   "outputs": [
    {
     "data": {
      "image/png": "[encoded data removed]",
      "text/plain": [
       "<Figure size 432x288 with 1 Axes>"
      ]
     },
     "metadata": {
      "needs_background": "light"
     },
     "output_type": "display_data"
    }
   ],
   "source": [
    "from matplotlib import pyplot as plt\n",
    "\n",
    "x = [5,8,10]\n",
    "\n",
    "y = [12,16,6]\n",
    "\n",
    "x2 = [6,9,11]\n",
    "\n",
    "y2 = [6,15,7]\n",
    "\n",
    "plt.plot(x,y,'g',label='NMB', linewidth=3)\n",
    "\n",
    "plt.plot(x,y2,'r',label='NABIL',linewidth=3)\n",
    "\n",
    "plt.title('Epic Info')\n",
    "\n",
    "plt.ylabel('Stock value')\n",
    "\n",
    "plt.xlabel('No of days')\n",
    "\n",
    "plt.legend()\n",
    "\n",
    "plt.grid(True,color='k')\n",
    "\n",
    "plt.show()"
   ]
  },
  {
   "cell_type": "code",
   "execution_count": 7,
   "id": "e8b418ad",
   "metadata": {},
   "outputs": [
    {
     "data": {
      "image/png": "[encoded data removed]",
      "text/plain": [
       "<Figure size 432x288 with 1 Axes>"
      ]
     },
     "metadata": {
      "needs_background": "light"
     },
     "output_type": "display_data"
    }
   ],
   "source": [
    "from matplotlib import pyplot as plt\n",
    "\n",
    "x = [i for i in range(1,11)]\n",
    "\n",
    "y = [12,16,6,5,7,8,9,0,4,2]\n",
    "\n",
    "y2 = [6,15,7,8,7,8,4,3,5,7]\n",
    "\n",
    "plt.plot(x,y,'g',label='NMB', linewidth=3)\n",
    "\n",
    "plt.plot(x,y2,'r',label='NABIL',linewidth=3)\n",
    "\n",
    "plt.title('Epic Info')\n",
    "\n",
    "plt.ylabel('Stock value')\n",
    "\n",
    "plt.xlabel('No of days')\n",
    "\n",
    "plt.legend()\n",
    "\n",
    "plt.grid(True,color='k')\n",
    "\n",
    "plt.show()"
   ]
  },
  {
   "cell_type": "code",
   "execution_count": 51,
   "id": "458f6979",
   "metadata": {},
   "outputs": [
    {
     "data": {
      "image/png": "[encoded data removed]",
      "text/plain": [
       "<Figure size 432x288 with 1 Axes>"
      ]
     },
     "metadata": {
      "needs_background": "light"
     },
     "output_type": "display_data"
    }
   ],
   "source": [
    "import matplotlib.pyplot as plt\n",
    "\n",
    "population_age = [22,55,62,45,21,22,34,42,42,4,2,102,95,85,55,110,120,70,65,55,111,11,5,80,75,65,54,44,43,42,48]\n",
    "\n",
    "bins = [0,10,20,30,40,50,60,70,80,90,100,110,120]\n",
    "\n",
    "plt.hist(population_age, bins, histtype='bar', rwidth=0.9)\n",
    "\n",
    "plt.xlabel('age groups')\n",
    "\n",
    "plt.ylabel('Number of people')\n",
    "\n",
    "plt.title('Histogram')\n",
    "\n",
    "plt.show()"
   ]
  },
  {
   "cell_type": "code",
   "execution_count": 9,
   "id": "b52bb517",
   "metadata": {},
   "outputs": [
    {
     "data": {
      "image/png": "[encoded data removed]",
      "text/plain": [
       "<Figure size 432x288 with 1 Axes>"
      ]
     },
     "metadata": {
      "needs_background": "light"
     },
     "output_type": "display_data"
    }
   ],
   "source": [
    "import matplotlib.pyplot as plt\n",
    "\n",
    "x = [1,1.5,2,2.5,3,3.5,3.6]\n",
    "\n",
    "y = [7.5,8,8.5,9,9.5,10,10.5]\n",
    "\n",
    "x1=[8,8.5,9,9.5,10,10.5,11]\n",
    "\n",
    "y1=[3,3.5,3.7,4,4.5,5,5.2]\n",
    "\n",
    "plt.scatter(x,y, label='high income low saving',color='r')\n",
    "\n",
    "plt.scatter(x1,y1,label='low income high savings',color='b')\n",
    "\n",
    "plt.xlabel('saving*100')\n",
    "\n",
    "plt.ylabel('income*1000')\n",
    "\n",
    "plt.title('Scatter Plot')\n",
    "\n",
    "plt.legend()\n",
    "\n",
    "plt.show()"
   ]
  },
  {
   "cell_type": "code",
   "execution_count": null,
   "id": "1a553663",
   "metadata": {},
   "outputs": [],
   "source": []
  }
 ],
 "metadata": {
  "kernelspec": {
   "display_name": "Python 3 (ipykernel)",
   "language": "python",
   "name": "python3"
  },
  "language_info": {
   "codemirror_mode": {
    "name": "ipython",
    "version": 3
   },
   "file_extension": ".py",
   "mimetype": "text/x-python",
   "name": "python",
   "nbconvert_exporter": "python",
   "pygments_lexer": "ipython3",
   "version": "3.8.10"
  }
 },
 "nbformat": 4,
 "nbformat_minor": 5
}
