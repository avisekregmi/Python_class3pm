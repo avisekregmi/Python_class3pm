{
 "cells": [
  {
   "cell_type": "code",
   "execution_count": 3,
   "id": "6f3bb2a2",
   "metadata": {},
   "outputs": [],
   "source": [
    "s = \"Hello World\""
   ]
  },
  {
   "cell_type": "code",
   "execution_count": 4,
   "id": "bdda9bf5",
   "metadata": {},
   "outputs": [],
   "source": [
    "start = 0\n",
    "end = len(s)\n",
    "step = 1"
   ]
  },
  {
   "cell_type": "code",
   "execution_count": 10,
   "id": "0023f9fd",
   "metadata": {},
   "outputs": [
    {
     "name": "stdout",
     "output_type": "stream",
     "text": [
      "H\n",
      "e\n",
      "l\n",
      "l\n",
      "o\n",
      " \n",
      "W\n",
      "o\n",
      "r\n",
      "l\n",
      "d\n"
     ]
    }
   ],
   "source": [
    "for index in range(start,end,step):\n",
    "    letter = s[index]\n",
    "    print(letter)"
   ]
  },
  {
   "cell_type": "code",
   "execution_count": 14,
   "id": "f61f8d40",
   "metadata": {},
   "outputs": [
    {
     "name": "stdout",
     "output_type": "stream",
     "text": [
      "0\n",
      "1\n",
      "2\n",
      "3\n",
      "4\n"
     ]
    }
   ],
   "source": [
    "for i in range(0,5, 1):\n",
    "    print(i)"
   ]
  },
  {
   "cell_type": "code",
   "execution_count": 15,
   "id": "c909a2cf",
   "metadata": {},
   "outputs": [],
   "source": [
    "s = \"Hello World\"\n"
   ]
  },
  {
   "cell_type": "code",
   "execution_count": 27,
   "id": "76218835",
   "metadata": {},
   "outputs": [],
   "source": [
    "start = 10\n",
    "end = len(s)\n",
    "step = -1"
   ]
  },
  {
   "cell_type": "code",
   "execution_count": 33,
   "id": "24be8c66",
   "metadata": {},
   "outputs": [],
   "source": [
    "for index in range(start,end,step):\n",
    "    print(letter)"
   ]
  },
  {
   "cell_type": "code",
   "execution_count": 35,
   "id": "127f9e40",
   "metadata": {},
   "outputs": [],
   "source": [
    "s= \"Hello World\""
   ]
  },
  {
   "cell_type": "code",
   "execution_count": 39,
   "id": "d638a84e",
   "metadata": {},
   "outputs": [],
   "source": [
    "start = lens(s) -1\n",
    "end = -1\n",
    "step = -1"
   ]
  },
  {
   "cell_type": "code",
   "execution_count": 44,
   "id": "b412cb17",
   "metadata": {},
   "outputs": [
    {
     "name": "stdout",
     "output_type": "stream",
     "text": [
      "10\n",
      "9\n",
      "8\n",
      "7\n",
      "6\n",
      "5\n",
      "4\n",
      "3\n",
      "2\n",
      "1\n"
     ]
    }
   ],
   "source": [
    "for index in range(start,end,step):\n",
    "    print(index)"
   ]
  },
  {
   "cell_type": "code",
   "execution_count": 43,
   "id": "467acb15",
   "metadata": {},
   "outputs": [
    {
     "name": "stdout",
     "output_type": "stream",
     "text": [
      "11\n"
     ]
    }
   ],
   "source": [
    "s= \"Hello World\"\n",
    "print(len(s))"
   ]
  },
  {
   "cell_type": "code",
   "execution_count": 46,
   "id": "9cf771dc",
   "metadata": {},
   "outputs": [],
   "source": [
    "s= \"Hello World\""
   ]
  },
  {
   "cell_type": "code",
   "execution_count": 55,
   "id": "842b1bb7",
   "metadata": {},
   "outputs": [],
   "source": [
    "greet = \"Hello, good morning!\""
   ]
  },
  {
   "cell_type": "code",
   "execution_count": 56,
   "id": "0e0fc815",
   "metadata": {},
   "outputs": [
    {
     "data": {
      "text/plain": [
       "','"
      ]
     },
     "execution_count": 56,
     "metadata": {},
     "output_type": "execute_result"
    }
   ],
   "source": [
    "greet[5]"
   ]
  },
  {
   "cell_type": "code",
   "execution_count": 57,
   "id": "d0d894b4",
   "metadata": {},
   "outputs": [
    {
     "data": {
      "text/plain": [
       "'Hello'"
      ]
     },
     "execution_count": 57,
     "metadata": {},
     "output_type": "execute_result"
    }
   ],
   "source": [
    "greet[0:5]"
   ]
  },
  {
   "cell_type": "code",
   "execution_count": 58,
   "id": "40f909db",
   "metadata": {},
   "outputs": [
    {
     "data": {
      "text/plain": [
       "', good morning!'"
      ]
     },
     "execution_count": 58,
     "metadata": {},
     "output_type": "execute_result"
    }
   ],
   "source": [
    "greet[5:]"
   ]
  },
  {
   "cell_type": "code",
   "execution_count": 60,
   "id": "bc3f6eed",
   "metadata": {},
   "outputs": [
    {
     "name": "stdout",
     "output_type": "stream",
     "text": [
      "11\n"
     ]
    }
   ],
   "source": [
    "s= \"Hello World\"\n",
    "print(len(s))\n",
    "\n"
   ]
  },
  {
   "cell_type": "code",
   "execution_count": 62,
   "id": "76e3c671",
   "metadata": {},
   "outputs": [],
   "source": [
    "start = len(s) -1\n",
    "end = -1\n",
    "step = -1"
   ]
  },
  {
   "cell_type": "code",
   "execution_count": 63,
   "id": "5f3d0334",
   "metadata": {},
   "outputs": [],
   "source": [
    "s= \"Hello World\"\n",
    "start = len(s) -1\n",
    "end = -1\n",
    "step = -1\n"
   ]
  },
  {
   "cell_type": "code",
   "execution_count": 64,
   "id": "b7baf6ce",
   "metadata": {},
   "outputs": [
    {
     "name": "stdout",
     "output_type": "stream",
     "text": [
      "10\n",
      "9\n",
      "8\n",
      "7\n",
      "6\n",
      "5\n",
      "4\n",
      "3\n",
      "2\n",
      "1\n",
      "0\n"
     ]
    }
   ],
   "source": [
    "for index in range(start,end,step):\n",
    "    print(index)"
   ]
  },
  {
   "cell_type": "code",
   "execution_count": 65,
   "id": "49498d4a",
   "metadata": {},
   "outputs": [
    {
     "name": "stdout",
     "output_type": "stream",
     "text": [
      "consonant = H\n",
      "vowel = e\n",
      "consonant = l\n",
      "consonant = l\n",
      "vowel = o\n",
      "consonant =  \n",
      "consonant = W\n",
      "vowel = o\n",
      "consonant = r\n",
      "consonant = l\n",
      "consonant = d\n"
     ]
    }
   ],
   "source": [
    "for i in range (len(s)):\n",
    "    if s[i] == 'a' or s[i] == 'e' or s[i] == 'i' or s[i] == 'o' or s[i] == 'u':\n",
    "        print(\"vowel = {}\".format(s[i]))\n",
    "    else:\n",
    "        print(\"consonant = {}\".format(s[i])) "
   ]
  },
  {
   "cell_type": "code",
   "execution_count": 66,
   "id": "d0b97787",
   "metadata": {},
   "outputs": [
    {
     "name": "stdout",
     "output_type": "stream",
     "text": [
      "The index is 10 and letter is d\n",
      "The index is 9 and letter is l\n",
      "The index is 8 and letter is r\n",
      "The index is 7 and letter is o\n",
      "The index is 6 and letter is W\n",
      "The index is 5 and letter is  \n",
      "The index is 4 and letter is o\n",
      "The index is 3 and letter is l\n",
      "The index is 2 and letter is l\n",
      "The index is 1 and letter is e\n",
      "The index is 0 and letter is H\n"
     ]
    }
   ],
   "source": [
    "for index in range(start,end,step):\n",
    "    letter = s[index]\n",
    "    print(\"The index is {} and letter is {}\".format(index,letter)) "
   ]
  },
  {
   "cell_type": "code",
   "execution_count": null,
   "id": "9c96979a",
   "metadata": {},
   "outputs": [],
   "source": []
  }
 ],
 "metadata": {
  "kernelspec": {
   "display_name": "Python 3 (ipykernel)",
   "language": "python",
   "name": "python3"
  },
  "language_info": {
   "codemirror_mode": {
    "name": "ipython",
    "version": 3
   },
   "file_extension": ".py",
   "mimetype": "text/x-python",
   "name": "python",
   "nbconvert_exporter": "python",
   "pygments_lexer": "ipython3",
   "version": "3.8.10"
  }
 },
 "nbformat": 4,
 "nbformat_minor": 5
}
