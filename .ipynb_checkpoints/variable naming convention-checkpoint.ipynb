{
 "cells": [
  {
   "cell_type": "code",
   "execution_count": 5,
   "id": "f3db88af",
   "metadata": {},
   "outputs": [],
   "source": [
    "#~ ! @ # & * () -+ <> ?//\\ * Space"
   ]
  },
  {
   "cell_type": "code",
   "execution_count": 1,
   "id": "7c39515f",
   "metadata": {},
   "outputs": [
    {
     "ename": "SyntaxError",
     "evalue": "invalid syntax (2658661868.py, line 1)",
     "output_type": "error",
     "traceback": [
      "\u001b[1;36m  Input \u001b[1;32mIn [1]\u001b[1;36m\u001b[0m\n\u001b[1;33m    @num = 55\u001b[0m\n\u001b[1;37m         ^\u001b[0m\n\u001b[1;31mSyntaxError\u001b[0m\u001b[1;31m:\u001b[0m invalid syntax\n"
     ]
    }
   ],
   "source": [
    "@num = 55"
   ]
  },
  {
   "cell_type": "code",
   "execution_count": 2,
   "id": "9a7b7253",
   "metadata": {},
   "outputs": [
    {
     "ename": "SyntaxError",
     "evalue": "invalid syntax (2602360711.py, line 1)",
     "output_type": "error",
     "traceback": [
      "\u001b[1;36m  Input \u001b[1;32mIn [2]\u001b[1;36m\u001b[0m\n\u001b[1;33m    num@ = 55\u001b[0m\n\u001b[1;37m         ^\u001b[0m\n\u001b[1;31mSyntaxError\u001b[0m\u001b[1;31m:\u001b[0m invalid syntax\n"
     ]
    }
   ],
   "source": [
    "num@ = 55"
   ]
  },
  {
   "cell_type": "code",
   "execution_count": 3,
   "id": "405980a6",
   "metadata": {},
   "outputs": [
    {
     "ename": "SyntaxError",
     "evalue": "cannot assign to operator (638733383.py, line 1)",
     "output_type": "error",
     "traceback": [
      "\u001b[1;36m  Input \u001b[1;32mIn [3]\u001b[1;36m\u001b[0m\n\u001b[1;33m    num/some = 55\u001b[0m\n\u001b[1;37m    ^\u001b[0m\n\u001b[1;31mSyntaxError\u001b[0m\u001b[1;31m:\u001b[0m cannot assign to operator\n"
     ]
    }
   ],
   "source": [
    "num/some = 55"
   ]
  },
  {
   "cell_type": "code",
   "execution_count": 4,
   "id": "5190f22f",
   "metadata": {},
   "outputs": [
    {
     "ename": "SyntaxError",
     "evalue": "invalid syntax (410068903.py, line 1)",
     "output_type": "error",
     "traceback": [
      "\u001b[1;36m  Input \u001b[1;32mIn [4]\u001b[1;36m\u001b[0m\n\u001b[1;33m    @ = 40\u001b[0m\n\u001b[1;37m      ^\u001b[0m\n\u001b[1;31mSyntaxError\u001b[0m\u001b[1;31m:\u001b[0m invalid syntax\n"
     ]
    }
   ],
   "source": [
    "@ = 40"
   ]
  },
  {
   "cell_type": "code",
   "execution_count": 6,
   "id": "563456bc",
   "metadata": {},
   "outputs": [],
   "source": [
    "first_name = 40"
   ]
  },
  {
   "cell_type": "code",
   "execution_count": 7,
   "id": "a79b19b9",
   "metadata": {},
   "outputs": [
    {
     "ename": "SyntaxError",
     "evalue": "invalid syntax (2157805510.py, line 1)",
     "output_type": "error",
     "traceback": [
      "\u001b[1;36m  Input \u001b[1;32mIn [7]\u001b[1;36m\u001b[0m\n\u001b[1;33m    1num = 55\u001b[0m\n\u001b[1;37m     ^\u001b[0m\n\u001b[1;31mSyntaxError\u001b[0m\u001b[1;31m:\u001b[0m invalid syntax\n"
     ]
    }
   ],
   "source": [
    "1num = 55"
   ]
  },
  {
   "cell_type": "code",
   "execution_count": 8,
   "id": "f89913e9",
   "metadata": {},
   "outputs": [],
   "source": [
    "num1 = 5"
   ]
  },
  {
   "cell_type": "markdown",
   "id": "516740b0",
   "metadata": {},
   "source": [
    "#about.format()"
   ]
  },
  {
   "cell_type": "markdown",
   "id": "a7a4a40b",
   "metadata": {},
   "source": [
    "# about format()"
   ]
  },
  {
   "cell_type": "code",
   "execution_count": 9,
   "id": "1aa9e800",
   "metadata": {},
   "outputs": [],
   "source": [
    "first_num = 40"
   ]
  },
  {
   "cell_type": "code",
   "execution_count": 10,
   "id": "0d7003f1",
   "metadata": {},
   "outputs": [
    {
     "name": "stdout",
     "output_type": "stream",
     "text": [
      "40\n"
     ]
    }
   ],
   "source": [
    "print(first_num)"
   ]
  },
  {
   "cell_type": "code",
   "execution_count": 11,
   "id": "f8d12f0b",
   "metadata": {},
   "outputs": [
    {
     "name": "stdout",
     "output_type": "stream",
     "text": [
      "The first number is  40\n"
     ]
    }
   ],
   "source": [
    "print(\"The first number is \", first_num), \"This is even number\""
   ]
  },
  {
   "cell_type": "code",
   "execution_count": 12,
   "id": "a1b8e7cc",
   "metadata": {},
   "outputs": [
    {
     "name": "stdout",
     "output_type": "stream",
     "text": [
      "The first number is 40 This is even number\n"
     ]
    }
   ],
   "source": [
    "print(\"The first number is {} This is even number\". format (first_num))"
   ]
  },
  {
   "cell_type": "code",
   "execution_count": 13,
   "id": "c12e5599",
   "metadata": {},
   "outputs": [
    {
     "name": "stdout",
     "output_type": "stream",
     "text": [
      "The first number is {} This is even number divisible by {}\n"
     ]
    }
   ],
   "source": [
    "print(\"The first number is {} This is even number divisible by {}\")"
   ]
  },
  {
   "cell_type": "code",
   "execution_count": 14,
   "id": "055f795e",
   "metadata": {},
   "outputs": [
    {
     "ename": "NameError",
     "evalue": "name 'var2' is not defined",
     "output_type": "error",
     "traceback": [
      "\u001b[1;31m---------------------------------------------------------------------------\u001b[0m",
      "\u001b[1;31mNameError\u001b[0m                                 Traceback (most recent call last)",
      "Input \u001b[1;32mIn [14]\u001b[0m, in \u001b[0;36m<cell line: 1>\u001b[1;34m()\u001b[0m\n\u001b[1;32m----> 1\u001b[0m \u001b[38;5;28mprint\u001b[39m(\u001b[38;5;124m\"\u001b[39m\u001b[38;5;124mVariable 2 is \u001b[39m\u001b[38;5;132;01m{}\u001b[39;00m\u001b[38;5;124m is divisible by \u001b[39m\u001b[38;5;132;01m{}\u001b[39;00m\u001b[38;5;124m.\u001b[39m\u001b[38;5;124m\"\u001b[39m\u001b[38;5;241m.\u001b[39m \u001b[38;5;28mformat\u001b[39m (\u001b[43mvar2\u001b[49m, \u001b[38;5;241m2\u001b[39m))\n",
      "\u001b[1;31mNameError\u001b[0m: name 'var2' is not defined"
     ]
    }
   ],
   "source": [
    "print(\"Variable 2 is {} is divisible by {}.\". format (var2, 2))"
   ]
  },
  {
   "cell_type": "code",
   "execution_count": 16,
   "id": "3b260921",
   "metadata": {},
   "outputs": [
    {
     "name": "stdout",
     "output_type": "stream",
     "text": [
      "Variable 2 is 40 is divisible by 2 \n"
     ]
    }
   ],
   "source": [
    "print(\"Variable 2 is {} is divisible by {} \".format (first_num, 2))"
   ]
  },
  {
   "cell_type": "code",
   "execution_count": null,
   "id": "a1cf4db2",
   "metadata": {},
   "outputs": [],
   "source": []
  }
 ],
 "metadata": {
  "kernelspec": {
   "display_name": "Python 3 (ipykernel)",
   "language": "python",
   "name": "python3"
  },
  "language_info": {
   "codemirror_mode": {
    "name": "ipython",
    "version": 3
   },
   "file_extension": ".py",
   "mimetype": "text/x-python",
   "name": "python",
   "nbconvert_exporter": "python",
   "pygments_lexer": "ipython3",
   "version": "3.8.10"
  }
 },
 "nbformat": 4,
 "nbformat_minor": 5
}
