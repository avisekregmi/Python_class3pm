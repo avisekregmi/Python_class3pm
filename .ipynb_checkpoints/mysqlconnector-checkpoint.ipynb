{
 "cells": [
  {
   "cell_type": "code",
   "execution_count": null,
   "id": "ba90661d",
   "metadata": {},
   "outputs": [],
   "source": [
    "!pip install mysql-connector"
   ]
  },
  {
   "cell_type": "code",
   "execution_count": null,
   "id": "c0d1b601",
   "metadata": {},
   "outputs": [],
   "source": [
    "import mysql.connector\n",
    "#importing database\n",
    "database = mysql.connector.connect(\n",
    "host=\"localhost\",\n",
    "user=\"root\",\n",
    "password=\"\"\n",
    ")\n",
    "db = database.cursor()\n",
    "\n",
    "db.execute(\"CREATE DATABASE pythons1\")"
   ]
  },
  {
   "cell_type": "code",
   "execution_count": 2,
   "id": "7039bcec",
   "metadata": {},
   "outputs": [],
   "source": [
    "import mysql.connector\n",
    "#importing database\n",
    "database = mysql.connector.connect(\n",
    "host=\"localhost\",\n",
    "user=\"root\",\n",
    "password=\"\",\n",
    "database = \"python3pm\")\n",
    "db = database.cursor()"
   ]
  },
  {
   "cell_type": "code",
   "execution_count": 3,
   "id": "4eecaa06",
   "metadata": {},
   "outputs": [
    {
     "name": "stdout",
     "output_type": "stream",
     "text": [
      "[(1, 'Rama', 89, 98, 85, 67, 89, 428, 85.6, 'A'), (3, 'Nabin', 89, 82, 84, 98, 89, 445, 89.6, 'A'), (4, 'Shiva', 49, 57, 25, 98, 89, 318, 63.6, 'C'), (8, 'Ram', 78, 79, 93, 67, 78, 415, 83.5, 'A'), (10, 'Sameer', 89, 67, 80, 98, 89, 412, 82.5, 'A')]\n"
     ]
    }
   ],
   "source": [
    "sql = \"SELECT * FROM student\"\n",
    "db.execute(sql)\n",
    "result =db.fetchall()\n",
    "print(result)"
   ]
  },
  {
   "cell_type": "code",
   "execution_count": 4,
   "id": "6c526f8a",
   "metadata": {},
   "outputs": [
    {
     "name": "stdout",
     "output_type": "stream",
     "text": [
      "(1, 'Rama', 89, 98, 85, 67, 89, 428, 85.6, 'A')\n",
      "(3, 'Nabin', 89, 82, 84, 98, 89, 445, 89.6, 'A')\n",
      "(4, 'Shiva', 49, 57, 25, 98, 89, 318, 63.6, 'C')\n",
      "(8, 'Ram', 78, 79, 93, 67, 78, 415, 83.5, 'A')\n",
      "(10, 'Sameer', 89, 67, 80, 98, 89, 412, 82.5, 'A')\n"
     ]
    }
   ],
   "source": [
    "sql = \"SELECT * FROM student\"\n",
    "db.execute(sql)\n",
    "result =db.fetchall()\n",
    "for i in result:\n",
    "    print(i)"
   ]
  },
  {
   "cell_type": "code",
   "execution_count": 5,
   "id": "73031378",
   "metadata": {},
   "outputs": [
    {
     "name": "stdout",
     "output_type": "stream",
     "text": [
      "(1, 'Rama', 89, 98, 85, 67, 89, 428, 85.6, 'A')\n",
      "(3, 'Nabin', 89, 82, 84, 98, 89, 445, 89.6, 'A')\n",
      "(8, 'Ram', 78, 79, 93, 67, 78, 415, 83.5, 'A')\n",
      "(10, 'Sameer', 89, 67, 80, 98, 89, 412, 82.5, 'A')\n"
     ]
    }
   ],
   "source": [
    "sql = \"SELECT * FROM student WHERE per > 70\"\n",
    "db.execute(sql)\n",
    "result =db.fetchall()\n",
    "for i in result:\n",
    "    print(i)"
   ]
  },
  {
   "cell_type": "code",
   "execution_count": 6,
   "id": "ac3db43d",
   "metadata": {},
   "outputs": [
    {
     "name": "stdout",
     "output_type": "stream",
     "text": [
      "('Rama', 'A')\n",
      "('Nabin', 'A')\n",
      "('Ram', 'A')\n",
      "('Sameer', 'A')\n"
     ]
    }
   ],
   "source": [
    "sql = \"SELECT name,grade FROM student WHERE per > 70\"\n",
    "db.execute(sql)\n",
    "result =db.fetchall()\n",
    "for i in result:\n",
    "    print(i)"
   ]
  },
  {
   "cell_type": "code",
   "execution_count": 7,
   "id": "793a2f66",
   "metadata": {},
   "outputs": [
    {
     "name": "stdout",
     "output_type": "stream",
     "text": [
      "('Rama', 'A')\n",
      "('Nabin', 'A')\n",
      "('Ram', 'A')\n",
      "('Sameer', 'A')\n"
     ]
    }
   ],
   "source": [
    "sql = \"SELECT name,grade FROM student WHERE per > 70\"\n",
    "db.execute(sql)\n",
    "result =db.fetchall()\n",
    "for i in result:\n",
    "    print(i)"
   ]
  },
  {
   "cell_type": "code",
   "execution_count": null,
   "id": "059c6d09",
   "metadata": {},
   "outputs": [],
   "source": [
    "sql = '''INSERT INTO student(sn, name, physics, chemistry, math, english, nepali, total, per, grade) \n",
    "VALUES (8,'Ram',78,79,93,67,78,415,83.5,'A')'''\n",
    "db.execute(sql)\n",
    "database.commit()"
   ]
  },
  {
   "cell_type": "code",
   "execution_count": 19,
   "id": "6f2064a5",
   "metadata": {},
   "outputs": [
    {
     "name": "stdout",
     "output_type": "stream",
     "text": [
      "Enter name = Rama\n",
      "Enter physics = 89\n",
      "Enter chemistry = 78\n",
      "Enter math = 67\n",
      "Enter english = 81\n",
      "Enter nepali = 87\n"
     ]
    }
   ],
   "source": [
    "name = input(\"Enter name = \")\n",
    "physics = int(input(\"Enter physics = \"))\n",
    "chemistry = int(input(\"Enter chemistry = \"))\n",
    "math = int(input(\"Enter math = \"))\n",
    "english = int(input(\"Enter english = \"))\n",
    "nepali = int(input(\"Enter nepali = \"))\n",
    "\n",
    "total = physics+chemistry+math+english+nepali\n",
    "per = total/5 \n",
    "if per >= 80:\n",
    "    grade = \"A\"\n",
    "elif per >= 60:\n",
    "    grade = \"B\"\n",
    "elif per >= 45:\n",
    "    grade = \"C\"\n",
    "else:\n",
    "    grade = \"F\"\n",
    "    \n",
    "sql = f'''INSERT INTO student(name, physics, chemistry, math, english, nepali, total, per, grade) \n",
    "VALUES ('{name}', {physics}, {chemistry}, {math}, {english}, {nepali}, {total}, {per}, '{grade}')'''\n",
    "db.execute(sql)\n",
    "database.commit()"
   ]
  },
  {
   "cell_type": "code",
   "execution_count": null,
   "id": "ef4e81ad",
   "metadata": {},
   "outputs": [],
   "source": []
  }
 ],
 "metadata": {
  "kernelspec": {
   "display_name": "Python 3 (ipykernel)",
   "language": "python",
   "name": "python3"
  },
  "language_info": {
   "codemirror_mode": {
    "name": "ipython",
    "version": 3
   },
   "file_extension": ".py",
   "mimetype": "text/x-python",
   "name": "python",
   "nbconvert_exporter": "python",
   "pygments_lexer": "ipython3",
   "version": "3.8.10"
  }
 },
 "nbformat": 4,
 "nbformat_minor": 5
}
