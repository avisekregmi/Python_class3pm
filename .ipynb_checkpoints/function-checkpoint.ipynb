{
 "cells": [
  {
   "cell_type": "code",
   "execution_count": null,
   "id": "b17c52e2",
   "metadata": {},
   "outputs": [],
   "source": [
    "# pre defined\n",
    "# user defined"
   ]
  },
  {
   "cell_type": "code",
   "execution_count": null,
   "id": "b0ddeb5b",
   "metadata": {},
   "outputs": [],
   "source": [
    "#pre defined\n",
    "# print() input() int() float() str()"
   ]
  },
  {
   "cell_type": "code",
   "execution_count": null,
   "id": "8887489a",
   "metadata": {},
   "outputs": [],
   "source": [
    "#def <function_name>(): def means define\n",
    " #   <operations>\n",
    "    \n",
    " #   <function_name>()"
   ]
  },
  {
   "cell_type": "code",
   "execution_count": 13,
   "id": "538d0059",
   "metadata": {},
   "outputs": [
    {
     "name": "stdout",
     "output_type": "stream",
     "text": [
      "Hello World\n"
     ]
    }
   ],
   "source": [
    "def hello():\n",
    "    print(\"Hello World\")\n",
    "    \n",
    "hello() # we need to call the function for the program to run"
   ]
  },
  {
   "cell_type": "code",
   "execution_count": 14,
   "id": "02dc9aae",
   "metadata": {},
   "outputs": [
    {
     "name": "stdout",
     "output_type": "stream",
     "text": [
      "20\n"
     ]
    }
   ],
   "source": [
    "def area():\n",
    "    l = 10       #Local variable\n",
    "    b = 2        #Local variable\n",
    "    a = l*b\n",
    "    print(a)\n",
    "\n",
    "area()"
   ]
  },
  {
   "cell_type": "code",
   "execution_count": 15,
   "id": "992ca941",
   "metadata": {},
   "outputs": [
    {
     "name": "stdout",
     "output_type": "stream",
     "text": [
      "Enter l = 20\n",
      "Enter b = 50\n",
      "1000\n"
     ]
    }
   ],
   "source": [
    "def area():\n",
    "    l = int(input(\"Enter l = \")) #Local variable\n",
    "    b = int(input(\"Enter b = \")) #Local variable\n",
    "    a = l*b\n",
    "    print(a)\n",
    "\n",
    "area()"
   ]
  },
  {
   "cell_type": "code",
   "execution_count": 16,
   "id": "5b5a9a19",
   "metadata": {},
   "outputs": [
    {
     "name": "stdout",
     "output_type": "stream",
     "text": [
      "20\n"
     ]
    }
   ],
   "source": [
    "l = 10   # Global variable when defined outside the indentation.\n",
    "b = 2    # Global variable\n",
    "def area():\n",
    "    a = l*b\n",
    "    print(a)\n",
    "\n",
    "area()"
   ]
  },
  {
   "cell_type": "code",
   "execution_count": 17,
   "id": "ffd9ab63",
   "metadata": {},
   "outputs": [
    {
     "name": "stdout",
     "output_type": "stream",
     "text": [
      "20\n",
      "10 2\n"
     ]
    }
   ],
   "source": [
    "def area():  # first define\n",
    "    global l,b\n",
    "    l = 10       \n",
    "    b = 2        \n",
    "    a = l*b\n",
    "    print(a)\n",
    "\n",
    "\n",
    "area() # then call \n",
    "print(l,b)"
   ]
  },
  {
   "cell_type": "code",
   "execution_count": null,
   "id": "17a4cad0",
   "metadata": {},
   "outputs": [],
   "source": [
    "# function without argument and non return type\n",
    "# function with argument and non return type\n",
    "# function without argument and return type\n",
    "# function with argument and  return type"
   ]
  },
  {
   "cell_type": "code",
   "execution_count": 18,
   "id": "07450e38",
   "metadata": {},
   "outputs": [
    {
     "name": "stdout",
     "output_type": "stream",
     "text": [
      "20\n",
      "10 2\n"
     ]
    }
   ],
   "source": [
    "# function without argument and non return type\n",
    "def area():  # first define\n",
    "    global l,b\n",
    "    l = 10       \n",
    "    b = 2        \n",
    "    a = l*b\n",
    "    print(a)\n",
    "\n",
    "\n",
    "area() # then call \n",
    "print(l,b)"
   ]
  },
  {
   "cell_type": "code",
   "execution_count": 19,
   "id": "88e5cfc7",
   "metadata": {},
   "outputs": [
    {
     "name": "stdout",
     "output_type": "stream",
     "text": [
      "Enter l = 30\n",
      "Enter b = 30\n",
      "900\n"
     ]
    }
   ],
   "source": [
    "# Argument total arguments must equal total parameter.\n",
    "def area(l,b): # Parameter\n",
    "    a = l*b\n",
    "    print(a)\n",
    "\n",
    "l = int(input(\"Enter l = \")) \n",
    "b = int(input(\"Enter b = \")) \n",
    "area(l,b)   # Argument"
   ]
  },
  {
   "cell_type": "code",
   "execution_count": 20,
   "id": "311a0b21",
   "metadata": {},
   "outputs": [
    {
     "name": "stdout",
     "output_type": "stream",
     "text": [
      "Enter l = 20\n",
      "Enter b = 30\n",
      "600\n"
     ]
    }
   ],
   "source": [
    "#Argument\n",
    "# function with argument and non return type\n",
    "def area(l,b): # Parameter\n",
    "    a = l*b\n",
    "    print(a)\n",
    "    \n",
    "l = int(input(\"Enter l = \")) \n",
    "b = int(input(\"Enter b = \"))\n",
    "area(l,b) # Argument\n"
   ]
  },
  {
   "cell_type": "code",
   "execution_count": 21,
   "id": "45841888",
   "metadata": {},
   "outputs": [
    {
     "name": "stdout",
     "output_type": "stream",
     "text": [
      "Enter l = 30\n",
      "Enter b = 50\n",
      "Enter h = 50\n",
      "1500\n",
      "75000\n"
     ]
    }
   ],
   "source": [
    "#Argument\n",
    "# function with argument and non return type\n",
    "def area(x,y): # Parameter\n",
    "    a = x*y\n",
    "    print(a)\n",
    "\n",
    "def volume(x,y,z):\n",
    "    v = x*y*z\n",
    "    print(v)\n",
    "    \n",
    "l = int(input(\"Enter l = \")) \n",
    "b = int(input(\"Enter b = \"))\n",
    "h = int(input(\"Enter h = \"))\n",
    "area(l,b) # Argument\n",
    "volume(l,b,h) "
   ]
  },
  {
   "cell_type": "code",
   "execution_count": 22,
   "id": "9f055fb1",
   "metadata": {},
   "outputs": [
    {
     "name": "stdout",
     "output_type": "stream",
     "text": [
      "C\n",
      "C++\n",
      "Java\n",
      "Python\n"
     ]
    }
   ],
   "source": [
    "def language(lan = \"Python\"):\n",
    "    print(lan)\n",
    "    \n",
    "language(\"C\")\n",
    "language (\"C++\")\n",
    "language(\"Java\")\n",
    "language() #it shows default what is defined above e.g. Python\n"
   ]
  },
  {
   "cell_type": "code",
   "execution_count": 23,
   "id": "49eb61c1",
   "metadata": {},
   "outputs": [
    {
     "name": "stdout",
     "output_type": "stream",
     "text": [
      "Hello World\n"
     ]
    }
   ],
   "source": [
    "# function with argument and  return type\n",
    "# Return type function\n",
    "def hello():\n",
    "    return \"Hello World\"\n",
    "\n",
    "print(hello())"
   ]
  },
  {
   "cell_type": "code",
   "execution_count": 24,
   "id": "f7099a3b",
   "metadata": {},
   "outputs": [
    {
     "name": "stdout",
     "output_type": "stream",
     "text": [
      "Hello World\n"
     ]
    }
   ],
   "source": [
    "def hello():\n",
    "    return \"Hello World\"\n",
    "\n",
    "x = hello()\n",
    "print(x)"
   ]
  },
  {
   "cell_type": "code",
   "execution_count": 25,
   "id": "71d7227c",
   "metadata": {},
   "outputs": [
    {
     "name": "stdout",
     "output_type": "stream",
     "text": [
      "The area =  20\n",
      "The volume =  40\n"
     ]
    }
   ],
   "source": [
    "# function without argument and return type\n",
    "def area():  # first define\n",
    "    l = 10       \n",
    "    b = 2        \n",
    "    a = l*b\n",
    "    return a\n",
    "\n",
    "\n",
    "ar = area() # then call\n",
    "h = 2\n",
    "v = ar*h\n",
    "print(\"The area = \", ar)\n",
    "print(\"The volume = \", v)"
   ]
  },
  {
   "cell_type": "code",
   "execution_count": 29,
   "id": "4dcae64c",
   "metadata": {},
   "outputs": [
    {
     "name": "stdout",
     "output_type": "stream",
     "text": [
      "Enter l = 40\n",
      "Enter b = 50\n",
      "The area =  2000\n"
     ]
    }
   ],
   "source": [
    "# function with argument and return type\n",
    "def area(l,b):     # first define\n",
    "    a = l*b\n",
    "    return a\n",
    "\n",
    "l = int(input(\"Enter l = \"))\n",
    "b = int(input(\"Enter b = \"))\n",
    "\n",
    "ar = area(l,b) # then call \n",
    "print(\"The area = \", ar)\n"
   ]
  },
  {
   "cell_type": "code",
   "execution_count": 27,
   "id": "39b73e4d",
   "metadata": {},
   "outputs": [
    {
     "name": "stdout",
     "output_type": "stream",
     "text": [
      "Enter l = 30\n",
      "Enter b = 50\n",
      "Enter h = 90\n",
      "(1500, 135000)\n",
      "The area =  1500\n",
      "The volume =  135000\n"
     ]
    }
   ],
   "source": [
    "# function with argument and return type\n",
    "def cal(l,b,h):  # first define\n",
    "    a = l*b\n",
    "    v = a*h\n",
    "    return a,v\n",
    "\n",
    "l = int(input(\"Enter l = \"))\n",
    "b = int(input(\"Enter b = \"))\n",
    "h = int(input(\"Enter h = \"))\n",
    "av = cal(l,b,h)\n",
    "print(av)\n",
    "ar,vo = av\n",
    "print(\"The area = \", ar)\n",
    "print(\"The volume = \", vo)"
   ]
  },
  {
   "cell_type": "code",
   "execution_count": 28,
   "id": "d71217dd",
   "metadata": {},
   "outputs": [
    {
     "name": "stdout",
     "output_type": "stream",
     "text": [
      "Enter l = 30\n",
      "Enter b = 40\n",
      "Enter h = 50\n",
      "(1200, 60000)\n",
      "The area =  1200\n",
      "The volume =  60000\n"
     ]
    }
   ],
   "source": [
    "# function with argument and return type\n",
    "def cal(x):  # first define\n",
    "    l,b,h = x\n",
    "    a = l*b\n",
    "    v = a*h\n",
    "    return a,v\n",
    "\n",
    "l = int(input(\"Enter l = \"))\n",
    "b = int(input(\"Enter b = \"))\n",
    "h = int(input(\"Enter h = \"))\n",
    "data = (l,b,h)\n",
    "av = cal(data)\n",
    "\n",
    "print(av)\n",
    "ar,vo = av\n",
    "print(\"The area = \", ar)\n",
    "print(\"The volume = \", vo)"
   ]
  },
  {
   "cell_type": "code",
   "execution_count": null,
   "id": "12d13c26",
   "metadata": {},
   "outputs": [],
   "source": [
    "# Recurssive Function - function that calls itself is recursive\n",
    "def hello():\n",
    "    print(\"Hello World\")\n",
    "    hello() # infinite loop\n",
    "\n",
    "\n",
    "hello()"
   ]
  },
  {
   "cell_type": "code",
   "execution_count": null,
   "id": "38996721",
   "metadata": {},
   "outputs": [],
   "source": [
    "def hello(): # Recurssive Function\n",
    "    print(\"Hello World\")\n",
    "    x = input(\"Enter y for more print.\")\n",
    "    if x == \"y \":\n",
    "        hello() \n",
    "\n",
    "hello()"
   ]
  },
  {
   "cell_type": "code",
   "execution_count": 40,
   "id": "7d7588ad",
   "metadata": {},
   "outputs": [
    {
     "name": "stdout",
     "output_type": "stream",
     "text": [
      "Enter name =Apple\n",
      "Enter price = 200\n",
      "Enter quantity = 2\n",
      "Enter y for more entry\n",
      "Apple 200 2 400\n",
      "\n"
     ]
    }
   ],
   "source": [
    "s = str()\n",
    "def bills():\n",
    "    global s\n",
    "    name = input(\"Enter name =\")\n",
    "    price = int(input(\"Enter price = \"))\n",
    "    quantity = int(input(\"Enter quantity = \"))\n",
    "    total = price*quantity\n",
    "    s = s + f\"{name} {price} {quantity} {total}\\n\"\n",
    "    x = input(\"Enter y for more entry\")\n",
    "    if x ==\"y\":\n",
    "        bills()\n",
    "bills()\n",
    "print(s)"
   ]
  },
  {
   "cell_type": "code",
   "execution_count": null,
   "id": "e982feb5",
   "metadata": {},
   "outputs": [],
   "source": []
  }
 ],
 "metadata": {
  "kernelspec": {
   "display_name": "Python 3 (ipykernel)",
   "language": "python",
   "name": "python3"
  },
  "language_info": {
   "codemirror_mode": {
    "name": "ipython",
    "version": 3
   },
   "file_extension": ".py",
   "mimetype": "text/x-python",
   "name": "python",
   "nbconvert_exporter": "python",
   "pygments_lexer": "ipython3",
   "version": "3.8.10"
  }
 },
 "nbformat": 4,
 "nbformat_minor": 5
}
