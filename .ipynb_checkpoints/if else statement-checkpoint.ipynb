{
 "cells": [
  {
   "cell_type": "code",
   "execution_count": null,
   "id": "69facdec",
   "metadata": {},
   "outputs": [],
   "source": [
    "# if <condition>: - \n",
    "#    <operations>\n",
    "# elif <conditoin>:\n",
    "#    <operations>\n",
    "# ....\n",
    "\n",
    "# else:\n",
    "    # <operation>\n",
    "    "
   ]
  },
  {
   "cell_type": "code",
   "execution_count": null,
   "id": "11cc1046",
   "metadata": {},
   "outputs": [],
   "source": [
    "> < >= <= == !="
   ]
  },
  {
   "cell_type": "code",
   "execution_count": null,
   "id": "51ff59ef",
   "metadata": {},
   "outputs": [],
   "source": [
    "a = 10\n",
    "if a>5:\n",
    "    print(\"a is greater\")"
   ]
  },
  {
   "cell_type": "code",
   "execution_count": null,
   "id": "598acf7b",
   "metadata": {},
   "outputs": [],
   "source": [
    "a = int(input(\"Enter a = \"))\n",
    "b = int(input(\"Enter b = \"))\n",
    "if a>b:\n",
    "    print(\"a is greater\")\n",
    "elif b>a:\n",
    "print(\"b is greater\")\n",
    "else:\n",
    "print(\"a and b both are equal\")"
   ]
  },
  {
   "cell_type": "code",
   "execution_count": null,
   "id": "dcba3136",
   "metadata": {},
   "outputs": [],
   "source": [
    "a = 4\n",
    "print(a>5)"
   ]
  },
  {
   "cell_type": "code",
   "execution_count": null,
   "id": "74f74154",
   "metadata": {},
   "outputs": [],
   "source": [
    "a = int(input(\"Enter a = \"))\n",
    "b = int(input(\"Enter b = \"))\n",
    "if a>b:\n",
    "    print(a,\"is greater\")\n",
    "elif b>a:\n",
    "    print(b,\" is greater\")\n",
    "else:\n",
    "    print(\"a and b both are equal\")"
   ]
  },
  {
   "cell_type": "code",
   "execution_count": null,
   "id": "9003f737",
   "metadata": {},
   "outputs": [],
   "source": [
    "a = int(input(\"Enter a = \"))\n",
    "if a%2 == 0:\n",
    "    print(a, \"is even\")\n",
    "else:\n",
    "    print (a, \" is odd\")"
   ]
  },
  {
   "cell_type": "code",
   "execution_count": null,
   "id": "2db89a3d",
   "metadata": {},
   "outputs": [],
   "source": [
    "# WAP to enter all marks of subjects of a student, find total and find grade \n",
    "#total marks"
   ]
  },
  {
   "cell_type": "code",
   "execution_count": 2,
   "id": "145dffff",
   "metadata": {},
   "outputs": [
    {
     "name": "stdout",
     "output_type": "stream",
     "text": [
      "Enter marks of the first subject:70\n",
      "Enter marks of the second subject:60\n",
      "Enter marks of the third subject:80\n",
      "Enter marks of the fourth subject:50\n",
      "Enter marks of the fifth subject: 75\n",
      "The Grade is D\n"
     ]
    }
   ],
   "source": [
    "sub1=int(input(\"Enter marks of the first subject:\"))\n",
    "sub2=int(input(\"Enter marks of the second subject:\"))\n",
    "sub3=int(input(\"Enter marks of the third subject:\"))\n",
    "sub4=int(input(\"Enter marks of the fourth subject:\"))\n",
    "sub5=int(input(\"Enter marks of the fifth subject: \"))\n",
    "\n",
    "avg=(sub1+sub2+sub3+sub4+sub4)/5\n",
    "\n",
    "if(avg >= 90):\n",
    "    print(\"The Grade is A\")\n",
    "elif (avg>= 80 and avg<90):\n",
    "    print(\"The Grade is B\")\n",
    "elif(avg>=70 and avg<80):\n",
    "    print(\"The Grade is C\")\n",
    "elif(avg>=60 and avg<70):\n",
    "    print(\"The Grade is D\")\n",
    "else:\n",
    "    print(\"The Grade is F\")"
   ]
  },
  {
   "cell_type": "code",
   "execution_count": null,
   "id": "9c42288f",
   "metadata": {},
   "outputs": [],
   "source": []
  }
 ],
 "metadata": {
  "kernelspec": {
   "display_name": "Python 3 (ipykernel)",
   "language": "python",
   "name": "python3"
  },
  "language_info": {
   "codemirror_mode": {
    "name": "ipython",
    "version": 3
   },
   "file_extension": ".py",
   "mimetype": "text/x-python",
   "name": "python",
   "nbconvert_exporter": "python",
   "pygments_lexer": "ipython3",
   "version": "3.8.10"
  }
 },
 "nbformat": 4,
 "nbformat_minor": 5
}
