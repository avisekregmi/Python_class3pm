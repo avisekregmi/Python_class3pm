{
 "cells": [
  {
   "cell_type": "code",
   "execution_count": null,
   "id": "69100fe1",
   "metadata": {},
   "outputs": [],
   "source": [
    "# Tuple\n",
    "# Tuple is also a datatype\n",
    "# Indexing\n",
    "# Ordered\n",
    "# Multiple value\n",
    "# Duplicate value\n",
    "# Imutable"
   ]
  },
  {
   "cell_type": "code",
   "execution_count": null,
   "id": "088e2526",
   "metadata": {},
   "outputs": [],
   "source": [
    "t = tuple()\n",
    "t = (1,2,3,4,5,6,)\n",
    "r = (\"Apple\", \"Ball\", \"Cat\")\n",
    "print(r)\n",
    "print(type(r))"
   ]
  },
  {
   "cell_type": "code",
   "execution_count": null,
   "id": "adf36bf8",
   "metadata": {},
   "outputs": [],
   "source": [
    "r = (\"Apple\", \"Ball\", \"Cat\")\n",
    "type(r)"
   ]
  },
  {
   "cell_type": "code",
   "execution_count": null,
   "id": "b3f91d91",
   "metadata": {},
   "outputs": [],
   "source": [
    "r = (\"Apple\")\n",
    "type(r)"
   ]
  },
  {
   "cell_type": "code",
   "execution_count": null,
   "id": "79f2740e",
   "metadata": {},
   "outputs": [],
   "source": [
    "r = (\"Apple\", \"Ball\",)\n",
    "type(r)"
   ]
  },
  {
   "cell_type": "code",
   "execution_count": null,
   "id": "0eafcd2c",
   "metadata": {},
   "outputs": [],
   "source": [
    "r = (\"Apple\")\n",
    "type(r)"
   ]
  },
  {
   "cell_type": "code",
   "execution_count": null,
   "id": "4fbc920d",
   "metadata": {},
   "outputs": [],
   "source": [
    "r = (\"Apple\", \"Ball\", \"Cat\")\n",
    "r[1]"
   ]
  },
  {
   "cell_type": "code",
   "execution_count": null,
   "id": "add8c703",
   "metadata": {},
   "outputs": [],
   "source": [
    "r = (\"Apple\", \"Ball\", \"Cat\")\n",
    "r[0]"
   ]
  },
  {
   "cell_type": "code",
   "execution_count": null,
   "id": "17d49143",
   "metadata": {},
   "outputs": [],
   "source": [
    "r = (\"Apple\", \"Ball\", \"Cat\")\n",
    "r[2]"
   ]
  },
  {
   "cell_type": "code",
   "execution_count": null,
   "id": "61918bf3",
   "metadata": {},
   "outputs": [],
   "source": [
    "t = (1,2,3,4,5,6)\n",
    "r = (\"Apple\", \"Ball\", \"Cat\")\n",
    "t+r"
   ]
  },
  {
   "cell_type": "code",
   "execution_count": null,
   "id": "f6868840",
   "metadata": {},
   "outputs": [],
   "source": [
    "r = (\"Apple\", \"Ball\", \"Cat\")\n",
    "r*2"
   ]
  },
  {
   "cell_type": "code",
   "execution_count": null,
   "id": "13d0f09c",
   "metadata": {},
   "outputs": [],
   "source": [
    "# WAP to  create a tuple by taking data from user\n",
    "\n",
    "tuple = (3, 4.6, 7, 9, 10, 12, \"dog\", \"cat\", \"mouse\", \"turtle\", )\n",
    "print(tuple)\n",
    "type(tuple)"
   ]
  },
  {
   "cell_type": "code",
   "execution_count": null,
   "id": "4c31d6ed",
   "metadata": {},
   "outputs": [],
   "source": [
    "first_tuple = 7, 8, 9, \"creation\"\n",
    "print(first_tuple) "
   ]
  },
  {
   "cell_type": "code",
   "execution_count": null,
   "id": "65d736c1",
   "metadata": {},
   "outputs": [],
   "source": [
    "# no append() insert() extend()\n",
    "# no update\n",
    "# no del remove() pop()\n",
    "# no sort()"
   ]
  },
  {
   "cell_type": "code",
   "execution_count": 3,
   "id": "eeca70d2",
   "metadata": {},
   "outputs": [
    {
     "name": "stdout",
     "output_type": "stream",
     "text": [
      "Enter n = 5\n",
      "Enter x = 34\n",
      "Enter x = 56\n",
      "Enter x = 45\n",
      "Enter x = 67\n",
      "Enter x = 78\n",
      "(34, 56, 45, 67, 78)\n"
     ]
    }
   ],
   "source": [
    "t = tuple() \n",
    "n = int(input(\"Enter n = \"))\n",
    "for i in range(n):\n",
    "    x = int(input(\"Enter x = \"))\n",
    "    t = t+(x,)\n",
    "print(t)"
   ]
  },
  {
   "cell_type": "code",
   "execution_count": 4,
   "id": "59c1f157",
   "metadata": {},
   "outputs": [
    {
     "name": "stdout",
     "output_type": "stream",
     "text": [
      "(45, 23, 456, 231)\n"
     ]
    }
   ],
   "source": [
    "t = (123, 45, 23, 456, 231)\n",
    "x = list(t)\n",
    "del x[0]\n",
    "t = tuple(x)\n",
    "print(t)"
   ]
  },
  {
   "cell_type": "code",
   "execution_count": null,
   "id": "6b699532",
   "metadata": {},
   "outputs": [],
   "source": [
    "#sum() max() min() index()"
   ]
  },
  {
   "cell_type": "code",
   "execution_count": null,
   "id": "67c06ffa",
   "metadata": {},
   "outputs": [],
   "source": [
    "# tuple inside tuple\n",
    "a = ((1,2,3), \n",
    "     (4,5,6), \n",
    "     (7,8,9))\n"
   ]
  },
  {
   "cell_type": "code",
   "execution_count": 2,
   "id": "0762d49b",
   "metadata": {},
   "outputs": [
    {
     "name": "stdout",
     "output_type": "stream",
     "text": [
      "Enter n = 2\n",
      "Enter name = ram\n",
      "Enter age = 34\n",
      "Enter add = kathmandu\n",
      "Enter name = Shyam\n",
      "Enter age = 45\n",
      "Enter add = bakhtapur\n",
      "(('ram', 34, 'kathmandu'), ('Shyam', 45, 'bakhtapur'))\n"
     ]
    }
   ],
   "source": [
    "data = tuple()\n",
    "n = int(input(\"Enter n = \"))\n",
    "for i in range(n):\n",
    "        name = input(\"Enter name = \")\n",
    "        age  = int(input(\"Enter age = \"))\n",
    "        add  = input(\"Enter add = \")\n",
    "        data = data + ((name,age,add),)\n",
    "print(data)"
   ]
  },
  {
   "cell_type": "code",
   "execution_count": null,
   "id": "9d25d803",
   "metadata": {},
   "outputs": [],
   "source": []
  }
 ],
 "metadata": {
  "kernelspec": {
   "display_name": "Python 3 (ipykernel)",
   "language": "python",
   "name": "python3"
  },
  "language_info": {
   "codemirror_mode": {
    "name": "ipython",
    "version": 3
   },
   "file_extension": ".py",
   "mimetype": "text/x-python",
   "name": "python",
   "nbconvert_exporter": "python",
   "pygments_lexer": "ipython3",
   "version": "3.8.10"
  }
 },
 "nbformat": 4,
 "nbformat_minor": 5
}
