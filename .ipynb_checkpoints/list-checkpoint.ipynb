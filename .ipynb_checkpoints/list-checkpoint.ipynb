{
 "cells": [
  {
   "cell_type": "code",
   "execution_count": null,
   "id": "015da324",
   "metadata": {},
   "outputs": [],
   "source": []
  },
  {
   "cell_type": "code",
   "execution_count": null,
   "id": "6663641b",
   "metadata": {},
   "outputs": [],
   "source": []
  },
  {
   "cell_type": "code",
   "execution_count": null,
   "id": "c898a057",
   "metadata": {},
   "outputs": [],
   "source": [
    "a = [1,2,3,4,5]\n",
    "b = [\"Apple\", \"Ball\", \"Cat\"]\n",
    "print(a)\n",
    "print(b)\n",
    "print(type(a))\n",
    "print(type(b))"
   ]
  },
  {
   "cell_type": "code",
   "execution_count": null,
   "id": "101332c5",
   "metadata": {},
   "outputs": [],
   "source": [
    "b = [\"Apple\", \"Ball\", \"Cat\"]\n",
    "print(b[2])"
   ]
  },
  {
   "cell_type": "code",
   "execution_count": null,
   "id": "871758ba",
   "metadata": {},
   "outputs": [],
   "source": [
    "print(len(b))"
   ]
  },
  {
   "cell_type": "code",
   "execution_count": null,
   "id": "b3e425fb",
   "metadata": {},
   "outputs": [],
   "source": [
    "b = [\"Apple\", \"Ball\", \"Cat\", \"Dog\", \"Fish\"]\n",
    "b[0:3]"
   ]
  },
  {
   "cell_type": "code",
   "execution_count": null,
   "id": "0751d2e6",
   "metadata": {},
   "outputs": [],
   "source": [
    "b = [\"Apple\", \"Ball\", \"Cat\", \"Dog\", \"Fish\"]\n",
    "b[0:5:]"
   ]
  },
  {
   "cell_type": "code",
   "execution_count": null,
   "id": "42127ffc",
   "metadata": {},
   "outputs": [],
   "source": [
    "b = [\"Apple\", \"Ball\", \"Cat\", \"Dog\", \"Fish\"]\n",
    "b[0:5:2]"
   ]
  },
  {
   "cell_type": "code",
   "execution_count": null,
   "id": "e1127a60",
   "metadata": {},
   "outputs": [],
   "source": [
    "b = [\"Apple\", \"Ball\", \"Cat\", \"Dog\", \"Fish\", \"Apple\"]\n",
    "b"
   ]
  },
  {
   "cell_type": "code",
   "execution_count": null,
   "id": "82ee00ed",
   "metadata": {},
   "outputs": [],
   "source": [
    "b = [\"Apple\", \"Ball\", \"Cat\", \"Dog\", \"Fish\", \"Apple\"]\n",
    "c = [\"Goat\"]\n",
    "d = b+c # concatenation.\n",
    "print(d)"
   ]
  },
  {
   "cell_type": "code",
   "execution_count": null,
   "id": "e2c8c6e7",
   "metadata": {},
   "outputs": [],
   "source": [
    "type(c)"
   ]
  },
  {
   "cell_type": "code",
   "execution_count": null,
   "id": "3767cdc4",
   "metadata": {},
   "outputs": [],
   "source": [
    "type(c[0])"
   ]
  },
  {
   "cell_type": "code",
   "execution_count": null,
   "id": "77e0066d",
   "metadata": {},
   "outputs": [],
   "source": []
  },
  {
   "cell_type": "code",
   "execution_count": null,
   "id": "2b09c694",
   "metadata": {},
   "outputs": [],
   "source": [
    "a =[1,2,3,4]\n",
    "print(a*2) # it does not multiply but it enlarges the list."
   ]
  },
  {
   "cell_type": "code",
   "execution_count": null,
   "id": "37ffad8f",
   "metadata": {},
   "outputs": [],
   "source": [
    "l = list() # or []\n",
    "n = int(input(\"Enter n = \"))\n",
    "for i in range(n):\n",
    "    x = int(input(\"Enter x = \"))\n",
    "    l = l+[x]\n",
    "print(l)"
   ]
  },
  {
   "cell_type": "code",
   "execution_count": null,
   "id": "6fd87a8e",
   "metadata": {},
   "outputs": [],
   "source": [
    "print(\"The max value = \",max(l)) \n",
    "print(\"The min value = \",min(l))\n",
    "print(\"the sum = \", sum(l))\n",
    "l.sort()\n",
    "print(l)\n",
    "l.reverse()\n",
    "print(l)"
   ]
  },
  {
   "cell_type": "code",
   "execution_count": null,
   "id": "0897ada5",
   "metadata": {},
   "outputs": [],
   "source": [
    "a = [\"apple\", \"Ant\", \"Ball\",\"Zebra\", \"cat\"]\n",
    "a.sort()\n",
    "print(a)"
   ]
  },
  {
   "cell_type": "code",
   "execution_count": null,
   "id": "36a79da0",
   "metadata": {},
   "outputs": [],
   "source": [
    "a = [\"Apple\", \"Ant\", \"Ball\",\"Zebra\", \"Cat\"]\n",
    "a.sort()\n",
    "print(a)"
   ]
  },
  {
   "cell_type": "code",
   "execution_count": null,
   "id": "8edb8a8e",
   "metadata": {},
   "outputs": [],
   "source": [
    "a = [\"Apple\", \"Ant\", \"Ball\",\"Zebra\", \"Cat\"]\n",
    "for i in a:\n",
    "    print(i)"
   ]
  },
  {
   "cell_type": "code",
   "execution_count": null,
   "id": "f7f05767",
   "metadata": {},
   "outputs": [],
   "source": [
    "a = x, y =  [100,200]\n"
   ]
  },
  {
   "cell_type": "code",
   "execution_count": null,
   "id": "031189e3",
   "metadata": {},
   "outputs": [],
   "source": [
    "x, y =  [100,200]\n",
    "print(x)\n",
    "print(y)"
   ]
  },
  {
   "cell_type": "code",
   "execution_count": null,
   "id": "6e4f900a",
   "metadata": {},
   "outputs": [],
   "source": [
    "a = [\"Apple\", \"Ant\", \"Ball\",\"Zebra\", \"Cat\"]\n",
    "for i in a:\n",
    "    if i != \"Ball\":\n",
    "        print(i)"
   ]
  },
  {
   "cell_type": "code",
   "execution_count": null,
   "id": "e7043883",
   "metadata": {},
   "outputs": [],
   "source": [
    "a = [\"Apple\", \"Ant\", \"Ball\",\"Zebra\", \"Cat\"]\n",
    "if \"Ant\" in a:\n",
    "    print(\"Yes\", a.count(\"Ant\"))\n",
    "\n",
    "else:\n",
    "    print(\"No\")"
   ]
  },
  {
   "cell_type": "code",
   "execution_count": null,
   "id": "d373227b",
   "metadata": {},
   "outputs": [],
   "source": [
    "# append() insert() extend()"
   ]
  },
  {
   "cell_type": "code",
   "execution_count": null,
   "id": "2a9078c3",
   "metadata": {},
   "outputs": [],
   "source": [
    "a = [\"Apple\", \"Ant\", \"Ball\",\"Zebra\", \"Cat\"]\n",
    "a.append(\"Goat\")\n",
    "print(a)"
   ]
  },
  {
   "cell_type": "code",
   "execution_count": null,
   "id": "9248e541",
   "metadata": {},
   "outputs": [],
   "source": [
    "a = [\"Apple\", \"Ant\", \"Ball\",\"Zebra\", \"Cat\"]\n",
    "a.insert(1,\"Goat\")\n",
    "print(a)"
   ]
  },
  {
   "cell_type": "code",
   "execution_count": null,
   "id": "262caa9a",
   "metadata": {},
   "outputs": [],
   "source": [
    "a = [\"Apple\", \"Ant\", \"Ball\",\"Zebra\", \"Cat\"]\n",
    "b = [\"Fish\",\"Apple\"]\n",
    "a.extend(b)\n",
    "print(a)"
   ]
  },
  {
   "cell_type": "code",
   "execution_count": null,
   "id": "226f5460",
   "metadata": {},
   "outputs": [],
   "source": [
    "l = list() # or []\n",
    "n = int(input(\"Enter n = \"))\n",
    "for i in range(n):\n",
    "    x = int(input(\"Enter x = \"))\n",
    "    l.append(x)\n",
    "print(l)"
   ]
  },
  {
   "cell_type": "code",
   "execution_count": 2,
   "id": "8bb987ca",
   "metadata": {},
   "outputs": [
    {
     "name": "stdout",
     "output_type": "stream",
     "text": [
      "['Apple', 'Goat', 'Ant', 'Ball', 'Zebra', 'Cat']\n"
     ]
    }
   ],
   "source": [
    "a = [\"Apple\", \"Goat\" , \"Ant\", \"Ball\",\"Zebra\", \"Cat\"]\n",
    "print(a)"
   ]
  },
  {
   "cell_type": "code",
   "execution_count": 3,
   "id": "4a156828",
   "metadata": {},
   "outputs": [
    {
     "name": "stdout",
     "output_type": "stream",
     "text": [
      "['Ant', 'Goat', 'Ant', 'Ball', 'Zebra', 'Cat']\n"
     ]
    }
   ],
   "source": [
    "a = [\"Apple\", \"Goat\" , \"Ant\", \"Ball\",\"Zebra\", \"Cat\"]\n",
    "a [0] = \"Ant\"\n",
    "print(a)"
   ]
  },
  {
   "cell_type": "code",
   "execution_count": 4,
   "id": "eeb3989a",
   "metadata": {},
   "outputs": [
    {
     "name": "stdout",
     "output_type": "stream",
     "text": [
      "[1, 2, 3, 'Ball', 'Zebra', 'Cat']\n"
     ]
    }
   ],
   "source": [
    "#update\n",
    "a = [\"Apple\", \"Goat\" , \"Ant\", \"Ball\",\"Zebra\", \"Cat\"]\n",
    "a [0:3] = [1,2,3]\n",
    "print(a)"
   ]
  },
  {
   "cell_type": "code",
   "execution_count": 5,
   "id": "9dc31a4c",
   "metadata": {},
   "outputs": [
    {
     "name": "stdout",
     "output_type": "stream",
     "text": [
      "['Goat', 'Ant', 'Ball', 'Zebra', 'Cat']\n"
     ]
    }
   ],
   "source": [
    "#del to delete value\n",
    "#remove()\n",
    "#pop\n",
    "\n",
    "a = [\"Apple\", \"Goat\" , \"Ant\", \"Ball\",\"Zebra\", \"Cat\"]\n",
    "del a[0]\n",
    "print(a)"
   ]
  },
  {
   "cell_type": "code",
   "execution_count": 6,
   "id": "b49139fb",
   "metadata": {},
   "outputs": [
    {
     "name": "stdout",
     "output_type": "stream",
     "text": [
      "['Ball', 'Zebra', 'Cat']\n"
     ]
    }
   ],
   "source": [
    "a = [\"Apple\", \"Goat\" , \"Ant\", \"Ball\",\"Zebra\", \"Cat\"]\n",
    "del a[0:3]\n",
    "print(a)"
   ]
  },
  {
   "cell_type": "code",
   "execution_count": 8,
   "id": "3268d4f3",
   "metadata": {},
   "outputs": [
    {
     "name": "stdout",
     "output_type": "stream",
     "text": [
      "['Goat', 'Ant', 'Ball', 'Zebra', 'Cat']\n"
     ]
    }
   ],
   "source": [
    "a = [\"Apple\", \"Goat\", \"Ant\", \"Ball\",\"Zebra\", \"Cat\"]\n",
    "a.remove(\"Apple\")\n",
    "print(a)"
   ]
  },
  {
   "cell_type": "code",
   "execution_count": 9,
   "id": "444ae5e2",
   "metadata": {},
   "outputs": [
    {
     "name": "stdout",
     "output_type": "stream",
     "text": [
      "['Apple', 'Ant', 'Ball', 'Zebra', 'Cat']\n"
     ]
    }
   ],
   "source": [
    "#pop\n",
    "a = [\"Apple\", \"Goat\", \"Ant\", \"Ball\",\"Zebra\", \"Cat\"]\n",
    "a.pop(1)\n",
    "print(a)"
   ]
  },
  {
   "cell_type": "code",
   "execution_count": 10,
   "id": "31809446",
   "metadata": {},
   "outputs": [
    {
     "name": "stdout",
     "output_type": "stream",
     "text": [
      "['Apple', 'Ant', 'Ball', 'Zebra', 'Cat']\n",
      "Goat\n"
     ]
    }
   ],
   "source": [
    "a = [\"Apple\", \"Goat\", \"Ant\", \"Ball\",\"Zebra\", \"Cat\"]\n",
    "b = a.pop(1)\n",
    "print(a)\n",
    "print(b)"
   ]
  },
  {
   "cell_type": "code",
   "execution_count": 11,
   "id": "980ca86c",
   "metadata": {},
   "outputs": [
    {
     "name": "stdout",
     "output_type": "stream",
     "text": [
      "['Goat', 'Ant', 'Ball', 'Zebra', 'Cat']\n"
     ]
    }
   ],
   "source": [
    "a = [\"Apple\", \"Goat\", \"Ant\", \"Ball\",\"Zebra\", \"Cat\"]\n",
    "a.remove(\"Apple\")\n",
    "print(a) # multiple value of the same word will not be removed."
   ]
  },
  {
   "cell_type": "code",
   "execution_count": 12,
   "id": "8e7c031b",
   "metadata": {},
   "outputs": [
    {
     "name": "stdout",
     "output_type": "stream",
     "text": [
      "['Goat', 'Ant', 'Ball', 'Zebra', 'Cat']\n"
     ]
    }
   ],
   "source": [
    "a = [\"Apple\", \"Goat\", \"Ant\", \"Ball\",\"Zebra\", \"Cat\", \"Apple\"]\n",
    "n = a.count(\"Apple\")\n",
    "for i in range(n):\n",
    "    a.remove(\"Apple\")\n",
    "print(a) # # multiple value of the same word will be remove"
   ]
  },
  {
   "cell_type": "code",
   "execution_count": 15,
   "id": "6f09a2a6",
   "metadata": {},
   "outputs": [
    {
     "data": {
      "text/plain": [
       "4"
      ]
     },
     "execution_count": 15,
     "metadata": {},
     "output_type": "execute_result"
    }
   ],
   "source": [
    "a = [\"Apple\", \"Goat\", \"Ant\", \"Ball\",\"Zebra\", \"Cat\",]\n",
    "a.index(\"Zebra\")"
   ]
  },
  {
   "cell_type": "code",
   "execution_count": 20,
   "id": "52b7c463",
   "metadata": {},
   "outputs": [
    {
     "name": "stdout",
     "output_type": "stream",
     "text": [
      "4\n",
      "6\n"
     ]
    }
   ],
   "source": [
    "a = [\"Apple\", \"Goat\", \"Ant\", \"Ball\",\"Zebra\", \"Cat\", \"Zebra\"]\n",
    "l = len(a)\n",
    "for i in range(l):\n",
    "    if a[i] == \"Zebra\":\n",
    "        print(i)\n",
    "        "
   ]
  },
  {
   "cell_type": "code",
   "execution_count": null,
   "id": "32e40aa9",
   "metadata": {},
   "outputs": [],
   "source": [
    "#a = [\"Apple\", \"Ant\", \"Ball\",\"Zebra\", \"Cat\"]\n",
    "#if \"Ant\" in a:\n",
    "    print(\"Yes\", a.count(\"Ant\"))\n",
    "\n",
    "#else:\n",
    "   # print(\"No\")\n",
    "    # MAKE CASE INSENSITIVE WAP"
   ]
  }
 ],
 "metadata": {
  "kernelspec": {
   "display_name": "Python 3 (ipykernel)",
   "language": "python",
   "name": "python3"
  },
  "language_info": {
   "codemirror_mode": {
    "name": "ipython",
    "version": 3
   },
   "file_extension": ".py",
   "mimetype": "text/x-python",
   "name": "python",
   "nbconvert_exporter": "python",
   "pygments_lexer": "ipython3",
   "version": "3.8.10"
  }
 },
 "nbformat": 4,
 "nbformat_minor": 5
}
