{
 "cells": [
  {
   "cell_type": "markdown",
   "id": "4d565a6b",
   "metadata": {},
   "source": [
    "# Assignment 2"
   ]
  },
  {
   "cell_type": "code",
   "execution_count": 1,
   "id": "aba8865e",
   "metadata": {},
   "outputs": [
    {
     "name": "stdout",
     "output_type": "stream",
     "text": [
      "There are 2562 seconds in 42 minutes, 42 seconds\n"
     ]
    }
   ],
   "source": [
    "total_seconds = (42 * 60) + 42\n",
    "print(\"There are {} seconds in 42 minutes, 42 seconds\".format(total_seconds))"
   ]
  },
  {
   "cell_type": "code",
   "execution_count": 14,
   "id": "15a2b183",
   "metadata": {},
   "outputs": [
    {
     "name": "stdout",
     "output_type": "stream",
     "text": [
      "There are 6.215040397762586 km in 10 miles\n"
     ]
    }
   ],
   "source": [
    "total_miles = (10/1.609)\n",
    "print(\"There are {} km in 10 miles\".format(total_miles))"
   ]
  },
  {
   "cell_type": "code",
   "execution_count": 15,
   "id": "1b7cbf33",
   "metadata": {},
   "outputs": [
    {
     "name": "stdout",
     "output_type": "stream",
     "text": [
      "There are 0.005668934240362812 average mile\n"
     ]
    }
   ],
   "source": []
  },
  {
   "cell_type": "code",
   "execution_count": 25,
   "id": "15a77fff",
   "metadata": {},
   "outputs": [
    {
     "name": "stdout",
     "output_type": "stream",
     "text": [
      "The volume of the sphere is:  523.3333333333334\n"
     ]
    }
   ],
   "source": [
    "pi = 3.14\n",
    "r  = 5\n",
    "V  = 4/3*pi* r**3\n",
    "print('The volume of the sphere is: ',V)"
   ]
  },
  {
   "cell_type": "code",
   "execution_count": null,
   "id": "416768a8",
   "metadata": {},
   "outputs": [],
   "source": []
  }
 ],
 "metadata": {
  "kernelspec": {
   "display_name": "Python 3 (ipykernel)",
   "language": "python",
   "name": "python3"
  },
  "language_info": {
   "codemirror_mode": {
    "name": "ipython",
    "version": 3
   },
   "file_extension": ".py",
   "mimetype": "text/x-python",
   "name": "python",
   "nbconvert_exporter": "python",
   "pygments_lexer": "ipython3",
   "version": "3.8.10"
  }
 },
 "nbformat": 4,
 "nbformat_minor": 5
}
