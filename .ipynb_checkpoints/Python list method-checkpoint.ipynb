{
 "cells": [
  {
   "cell_type": "markdown",
   "id": "333fa6a3",
   "metadata": {},
   "source": [
    "# Insert Function"
   ]
  },
  {
   "cell_type": "code",
   "execution_count": 1,
   "id": "b0e71371",
   "metadata": {},
   "outputs": [],
   "source": [
    "numbers = [44,22,11,566]"
   ]
  },
  {
   "cell_type": "code",
   "execution_count": 2,
   "id": "7a7e2498",
   "metadata": {},
   "outputs": [
    {
     "data": {
      "text/plain": [
       "[44, 22, 11, 566]"
      ]
     },
     "execution_count": 2,
     "metadata": {},
     "output_type": "execute_result"
    }
   ],
   "source": [
    "numbers"
   ]
  },
  {
   "cell_type": "code",
   "execution_count": 3,
   "id": "fb5cb523",
   "metadata": {},
   "outputs": [],
   "source": [
    "numbers.insert(1, \"class2\")"
   ]
  },
  {
   "cell_type": "code",
   "execution_count": 4,
   "id": "e3624813",
   "metadata": {},
   "outputs": [
    {
     "data": {
      "text/plain": [
       "[44, 'class2', 22, 11, 566]"
      ]
     },
     "execution_count": 4,
     "metadata": {},
     "output_type": "execute_result"
    }
   ],
   "source": [
    "numbers"
   ]
  },
  {
   "cell_type": "code",
   "execution_count": 5,
   "id": "23bc99cf",
   "metadata": {},
   "outputs": [
    {
     "ename": "IndexError",
     "evalue": "list index out of range",
     "output_type": "error",
     "traceback": [
      "\u001b[1;31m---------------------------------------------------------------------------\u001b[0m",
      "\u001b[1;31mIndexError\u001b[0m                                Traceback (most recent call last)",
      "Input \u001b[1;32mIn [5]\u001b[0m, in \u001b[0;36m<cell line: 1>\u001b[1;34m()\u001b[0m\n\u001b[1;32m----> 1\u001b[0m \u001b[43mnumbers\u001b[49m\u001b[43m[\u001b[49m\u001b[38;5;241;43m7\u001b[39;49m\u001b[43m]\u001b[49m\n",
      "\u001b[1;31mIndexError\u001b[0m: list index out of range"
     ]
    }
   ],
   "source": [
    "numbers[7]"
   ]
  },
  {
   "cell_type": "code",
   "execution_count": 7,
   "id": "4e1e9cca",
   "metadata": {},
   "outputs": [],
   "source": [
    "numbers.insert(7,\"seventh index\")"
   ]
  },
  {
   "cell_type": "code",
   "execution_count": 8,
   "id": "b1817dc9",
   "metadata": {},
   "outputs": [
    {
     "data": {
      "text/plain": [
       "[44, 'class2', 22, 11, 566, 'seventh index', 'seventh index']"
      ]
     },
     "execution_count": 8,
     "metadata": {},
     "output_type": "execute_result"
    }
   ],
   "source": [
    "numbers"
   ]
  },
  {
   "cell_type": "code",
   "execution_count": 10,
   "id": "3be8e201",
   "metadata": {},
   "outputs": [
    {
     "data": {
      "text/plain": [
       "'seventh index'"
      ]
     },
     "execution_count": 10,
     "metadata": {},
     "output_type": "execute_result"
    }
   ],
   "source": [
    "numbers[5]"
   ]
  },
  {
   "cell_type": "markdown",
   "id": "3fa191d0",
   "metadata": {},
   "source": [
    "# append() method in python list"
   ]
  },
  {
   "cell_type": "code",
   "execution_count": 11,
   "id": "47c97b9f",
   "metadata": {},
   "outputs": [],
   "source": [
    "cars = [\"audi\", \"bmw\", \"mercedes\",\"maruti\"]"
   ]
  },
  {
   "cell_type": "code",
   "execution_count": 12,
   "id": "fd05ebfd",
   "metadata": {},
   "outputs": [
    {
     "data": {
      "text/plain": [
       "['audi', 'bmw', 'mercedes', 'maruti']"
      ]
     },
     "execution_count": 12,
     "metadata": {},
     "output_type": "execute_result"
    }
   ],
   "source": [
    "cars"
   ]
  },
  {
   "cell_type": "code",
   "execution_count": 15,
   "id": "be0758ac",
   "metadata": {},
   "outputs": [],
   "source": [
    "cars.append(\"Tesla\")"
   ]
  },
  {
   "cell_type": "code",
   "execution_count": 16,
   "id": "4684ed80",
   "metadata": {},
   "outputs": [
    {
     "data": {
      "text/plain": [
       "['audi', 'bmw', 'mercedes', 'maruti', 'Tesla']"
      ]
     },
     "execution_count": 16,
     "metadata": {},
     "output_type": "execute_result"
    }
   ],
   "source": [
    "cars"
   ]
  },
  {
   "cell_type": "code",
   "execution_count": 18,
   "id": "18ea603c",
   "metadata": {},
   "outputs": [],
   "source": [
    "prime_numbers= [1,2,3,5,7,11]"
   ]
  },
  {
   "cell_type": "code",
   "execution_count": 19,
   "id": "61cadc1e",
   "metadata": {},
   "outputs": [],
   "source": [
    "for item in prime_numbers:\n",
    "    square = item **2"
   ]
  },
  {
   "cell_type": "code",
   "execution_count": 20,
   "id": "4a627ca1",
   "metadata": {},
   "outputs": [
    {
     "data": {
      "text/plain": [
       "121"
      ]
     },
     "execution_count": 20,
     "metadata": {},
     "output_type": "execute_result"
    }
   ],
   "source": [
    "square"
   ]
  },
  {
   "cell_type": "code",
   "execution_count": 21,
   "id": "789c1692",
   "metadata": {},
   "outputs": [],
   "source": [
    "prime_numbers= [1,2,3,5,7,11]"
   ]
  },
  {
   "cell_type": "code",
   "execution_count": 23,
   "id": "73e445e9",
   "metadata": {},
   "outputs": [
    {
     "data": {
      "text/plain": [
       "[1, 4, 9, 25, 49, 121]"
      ]
     },
     "execution_count": 23,
     "metadata": {},
     "output_type": "execute_result"
    }
   ],
   "source": [
    "number_squares"
   ]
  },
  {
   "cell_type": "code",
   "execution_count": 24,
   "id": "df75abcd",
   "metadata": {},
   "outputs": [
    {
     "name": "stdout",
     "output_type": "stream",
     "text": [
      "[]\n",
      "[1]\n",
      "[1, 4]\n",
      "[1, 4, 9]\n",
      "[1, 4, 9, 25]\n",
      "[1, 4, 9, 25, 49]\n"
     ]
    }
   ],
   "source": [
    "number_squares = [] # creates empty list\n",
    "number_squares = list() # creates empty list.\n",
    "for item in prime_numbers:\n",
    "    square = item **2\n",
    "    print(number_squares)\n",
    "    number_squares.append(square)"
   ]
  },
  {
   "cell_type": "markdown",
   "id": "58dc374d",
   "metadata": {},
   "source": [
    "# List"
   ]
  },
  {
   "cell_type": "code",
   "execution_count": 25,
   "id": "22dad6f3",
   "metadata": {},
   "outputs": [],
   "source": [
    "list1 = [\"marker\", \"board\", \"flex\"]\n",
    "list2 = [\"duster\", \"pen\", \"paper\"]"
   ]
  },
  {
   "cell_type": "code",
   "execution_count": 26,
   "id": "a93a2321",
   "metadata": {},
   "outputs": [
    {
     "data": {
      "text/plain": [
       "['marker', 'board', 'flex']"
      ]
     },
     "execution_count": 26,
     "metadata": {},
     "output_type": "execute_result"
    }
   ],
   "source": [
    "list1"
   ]
  },
  {
   "cell_type": "code",
   "execution_count": 27,
   "id": "45da03ef",
   "metadata": {},
   "outputs": [
    {
     "data": {
      "text/plain": [
       "['duster', 'pen', 'paper']"
      ]
     },
     "execution_count": 27,
     "metadata": {},
     "output_type": "execute_result"
    }
   ],
   "source": [
    "list2"
   ]
  },
  {
   "cell_type": "code",
   "execution_count": 28,
   "id": "c5e791b3",
   "metadata": {},
   "outputs": [],
   "source": [
    "list1.extend(list2)"
   ]
  },
  {
   "cell_type": "code",
   "execution_count": 30,
   "id": "331e91f1",
   "metadata": {},
   "outputs": [
    {
     "data": {
      "text/plain": [
       "['marker', 'board', 'flex', 'duster', 'pen', 'paper']"
      ]
     },
     "execution_count": 30,
     "metadata": {},
     "output_type": "execute_result"
    }
   ],
   "source": [
    "list1"
   ]
  },
  {
   "cell_type": "code",
   "execution_count": 31,
   "id": "f0509a17",
   "metadata": {},
   "outputs": [
    {
     "data": {
      "text/plain": [
       "['duster', 'pen', 'paper']"
      ]
     },
     "execution_count": 31,
     "metadata": {},
     "output_type": "execute_result"
    }
   ],
   "source": [
    "list2"
   ]
  },
  {
   "cell_type": "code",
   "execution_count": 32,
   "id": "36032b60",
   "metadata": {},
   "outputs": [],
   "source": [
    "list1 = [\"marker\", \"board\", \"flex\"]\n",
    "list2 = [\"duster\", \"pen\", \"paper\"]\n",
    "list3 = list1 + list2"
   ]
  },
  {
   "cell_type": "code",
   "execution_count": 33,
   "id": "e7f55d24",
   "metadata": {},
   "outputs": [
    {
     "data": {
      "text/plain": [
       "['marker', 'board', 'flex', 'duster', 'pen', 'paper']"
      ]
     },
     "execution_count": 33,
     "metadata": {},
     "output_type": "execute_result"
    }
   ],
   "source": [
    "list3"
   ]
  },
  {
   "cell_type": "code",
   "execution_count": null,
   "id": "03ab3397",
   "metadata": {},
   "outputs": [],
   "source": []
  }
 ],
 "metadata": {
  "kernelspec": {
   "display_name": "Python 3 (ipykernel)",
   "language": "python",
   "name": "python3"
  },
  "language_info": {
   "codemirror_mode": {
    "name": "ipython",
    "version": 3
   },
   "file_extension": ".py",
   "mimetype": "text/x-python",
   "name": "python",
   "nbconvert_exporter": "python",
   "pygments_lexer": "ipython3",
   "version": "3.8.10"
  }
 },
 "nbformat": 4,
 "nbformat_minor": 5
}
