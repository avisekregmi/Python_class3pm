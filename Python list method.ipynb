{
 "cells": [
  {
   "cell_type": "markdown",
   "id": "2567ef50",
   "metadata": {},
   "source": [
    "# Insert Function"
   ]
  },
  {
   "cell_type": "code",
   "execution_count": 1,
   "id": "d09e61ca",
   "metadata": {},
   "outputs": [],
   "source": [
    "numbers = [44,22,11,566]"
   ]
  },
  {
   "cell_type": "code",
   "execution_count": 2,
   "id": "da3a2f6e",
   "metadata": {},
   "outputs": [
    {
     "data": {
      "text/plain": [
       "[44, 22, 11, 566]"
      ]
     },
     "execution_count": 2,
     "metadata": {},
     "output_type": "execute_result"
    }
   ],
   "source": [
    "numbers"
   ]
  },
  {
   "cell_type": "code",
   "execution_count": 3,
   "id": "afd820d6",
   "metadata": {},
   "outputs": [],
   "source": [
    "numbers.insert(1, \"class2\")"
   ]
  },
  {
   "cell_type": "code",
   "execution_count": 4,
   "id": "719ae591",
   "metadata": {},
   "outputs": [
    {
     "data": {
      "text/plain": [
       "[44, 'class2', 22, 11, 566]"
      ]
     },
     "execution_count": 4,
     "metadata": {},
     "output_type": "execute_result"
    }
   ],
   "source": [
    "numbers"
   ]
  },
  {
   "cell_type": "code",
   "execution_count": 5,
   "id": "7eb8497e",
   "metadata": {},
   "outputs": [
    {
     "ename": "IndexError",
     "evalue": "list index out of range",
     "output_type": "error",
     "traceback": [
      "\u001b[1;31m---------------------------------------------------------------------------\u001b[0m",
      "\u001b[1;31mIndexError\u001b[0m                                Traceback (most recent call last)",
      "Input \u001b[1;32mIn [5]\u001b[0m, in \u001b[0;36m<cell line: 1>\u001b[1;34m()\u001b[0m\n\u001b[1;32m----> 1\u001b[0m \u001b[43mnumbers\u001b[49m\u001b[43m[\u001b[49m\u001b[38;5;241;43m7\u001b[39;49m\u001b[43m]\u001b[49m\n",
      "\u001b[1;31mIndexError\u001b[0m: list index out of range"
     ]
    }
   ],
   "source": [
    "numbers[7]"
   ]
  },
  {
   "cell_type": "code",
   "execution_count": 7,
   "id": "60809c19",
   "metadata": {},
   "outputs": [],
   "source": [
    "numbers.insert(7,\"seventh index\")"
   ]
  },
  {
   "cell_type": "code",
   "execution_count": 8,
   "id": "dae26039",
   "metadata": {},
   "outputs": [
    {
     "data": {
      "text/plain": [
       "[44, 'class2', 22, 11, 566, 'seventh index', 'seventh index']"
      ]
     },
     "execution_count": 8,
     "metadata": {},
     "output_type": "execute_result"
    }
   ],
   "source": [
    "numbers"
   ]
  },
  {
   "cell_type": "code",
   "execution_count": 10,
   "id": "7dc2ab2c",
   "metadata": {},
   "outputs": [
    {
     "data": {
      "text/plain": [
       "'seventh index'"
      ]
     },
     "execution_count": 10,
     "metadata": {},
     "output_type": "execute_result"
    }
   ],
   "source": [
    "numbers[5]"
   ]
  },
  {
   "cell_type": "markdown",
   "id": "8ee24ee7",
   "metadata": {},
   "source": [
    "# append() method in python list"
   ]
  },
  {
   "cell_type": "code",
   "execution_count": 11,
   "id": "165ec023",
   "metadata": {},
   "outputs": [],
   "source": [
    "cars = [\"audi\", \"bmw\", \"mercedes\",\"maruti\"]"
   ]
  },
  {
   "cell_type": "code",
   "execution_count": 12,
   "id": "831d1396",
   "metadata": {},
   "outputs": [
    {
     "data": {
      "text/plain": [
       "['audi', 'bmw', 'mercedes', 'maruti']"
      ]
     },
     "execution_count": 12,
     "metadata": {},
     "output_type": "execute_result"
    }
   ],
   "source": [
    "cars"
   ]
  },
  {
   "cell_type": "code",
   "execution_count": 15,
   "id": "890fd466",
   "metadata": {},
   "outputs": [],
   "source": [
    "cars.append(\"Tesla\")"
   ]
  },
  {
   "cell_type": "code",
   "execution_count": 16,
   "id": "635cf371",
   "metadata": {},
   "outputs": [
    {
     "data": {
      "text/plain": [
       "['audi', 'bmw', 'mercedes', 'maruti', 'Tesla']"
      ]
     },
     "execution_count": 16,
     "metadata": {},
     "output_type": "execute_result"
    }
   ],
   "source": [
    "cars"
   ]
  },
  {
   "cell_type": "code",
   "execution_count": 18,
   "id": "759d0a4f",
   "metadata": {},
   "outputs": [],
   "source": [
    "prime_numbers= [1,2,3,5,7,11]"
   ]
  },
  {
   "cell_type": "code",
   "execution_count": 19,
   "id": "67a4d72d",
   "metadata": {},
   "outputs": [],
   "source": [
    "for item in prime_numbers:\n",
    "    square = item **2"
   ]
  },
  {
   "cell_type": "code",
   "execution_count": 20,
   "id": "58650ee7",
   "metadata": {},
   "outputs": [
    {
     "data": {
      "text/plain": [
       "121"
      ]
     },
     "execution_count": 20,
     "metadata": {},
     "output_type": "execute_result"
    }
   ],
   "source": [
    "square"
   ]
  },
  {
   "cell_type": "code",
   "execution_count": 21,
   "id": "762f4dd0",
   "metadata": {},
   "outputs": [],
   "source": [
    "prime_numbers= [1,2,3,5,7,11]"
   ]
  },
  {
   "cell_type": "code",
   "execution_count": 23,
   "id": "bb5f507b",
   "metadata": {},
   "outputs": [
    {
     "data": {
      "text/plain": [
       "[1, 4, 9, 25, 49, 121]"
      ]
     },
     "execution_count": 23,
     "metadata": {},
     "output_type": "execute_result"
    }
   ],
   "source": [
    "number_squares"
   ]
  },
  {
   "cell_type": "code",
   "execution_count": 24,
   "id": "e9738384",
   "metadata": {},
   "outputs": [
    {
     "name": "stdout",
     "output_type": "stream",
     "text": [
      "[]\n",
      "[1]\n",
      "[1, 4]\n",
      "[1, 4, 9]\n",
      "[1, 4, 9, 25]\n",
      "[1, 4, 9, 25, 49]\n"
     ]
    }
   ],
   "source": [
    "number_squares = [] # creates empty list\n",
    "number_squares = list() # creates empty list.\n",
    "for item in prime_numbers:\n",
    "    square = item **2\n",
    "    print(number_squares)\n",
    "    number_squares.append(square)"
   ]
  },
  {
   "cell_type": "markdown",
   "id": "82614b5a",
   "metadata": {},
   "source": [
    "# Extend"
   ]
  },
  {
   "cell_type": "code",
   "execution_count": 25,
   "id": "85058626",
   "metadata": {},
   "outputs": [],
   "source": [
    "list1 = [\"marker\", \"board\", \"flex\"]\n",
    "list2 = [\"duster\", \"pen\", \"paper\"]"
   ]
  },
  {
   "cell_type": "code",
   "execution_count": 26,
   "id": "7cf1230c",
   "metadata": {},
   "outputs": [
    {
     "data": {
      "text/plain": [
       "['marker', 'board', 'flex']"
      ]
     },
     "execution_count": 26,
     "metadata": {},
     "output_type": "execute_result"
    }
   ],
   "source": [
    "list1"
   ]
  },
  {
   "cell_type": "code",
   "execution_count": 27,
   "id": "4e27b171",
   "metadata": {},
   "outputs": [
    {
     "data": {
      "text/plain": [
       "['duster', 'pen', 'paper']"
      ]
     },
     "execution_count": 27,
     "metadata": {},
     "output_type": "execute_result"
    }
   ],
   "source": [
    "list2"
   ]
  },
  {
   "cell_type": "code",
   "execution_count": 28,
   "id": "e926d4b0",
   "metadata": {},
   "outputs": [],
   "source": [
    "list1.extend(list2)"
   ]
  },
  {
   "cell_type": "code",
   "execution_count": 30,
   "id": "8568feb4",
   "metadata": {},
   "outputs": [
    {
     "data": {
      "text/plain": [
       "['marker', 'board', 'flex', 'duster', 'pen', 'paper']"
      ]
     },
     "execution_count": 30,
     "metadata": {},
     "output_type": "execute_result"
    }
   ],
   "source": [
    "list1"
   ]
  },
  {
   "cell_type": "code",
   "execution_count": 31,
   "id": "67c17bff",
   "metadata": {},
   "outputs": [
    {
     "data": {
      "text/plain": [
       "['duster', 'pen', 'paper']"
      ]
     },
     "execution_count": 31,
     "metadata": {},
     "output_type": "execute_result"
    }
   ],
   "source": [
    "list2"
   ]
  },
  {
   "cell_type": "code",
   "execution_count": 32,
   "id": "68f8778c",
   "metadata": {},
   "outputs": [],
   "source": [
    "list1 = [\"marker\", \"board\", \"flex\"]\n",
    "list2 = [\"duster\", \"pen\", \"paper\"]\n",
    "list3 = list1 + list2"
   ]
  },
  {
   "cell_type": "code",
   "execution_count": 33,
   "id": "736d9b81",
   "metadata": {},
   "outputs": [
    {
     "data": {
      "text/plain": [
       "['marker', 'board', 'flex', 'duster', 'pen', 'paper']"
      ]
     },
     "execution_count": 33,
     "metadata": {},
     "output_type": "execute_result"
    }
   ],
   "source": [
    "list3"
   ]
  },
  {
   "cell_type": "code",
   "execution_count": 34,
   "id": "de5e2409",
   "metadata": {},
   "outputs": [],
   "source": [
    "list3.remove(\"marker\")"
   ]
  },
  {
   "cell_type": "code",
   "execution_count": 35,
   "id": "fa3a5b5f",
   "metadata": {},
   "outputs": [
    {
     "data": {
      "text/plain": [
       "['board', 'flex', 'duster', 'pen', 'paper']"
      ]
     },
     "execution_count": 35,
     "metadata": {},
     "output_type": "execute_result"
    }
   ],
   "source": [
    "list3"
   ]
  },
  {
   "cell_type": "code",
   "execution_count": 40,
   "id": "72f583c7",
   "metadata": {},
   "outputs": [],
   "source": [
    "cars = [\"audi\", \"bmw\", \"mercedes\",\"maruti\", \"audi\", \"maruti\"]"
   ]
  },
  {
   "cell_type": "code",
   "execution_count": 41,
   "id": "eadaf3cf",
   "metadata": {},
   "outputs": [
    {
     "data": {
      "text/plain": [
       "['audi', 'bmw', 'mercedes', 'maruti', 'audi', 'maruti']"
      ]
     },
     "execution_count": 41,
     "metadata": {},
     "output_type": "execute_result"
    }
   ],
   "source": [
    "cars"
   ]
  },
  {
   "cell_type": "markdown",
   "id": "b1a9d81c",
   "metadata": {},
   "source": [
    "# Remove"
   ]
  },
  {
   "cell_type": "code",
   "execution_count": 42,
   "id": "63fb9a11",
   "metadata": {},
   "outputs": [],
   "source": [
    "cars.remove(\"maruti\")"
   ]
  },
  {
   "cell_type": "code",
   "execution_count": 43,
   "id": "710fc1ab",
   "metadata": {},
   "outputs": [
    {
     "data": {
      "text/plain": [
       "['audi', 'bmw', 'mercedes', 'audi', 'maruti']"
      ]
     },
     "execution_count": 43,
     "metadata": {},
     "output_type": "execute_result"
    }
   ],
   "source": [
    "cars"
   ]
  },
  {
   "cell_type": "markdown",
   "id": "4b30eba9",
   "metadata": {},
   "source": [
    "# Python list as stack"
   ]
  },
  {
   "cell_type": "code",
   "execution_count": 44,
   "id": "86c8669c",
   "metadata": {},
   "outputs": [],
   "source": [
    "cars = [\"audi\", \"bmw\", \"mercedes\",\"maruti\", \"audi\", \"maruti\"]"
   ]
  },
  {
   "cell_type": "markdown",
   "id": "cc6c8f5d",
   "metadata": {},
   "source": [
    "# LAST IN FIRST OUT (LIFO\n",
    "\n",
    "item appended at last are removed\n",
    "\n",
    "im"
   ]
  },
  {
   "cell_type": "code",
   "execution_count": 45,
   "id": "ace69511",
   "metadata": {},
   "outputs": [],
   "source": [
    "cars = [\"audi\", \"bmw\", \"mercedes\",\"maruti\", \"audi\", \"maruti\"]"
   ]
  },
  {
   "cell_type": "code",
   "execution_count": 46,
   "id": "df733963",
   "metadata": {},
   "outputs": [
    {
     "data": {
      "text/plain": [
       "'maruti'"
      ]
     },
     "execution_count": 46,
     "metadata": {},
     "output_type": "execute_result"
    }
   ],
   "source": [
    "cars.pop()"
   ]
  },
  {
   "cell_type": "code",
   "execution_count": 47,
   "id": "09026c85",
   "metadata": {},
   "outputs": [
    {
     "data": {
      "text/plain": [
       "['audi', 'bmw', 'mercedes', 'maruti', 'audi']"
      ]
     },
     "execution_count": 47,
     "metadata": {},
     "output_type": "execute_result"
    }
   ],
   "source": [
    "cars"
   ]
  },
  {
   "cell_type": "markdown",
   "id": "70329248",
   "metadata": {},
   "source": [
    "# pop using index"
   ]
  },
  {
   "cell_type": "code",
   "execution_count": 48,
   "id": "f2381d09",
   "metadata": {},
   "outputs": [],
   "source": [
    "cars = [\"audi\", \"bmw\", \"mercedes\",\"maruti\", \"audi\", \"maruti\"]"
   ]
  },
  {
   "cell_type": "code",
   "execution_count": 51,
   "id": "0046313c",
   "metadata": {},
   "outputs": [
    {
     "data": {
      "text/plain": [
       "'bmw'"
      ]
     },
     "execution_count": 51,
     "metadata": {},
     "output_type": "execute_result"
    }
   ],
   "source": [
    "cars.pop(1)"
   ]
  },
  {
   "cell_type": "code",
   "execution_count": 52,
   "id": "5d5bbe87",
   "metadata": {},
   "outputs": [
    {
     "data": {
      "text/plain": [
       "['audi', 'mercedes', 'maruti', 'audi']"
      ]
     },
     "execution_count": 52,
     "metadata": {},
     "output_type": "execute_result"
    }
   ],
   "source": [
    "cars"
   ]
  },
  {
   "cell_type": "markdown",
   "id": "4ae15ed2",
   "metadata": {},
   "source": [
    "# Sorting in Python"
   ]
  },
  {
   "cell_type": "code",
   "execution_count": 53,
   "id": "4a523517",
   "metadata": {},
   "outputs": [],
   "source": [
    "cars = [\"audi\", \"bmw\", \"mercedes\",\"maruti\", \"audi\", \"maruti\"]"
   ]
  },
  {
   "cell_type": "code",
   "execution_count": 54,
   "id": "82cacebb",
   "metadata": {},
   "outputs": [],
   "source": [
    "cars.sort()"
   ]
  },
  {
   "cell_type": "code",
   "execution_count": 55,
   "id": "849c0908",
   "metadata": {},
   "outputs": [
    {
     "data": {
      "text/plain": [
       "['audi', 'audi', 'bmw', 'maruti', 'maruti', 'mercedes']"
      ]
     },
     "execution_count": 55,
     "metadata": {},
     "output_type": "execute_result"
    }
   ],
   "source": [
    "cars"
   ]
  },
  {
   "cell_type": "code",
   "execution_count": 56,
   "id": "02878019",
   "metadata": {},
   "outputs": [],
   "source": [
    "nums = [22, -1,0, 33, -7]"
   ]
  },
  {
   "cell_type": "code",
   "execution_count": 57,
   "id": "d154f1b4",
   "metadata": {},
   "outputs": [],
   "source": [
    "nums.sort()"
   ]
  },
  {
   "cell_type": "code",
   "execution_count": 58,
   "id": "24f95cbb",
   "metadata": {},
   "outputs": [
    {
     "data": {
      "text/plain": [
       "[-7, -1, 0, 22, 33]"
      ]
     },
     "execution_count": 58,
     "metadata": {},
     "output_type": "execute_result"
    }
   ],
   "source": [
    "nums"
   ]
  },
  {
   "cell_type": "code",
   "execution_count": 59,
   "id": "7a1bb8d4",
   "metadata": {},
   "outputs": [],
   "source": [
    "nums = [22, -1,0, 33, -7]\n",
    "nums.sort(reverse = True) # decending order "
   ]
  },
  {
   "cell_type": "code",
   "execution_count": 60,
   "id": "9f2abfd2",
   "metadata": {},
   "outputs": [
    {
     "data": {
      "text/plain": [
       "[33, 22, 0, -1, -7]"
      ]
     },
     "execution_count": 60,
     "metadata": {},
     "output_type": "execute_result"
    }
   ],
   "source": [
    "nums"
   ]
  },
  {
   "cell_type": "code",
   "execution_count": 61,
   "id": "cd7136a3",
   "metadata": {},
   "outputs": [],
   "source": [
    "nums = [22, -1,0, 33, -7]\n",
    "nums.sort(reverse = False)"
   ]
  },
  {
   "cell_type": "code",
   "execution_count": 62,
   "id": "66378b10",
   "metadata": {},
   "outputs": [
    {
     "data": {
      "text/plain": [
       "[-7, -1, 0, 22, 33]"
      ]
     },
     "execution_count": 62,
     "metadata": {},
     "output_type": "execute_result"
    }
   ],
   "source": [
    "nums"
   ]
  },
  {
   "cell_type": "code",
   "execution_count": null,
   "id": "02d7f904",
   "metadata": {},
   "outputs": [],
   "source": []
  }
 ],
 "metadata": {
  "kernelspec": {
   "display_name": "Python 3 (ipykernel)",
   "language": "python",
   "name": "python3"
  },
  "language_info": {
   "codemirror_mode": {
    "name": "ipython",
    "version": 3
   },
   "file_extension": ".py",
   "mimetype": "text/x-python",
   "name": "python",
   "nbconvert_exporter": "python",
   "pygments_lexer": "ipython3",
   "version": "3.8.10"
  }
 },
 "nbformat": 4,
 "nbformat_minor": 5
}
