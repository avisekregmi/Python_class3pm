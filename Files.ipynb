{
 "cells": [
  {
   "cell_type": "code",
   "execution_count": 2,
   "id": "384cc51b",
   "metadata": {},
   "outputs": [],
   "source": [
    "#file = open(\"<file_name\", \"<modes>\") # open file then close file\n",
    "# <operations>\n",
    "# file.close()"
   ]
  },
  {
   "cell_type": "code",
   "execution_count": 3,
   "id": "1ae8641f",
   "metadata": {},
   "outputs": [],
   "source": [
    "# with open(\"<file_name\", \"<modes>\") as file:\n",
    "#    <operation>\n",
    "    "
   ]
  },
  {
   "cell_type": "code",
   "execution_count": 4,
   "id": "2f3d904b",
   "metadata": {},
   "outputs": [],
   "source": [
    "# modes\n",
    "# r -> read\n",
    "# x -> create\n",
    "# w -> write - overides existing data \n",
    "# a -> append - existing data and new data lines added to the data"
   ]
  },
  {
   "cell_type": "code",
   "execution_count": 6,
   "id": "57632b1e",
   "metadata": {},
   "outputs": [
    {
     "ename": "FileExistsError",
     "evalue": "[Errno 17] File exists: 'data.txt'",
     "output_type": "error",
     "traceback": [
      "\u001b[1;31m---------------------------------------------------------------------------\u001b[0m",
      "\u001b[1;31mFileExistsError\u001b[0m                           Traceback (most recent call last)",
      "Input \u001b[1;32mIn [6]\u001b[0m, in \u001b[0;36m<cell line: 1>\u001b[1;34m()\u001b[0m\n\u001b[1;32m----> 1\u001b[0m file \u001b[38;5;241m=\u001b[39m \u001b[38;5;28;43mopen\u001b[39;49m\u001b[43m(\u001b[49m\u001b[38;5;124;43m\"\u001b[39;49m\u001b[38;5;124;43mdata.txt\u001b[39;49m\u001b[38;5;124;43m\"\u001b[39;49m\u001b[43m,\u001b[49m\u001b[43m \u001b[49m\u001b[38;5;124;43m\"\u001b[39;49m\u001b[38;5;124;43mx\u001b[39;49m\u001b[38;5;124;43m\"\u001b[39;49m\u001b[43m)\u001b[49m \u001b[38;5;66;03m# txt file extension x to create \u001b[39;00m\n\u001b[0;32m      2\u001b[0m file\u001b[38;5;241m.\u001b[39mclose()\n",
      "\u001b[1;31mFileExistsError\u001b[0m: [Errno 17] File exists: 'data.txt'"
     ]
    }
   ],
   "source": [
    "file = open(\"data.txt\", \"x\") # txt file extension x to create \n",
    "file.close() # below error is related to trying to create same file again."
   ]
  },
  {
   "cell_type": "code",
   "execution_count": null,
   "id": "f4f635bb",
   "metadata": {},
   "outputs": [],
   "source": [
    "file = open(\"data.txt\", \"x\") # txt file extension x to create \n",
    "file.close() # below error is related to trying to create same file again."
   ]
  },
  {
   "cell_type": "code",
   "execution_count": 9,
   "id": "dd38229d",
   "metadata": {},
   "outputs": [
    {
     "name": "stdout",
     "output_type": "stream",
     "text": [
      "The file already exist\n"
     ]
    }
   ],
   "source": [
    "try:\n",
    "    file = open(\"data.txt\", \"x\")  \n",
    "    file.close()\n",
    "except:\n",
    "    print(\"The file already exist\")"
   ]
  },
  {
   "cell_type": "code",
   "execution_count": 16,
   "id": "2cec5fe3",
   "metadata": {},
   "outputs": [
    {
     "name": "stdout",
     "output_type": "stream",
     "text": [
      "1. Hello World\n",
      "2. Hello World\n",
      "3. Hello World\n",
      "4. Hello World\n",
      "5. Hello World\n",
      "6. Hello World\n",
      "7. Hello World\n",
      "8. Hello World\n"
     ]
    }
   ],
   "source": [
    "with open(\"data.txt\", \"r\") as file:\n",
    "    print(file.read())"
   ]
  },
  {
   "cell_type": "code",
   "execution_count": 7,
   "id": "3cb17df8",
   "metadata": {},
   "outputs": [
    {
     "name": "stdout",
     "output_type": "stream",
     "text": [
      "1. Hello World\n",
      "2. Hello World\n",
      "3. Hello World\n",
      "4. Hello World\n",
      "5. Hello World\n",
      "6. Hello World\n",
      "7. Hello World\n",
      "8. Hello World\n",
      "<class 'str'>\n"
     ]
    }
   ],
   "source": [
    "with open(\"data.txt\", \"r\") as file:\n",
    "    x = file.read()\n",
    "    print(x)\n",
    "    print(type(x))"
   ]
  },
  {
   "cell_type": "code",
   "execution_count": 15,
   "id": "0f2ed47e",
   "metadata": {},
   "outputs": [
    {
     "name": "stdout",
     "output_type": "stream",
     "text": [
      "['1. Hello World', '2. Hello World', '3. Hello World', '4. Hello World', '5. Hello World', '6. Hello World', '7. Hello World', '8. Hello World']\n"
     ]
    }
   ],
   "source": [
    "with open(\"data.txt\", \"r\") as file:\n",
    "    x = file.read()\n",
    "    x = x.split(\"\\n\")\n",
    "    print(x)\n",
    "    "
   ]
  },
  {
   "cell_type": "code",
   "execution_count": 1,
   "id": "aeaefbc2",
   "metadata": {},
   "outputs": [
    {
     "name": "stdout",
     "output_type": "stream",
     "text": [
      "Enter n = 1\n",
      "1. Hello World\n"
     ]
    }
   ],
   "source": [
    "with open(\"data.txt\", \"r\") as file:\n",
    "    x = file.read()\n",
    "    x = x.split(\"\\n\")\n",
    "\n",
    "n = int(input(\"Enter n = \"))\n",
    "print(x[n-1])"
   ]
  },
  {
   "cell_type": "code",
   "execution_count": 26,
   "id": "2da7813f",
   "metadata": {},
   "outputs": [
    {
     "name": "stdout",
     "output_type": "stream",
     "text": [
      "1. Hello World\n",
      "\n",
      "<class 'str'>\n"
     ]
    }
   ],
   "source": [
    "# readline() # to read the first line of certain file\n",
    "with open(\"data.txt\", \"r\") as file:\n",
    "    x = file.readline()\n",
    "    print(x)\n",
    "    print(type(x))"
   ]
  },
  {
   "cell_type": "code",
   "execution_count": 4,
   "id": "e6a79d1c",
   "metadata": {},
   "outputs": [],
   "source": [
    "with open(\"newdata.txt\", \"w\") as file:\n",
    "    file.write(\"Hello World\")"
   ]
  },
  {
   "cell_type": "code",
   "execution_count": 5,
   "id": "3e005047",
   "metadata": {},
   "outputs": [],
   "source": [
    "with open(\"newdata.txt\", \"w\") as file: \n",
    "    file.write(\"n2.Hello World\")"
   ]
  },
  {
   "cell_type": "code",
   "execution_count": 7,
   "id": "e4ea65a1",
   "metadata": {},
   "outputs": [],
   "source": [
    "with open(\"newdata.txt\", \"a\") as file: # \"append function\"\n",
    "    file.write(\"2.Hello World\\n\")"
   ]
  },
  {
   "cell_type": "code",
   "execution_count": 8,
   "id": "5167c81e",
   "metadata": {},
   "outputs": [
    {
     "name": "stdout",
     "output_type": "stream",
     "text": [
      "Enter n = 2\n",
      "Enter name =Apple\n",
      "Enter price = 300\n",
      "Enter quantity = 1\n",
      "Enter name =Banana\n",
      "Enter price = 150\n",
      "Enter quantity = 1\n",
      "Apple 300 1 300\n",
      "Banana 150 1 150\n",
      "\n"
     ]
    }
   ],
   "source": [
    "bill = 0\n",
    "s = str()\n",
    "n = int(input(\"Enter n = \"))\n",
    "for i in range(n):\n",
    "    name = input (\"Enter name =\")\n",
    "    price = int(input(\"Enter price = \"))\n",
    "    quantity = int(input(\"Enter quantity = \"))\n",
    "    total = price*quantity\n",
    "    s = s + f\"{name} {price} {quantity} {total}\\n\"\n",
    "    bill = bill+total\n",
    "\n",
    "print(s)\n",
    "with open(\"newdata.txt\", \"w\") as file:\n",
    "    file.write(s)"
   ]
  },
  {
   "cell_type": "code",
   "execution_count": 10,
   "id": "b46b453d",
   "metadata": {},
   "outputs": [
    {
     "name": "stdout",
     "output_type": "stream",
     "text": [
      "Enter n = 2\n",
      "Enter name =Apple\n",
      "Enter price = 300\n",
      "Enter quantity = 2\n",
      "Enter name =Banana\n",
      "Enter price = 3\n",
      "Enter quantity = 100\n",
      "Apple,300,2,600\n",
      "Banana,3,100,300\n",
      "\n"
     ]
    }
   ],
   "source": [
    "#.csv file, comma seperated value(csv) is run on miscrosoft excel\n",
    "bill = 0\n",
    "s = str()\n",
    "n = int(input(\"Enter n = \"))\n",
    "for i in range(n):\n",
    "    name = input (\"Enter name =\")\n",
    "    price = int(input(\"Enter price = \"))\n",
    "    quantity = int(input(\"Enter quantity = \"))\n",
    "    total = price*quantity\n",
    "    s = s + f\"{name},{price},{quantity},{total}\\n\"\n",
    "    bill = bill+total\n",
    "\n",
    "print(s)\n",
    "\n",
    "with open(\"newdata.csv\", \"w\") as file:#.csv ms excel\n",
    "    file.write(\"Name,Price,Quantity,Total\\n\")  # EXCL Table Header\n",
    "    file.write(s)"
   ]
  },
  {
   "cell_type": "code",
   "execution_count": 13,
   "id": "2d21b165",
   "metadata": {},
   "outputs": [
    {
     "name": "stdout",
     "output_type": "stream",
     "text": [
      "The file is not there!\n"
     ]
    }
   ],
   "source": [
    "import os\n",
    "try:\n",
    "    os.remove(\"data.txt\") # to remove file\n",
    "except:\n",
    "    print(\"The file is not there!\")"
   ]
  },
  {
   "cell_type": "code",
   "execution_count": 1,
   "id": "d943b19a",
   "metadata": {},
   "outputs": [
    {
     "data": {
      "text/html": [
       "<div>\n",
       "<style scoped>\n",
       "    .dataframe tbody tr th:only-of-type {\n",
       "        vertical-align: middle;\n",
       "    }\n",
       "\n",
       "    .dataframe tbody tr th {\n",
       "        vertical-align: top;\n",
       "    }\n",
       "\n",
       "    .dataframe thead th {\n",
       "        text-align: right;\n",
       "    }\n",
       "</style>\n",
       "<table border=\"1\" class=\"dataframe\">\n",
       "  <thead>\n",
       "    <tr style=\"text-align: right;\">\n",
       "      <th></th>\n",
       "      <th>Name</th>\n",
       "      <th>Price</th>\n",
       "      <th>Quantity</th>\n",
       "      <th>Total</th>\n",
       "    </tr>\n",
       "  </thead>\n",
       "  <tbody>\n",
       "    <tr>\n",
       "      <th>0</th>\n",
       "      <td>Apple</td>\n",
       "      <td>300</td>\n",
       "      <td>2</td>\n",
       "      <td>600</td>\n",
       "    </tr>\n",
       "    <tr>\n",
       "      <th>1</th>\n",
       "      <td>Banana</td>\n",
       "      <td>3</td>\n",
       "      <td>100</td>\n",
       "      <td>300</td>\n",
       "    </tr>\n",
       "  </tbody>\n",
       "</table>\n",
       "</div>"
      ],
      "text/plain": [
       "     Name  Price  Quantity  Total\n",
       "0   Apple    300         2    600\n",
       "1  Banana      3       100    300"
      ]
     },
     "execution_count": 1,
     "metadata": {},
     "output_type": "execute_result"
    }
   ],
   "source": [
    "import pandas as pd #  pandas package\n",
    "df = pd.read_csv(\"newdata.csv\") # df = dataframe (Tabular Data)\n",
    "df"
   ]
  },
  {
   "cell_type": "code",
   "execution_count": null,
   "id": "7c868388",
   "metadata": {},
   "outputs": [],
   "source": []
  }
 ],
 "metadata": {
  "kernelspec": {
   "display_name": "Python 3 (ipykernel)",
   "language": "python",
   "name": "python3"
  },
  "language_info": {
   "codemirror_mode": {
    "name": "ipython",
    "version": 3
   },
   "file_extension": ".py",
   "mimetype": "text/x-python",
   "name": "python",
   "nbconvert_exporter": "python",
   "pygments_lexer": "ipython3",
   "version": "3.8.10"
  }
 },
 "nbformat": 4,
 "nbformat_minor": 5
}
