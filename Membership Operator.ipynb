{
 "cells": [
  {
   "cell_type": "code",
   "execution_count": 1,
   "id": "866e96de",
   "metadata": {},
   "outputs": [],
   "source": [
    "class2 = [\"pratik\", \"abishek\", \"punam\", \"abhishek\", \"kusum\", \"nissan\", \"swapnil\"]"
   ]
  },
  {
   "cell_type": "code",
   "execution_count": 2,
   "id": "758547d8",
   "metadata": {},
   "outputs": [
    {
     "data": {
      "text/plain": [
       "True"
      ]
     },
     "execution_count": 2,
     "metadata": {},
     "output_type": "execute_result"
    }
   ],
   "source": [
    "\"nissan\" in class2"
   ]
  },
  {
   "cell_type": "code",
   "execution_count": 3,
   "id": "4ee329a6",
   "metadata": {},
   "outputs": [
    {
     "data": {
      "text/plain": [
       "False"
      ]
     },
     "execution_count": 3,
     "metadata": {},
     "output_type": "execute_result"
    }
   ],
   "source": [
    "\"nishan\" in class2"
   ]
  },
  {
   "cell_type": "code",
   "execution_count": 4,
   "id": "f3f4ae98",
   "metadata": {},
   "outputs": [
    {
     "data": {
      "text/plain": [
       "True"
      ]
     },
     "execution_count": 4,
     "metadata": {},
     "output_type": "execute_result"
    }
   ],
   "source": [
    "\"nishan\" not in class2"
   ]
  },
  {
   "cell_type": "code",
   "execution_count": 5,
   "id": "e49d3d47",
   "metadata": {},
   "outputs": [],
   "source": [
    "name = \"k$shitiz\""
   ]
  },
  {
   "cell_type": "code",
   "execution_count": 6,
   "id": "52eb05c8",
   "metadata": {},
   "outputs": [
    {
     "data": {
      "text/plain": [
       "'$'"
      ]
     },
     "execution_count": 6,
     "metadata": {},
     "output_type": "execute_result"
    }
   ],
   "source": [
    "name[1]"
   ]
  },
  {
   "cell_type": "code",
   "execution_count": 7,
   "id": "0bfb567e",
   "metadata": {},
   "outputs": [],
   "source": [
    "class2 = [\"pratik\", \"abishek\", \"punam\", \"abhishek\", \"kusum\", \"nissan\", \"swapnil\"]"
   ]
  },
  {
   "cell_type": "code",
   "execution_count": 8,
   "id": "eab54dba",
   "metadata": {},
   "outputs": [
    {
     "data": {
      "text/plain": [
       "'nissan'"
      ]
     },
     "execution_count": 8,
     "metadata": {},
     "output_type": "execute_result"
    }
   ],
   "source": [
    "class2[5]"
   ]
  },
  {
   "cell_type": "code",
   "execution_count": 9,
   "id": "350debba",
   "metadata": {},
   "outputs": [],
   "source": [
    "class2[5] =\"Nishan\""
   ]
  },
  {
   "cell_type": "code",
   "execution_count": 10,
   "id": "e79f6243",
   "metadata": {},
   "outputs": [
    {
     "data": {
      "text/plain": [
       "['pratik', 'abishek', 'punam', 'abhishek', 'kusum', 'Nishan', 'swapnil']"
      ]
     },
     "execution_count": 10,
     "metadata": {},
     "output_type": "execute_result"
    }
   ],
   "source": [
    "class2"
   ]
  },
  {
   "cell_type": "code",
   "execution_count": 11,
   "id": "4c4543d7",
   "metadata": {},
   "outputs": [
    {
     "data": {
      "text/plain": [
       "['pratik', 'abishek']"
      ]
     },
     "execution_count": 11,
     "metadata": {},
     "output_type": "execute_result"
    }
   ],
   "source": [
    "class2[:2]"
   ]
  },
  {
   "cell_type": "code",
   "execution_count": 12,
   "id": "d91968b9",
   "metadata": {},
   "outputs": [],
   "source": [
    "class2[:2] = [\"Pratik\", \"Avisek\"]"
   ]
  },
  {
   "cell_type": "code",
   "execution_count": 13,
   "id": "2367d71e",
   "metadata": {},
   "outputs": [
    {
     "data": {
      "text/plain": [
       "['Pratik', 'Avisek', 'punam', 'abhishek', 'kusum', 'Nishan', 'swapnil']"
      ]
     },
     "execution_count": 13,
     "metadata": {},
     "output_type": "execute_result"
    }
   ],
   "source": [
    "class2"
   ]
  },
  {
   "cell_type": "code",
   "execution_count": null,
   "id": "cfc16e09",
   "metadata": {},
   "outputs": [],
   "source": []
  }
 ],
 "metadata": {
  "kernelspec": {
   "display_name": "Python 3 (ipykernel)",
   "language": "python",
   "name": "python3"
  },
  "language_info": {
   "codemirror_mode": {
    "name": "ipython",
    "version": 3
   },
   "file_extension": ".py",
   "mimetype": "text/x-python",
   "name": "python",
   "nbconvert_exporter": "python",
   "pygments_lexer": "ipython3",
   "version": "3.8.10"
  }
 },
 "nbformat": 4,
 "nbformat_minor": 5
}
