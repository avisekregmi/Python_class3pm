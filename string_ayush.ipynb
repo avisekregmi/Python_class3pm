{
 "cells": [
  {
   "cell_type": "code",
   "execution_count": 2,
   "id": "ecea9c8d",
   "metadata": {},
   "outputs": [],
   "source": [
    "a = str()"
   ]
  },
  {
   "cell_type": "code",
   "execution_count": 13,
   "id": "0e9420b4",
   "metadata": {},
   "outputs": [
    {
     "name": "stdout",
     "output_type": "stream",
     "text": [
      "Python Python Python\n"
     ]
    }
   ],
   "source": [
    "a = \"Python\"\n",
    "b = 'Python'\n",
    "c = '''Python'''\n",
    "\n",
    "print(a, b, c)"
   ]
  },
  {
   "cell_type": "code",
   "execution_count": 14,
   "id": "f67abcad",
   "metadata": {},
   "outputs": [
    {
     "name": "stdout",
     "output_type": "stream",
     "text": [
      "<class 'str'> <class 'str'> <class 'str'>\n"
     ]
    }
   ],
   "source": [
    "print(type(a),type(b),type(c))"
   ]
  },
  {
   "cell_type": "code",
   "execution_count": null,
   "id": "e6acebef",
   "metadata": {},
   "outputs": [],
   "source": [
    "# string is imutable data type"
   ]
  },
  {
   "cell_type": "code",
   "execution_count": 8,
   "id": "acc9e219",
   "metadata": {},
   "outputs": [
    {
     "name": "stdout",
     "output_type": "stream",
     "text": [
      "Hello World\n"
     ]
    }
   ],
   "source": [
    "a = \"Hello \"\n",
    "b = \"World\"\n",
    "c = a+b # concatenation\n",
    "print(c)"
   ]
  },
  {
   "cell_type": "code",
   "execution_count": 10,
   "id": "a7a25b8d",
   "metadata": {},
   "outputs": [
    {
     "name": "stdout",
     "output_type": "stream",
     "text": [
      "Hello World Hello World \n"
     ]
    }
   ],
   "source": [
    "a = \"Hello World \"\n",
    "print(a*2)"
   ]
  },
  {
   "cell_type": "code",
   "execution_count": 12,
   "id": "7b667f02",
   "metadata": {},
   "outputs": [
    {
     "name": "stdout",
     "output_type": "stream",
     "text": [
      "Hello World\n",
      "Hello World\n",
      "\n"
     ]
    }
   ],
   "source": [
    "a = \"Hello World\\n\"\n",
    "print(a*2)"
   ]
  },
  {
   "cell_type": "code",
   "execution_count": 15,
   "id": "9db8ccb4",
   "metadata": {},
   "outputs": [
    {
     "name": "stdout",
     "output_type": "stream",
     "text": [
      "Enter a = Python\n",
      "Python\n"
     ]
    }
   ],
   "source": [
    "a = input(\"Enter a = \")\n",
    "print(a)"
   ]
  },
  {
   "cell_type": "code",
   "execution_count": 16,
   "id": "f51db6c5",
   "metadata": {},
   "outputs": [
    {
     "name": "stdout",
     "output_type": "stream",
     "text": [
      "H\n",
      "e\n",
      "l\n",
      "l\n",
      "o\n",
      " \n",
      "W\n",
      "o\n",
      "r\n",
      "l\n",
      "d\n"
     ]
    }
   ],
   "source": [
    "a = \"Hello World\"\n",
    "for i in a:\n",
    "    print(i)"
   ]
  },
  {
   "cell_type": "code",
   "execution_count": 17,
   "id": "eae82ff0",
   "metadata": {},
   "outputs": [
    {
     "name": "stdout",
     "output_type": "stream",
     "text": [
      "H\n"
     ]
    }
   ],
   "source": [
    "a = \"Hello World\"\n",
    "print(a[0]) #indexing"
   ]
  },
  {
   "cell_type": "code",
   "execution_count": 18,
   "id": "2ec4fde3",
   "metadata": {},
   "outputs": [
    {
     "name": "stdout",
     "output_type": "stream",
     "text": [
      "d\n"
     ]
    }
   ],
   "source": [
    "a = \"Hello World\"\n",
    "print(a[-1]) # indexing"
   ]
  },
  {
   "cell_type": "code",
   "execution_count": 19,
   "id": "09a25129",
   "metadata": {},
   "outputs": [
    {
     "name": "stdout",
     "output_type": "stream",
     "text": [
      "e\n"
     ]
    }
   ],
   "source": [
    "a = \"Hello World\"\n",
    "print(a[1]) # indexing"
   ]
  },
  {
   "cell_type": "code",
   "execution_count": 20,
   "id": "3d13c1b0",
   "metadata": {},
   "outputs": [
    {
     "name": "stdout",
     "output_type": "stream",
     "text": [
      "Hello\n"
     ]
    }
   ],
   "source": [
    "a = \"Hello World\"\n",
    "print(a[0:5]) # string slicing"
   ]
  },
  {
   "cell_type": "code",
   "execution_count": 21,
   "id": "8d5d4451",
   "metadata": {},
   "outputs": [
    {
     "name": "stdout",
     "output_type": "stream",
     "text": [
      "Hello\n"
     ]
    }
   ],
   "source": [
    "a = \"Hello World\"\n",
    "b = (a[0:5])\n",
    "print(b) # string slicing"
   ]
  },
  {
   "cell_type": "code",
   "execution_count": 22,
   "id": "d5801ca3",
   "metadata": {},
   "outputs": [
    {
     "name": "stdout",
     "output_type": "stream",
     "text": [
      "Hello\n"
     ]
    }
   ],
   "source": [
    "a = \"Hello World\"\n",
    "b = a[0:5]\n",
    "print(b)"
   ]
  },
  {
   "cell_type": "code",
   "execution_count": 23,
   "id": "179aa7d9",
   "metadata": {},
   "outputs": [
    {
     "name": "stdout",
     "output_type": "stream",
     "text": [
      " World\n"
     ]
    }
   ],
   "source": [
    "a = \"Hello World\"\n",
    "b = a[0:5]\n",
    "print(a[5:])"
   ]
  },
  {
   "cell_type": "code",
   "execution_count": 26,
   "id": "287607c9",
   "metadata": {},
   "outputs": [
    {
     "data": {
      "text/plain": [
       "'Hello World'"
      ]
     },
     "execution_count": 26,
     "metadata": {},
     "output_type": "execute_result"
    }
   ],
   "source": [
    "a = \"Hello World\"\n",
    "a[0:11:1]"
   ]
  },
  {
   "cell_type": "code",
   "execution_count": 31,
   "id": "011dc3eb",
   "metadata": {},
   "outputs": [
    {
     "name": "stdout",
     "output_type": "stream",
     "text": [
      "HloWrd\n"
     ]
    }
   ],
   "source": [
    "a = \"Hello World\"\n",
    "print(a[0:11:2])"
   ]
  },
  {
   "cell_type": "code",
   "execution_count": 28,
   "id": "04a41dbd",
   "metadata": {},
   "outputs": [
    {
     "data": {
      "text/plain": [
       "'dlroW olle'"
      ]
     },
     "execution_count": 28,
     "metadata": {},
     "output_type": "execute_result"
    }
   ],
   "source": [
    "a = \"Hello World\"\n",
    "a[:0:-1] # dont put zero to index backwwards"
   ]
  },
  {
   "cell_type": "code",
   "execution_count": 30,
   "id": "b338473e",
   "metadata": {},
   "outputs": [
    {
     "name": "stdout",
     "output_type": "stream",
     "text": [
      "dlroW olleH\n"
     ]
    }
   ],
   "source": [
    "a = \"Hello World\"\n",
    "print(a[::-1])"
   ]
  },
  {
   "cell_type": "code",
   "execution_count": 32,
   "id": "0244f3fe",
   "metadata": {},
   "outputs": [
    {
     "name": "stdout",
     "output_type": "stream",
     "text": [
      "Ram23\n"
     ]
    }
   ],
   "source": [
    "# string formatting\n",
    "name = \"Ram\"\n",
    "age = 23\n",
    "\n",
    "print(name+str(age))"
   ]
  },
  {
   "cell_type": "code",
   "execution_count": 33,
   "id": "eb6efaa2",
   "metadata": {},
   "outputs": [
    {
     "name": "stdout",
     "output_type": "stream",
     "text": [
      "Enter name =Ram\n",
      "Enter age = 89\n",
      "Enter Address =Kathmandu\n",
      "Hello World I am Ram I am from KathmanduI am 89\n"
     ]
    }
   ],
   "source": [
    "name = input(\"Enter name =\")\n",
    "age = int(input(\"Enter age = \"))\n",
    "add = input(\"Enter Address =\")\n",
    "info = \"Hello World I am \" +name+\" I am from \"+add+ \"I am \"+str(age)\n",
    "print(info)"
   ]
  },
  {
   "cell_type": "code",
   "execution_count": 34,
   "id": "d3952271",
   "metadata": {},
   "outputs": [
    {
     "name": "stdout",
     "output_type": "stream",
     "text": [
      "Enter name =Ram\n",
      "Enter age = 45\n",
      "Enter Address =Kathmandu\n",
      "Hello World I am Ram I am from Kathmandu I am 45\n"
     ]
    }
   ],
   "source": [
    "# string formatting\n",
    "name = input(\"Enter name =\")\n",
    "age = int(input(\"Enter age = \"))\n",
    "add = input(\"Enter Address =\")\n",
    "info = f\"Hello World I am {name} I am from {add} I am {age}\"\n",
    "print(info)"
   ]
  },
  {
   "cell_type": "code",
   "execution_count": 42,
   "id": "14f79912",
   "metadata": {},
   "outputs": [
    {
     "name": "stdout",
     "output_type": "stream",
     "text": [
      "Enter n = 2\n",
      "Enter name =Apple\n",
      "Enter price = 100\n",
      "Enter quantity = 50\n",
      "Enter name =Avisek\n",
      "Enter price = 200\n",
      "Enter quantity = 50\n",
      "Apple 100 50 5000\n",
      "Avisek 200 50 10000\n",
      "\n",
      "15000\n"
     ]
    }
   ],
   "source": [
    "bill = 0\n",
    "s = str()\n",
    "n = int(input(\"Enter n = \"))\n",
    "for i in range(n):\n",
    "    name = input (\"Enter name =\")\n",
    "    price = int(input(\"Enter price = \"))\n",
    "    quantity = int(input(\"Enter quantity = \"))\n",
    "    total = price*quantity\n",
    "    s = s + f\"{name} {price} {quantity} {total}\\n\"\n",
    "    bill = bill+total\n",
    "\n",
    "print(s)\n",
    "print(bill)"
   ]
  },
  {
   "cell_type": "code",
   "execution_count": 43,
   "id": "63bc2312",
   "metadata": {},
   "outputs": [
    {
     "name": "stdout",
     "output_type": "stream",
     "text": [
      "Ram Shyam Hari Sita Gita Ram Ram\n"
     ]
    }
   ],
   "source": [
    "#Search = to search squence of characters\n",
    "name = \"Ram Shyam Hari Sita Gita Ram Ram\"\n",
    "print(name)"
   ]
  },
  {
   "cell_type": "code",
   "execution_count": 44,
   "id": "a1915b75",
   "metadata": {},
   "outputs": [
    {
     "name": "stdout",
     "output_type": "stream",
     "text": [
      "Yes\n"
     ]
    }
   ],
   "source": [
    "name = \"Ram Shyam Hari Sita Gita Ram Ram\"\n",
    "if \"Ram \" in name:\n",
    "    print(\"Yes\")\n",
    "else:\n",
    "    print(\"No\")"
   ]
  },
  {
   "cell_type": "code",
   "execution_count": 45,
   "id": "52c7a824",
   "metadata": {},
   "outputs": [
    {
     "name": "stdout",
     "output_type": "stream",
     "text": [
      "Enter name = Ram\n",
      "Yes\n",
      "3\n"
     ]
    }
   ],
   "source": [
    "name = \"Ram Shyam Hari Sita Gita Ram Ram\"\n",
    "x = input(\"Enter name = \")\n",
    "if x in name:\n",
    "    print(\"Yes\")\n",
    "    print(name.count(x)) # count x\n",
    "else:\n",
    "    print(\"No\")"
   ]
  },
  {
   "cell_type": "code",
   "execution_count": 49,
   "id": "336334fd",
   "metadata": {},
   "outputs": [
    {
     "name": "stdout",
     "output_type": "stream",
     "text": [
      "ram\n",
      "RAM\n"
     ]
    }
   ],
   "source": [
    "a = \"Ram\"\n",
    "print(a.lower())\n",
    "print(a.upper())"
   ]
  },
  {
   "cell_type": "code",
   "execution_count": 51,
   "id": "b8894119",
   "metadata": {},
   "outputs": [
    {
     "name": "stdout",
     "output_type": "stream",
     "text": [
      "Enter name = ram\n",
      "Yes\n",
      "3\n"
     ]
    }
   ],
   "source": [
    "name = \"Ram Shyam Hari Sita Gita Ram Ram\".lower()\n",
    "x = input(\"Enter name = \").lower()\n",
    "if x in name:\n",
    "    print(\"Yes\")\n",
    "    print(name.count(x)) #  to remove case sensitive\n",
    "else:\n",
    "    print(\"No\")"
   ]
  },
  {
   "cell_type": "code",
   "execution_count": 52,
   "id": "3826321f",
   "metadata": {},
   "outputs": [
    {
     "name": "stdout",
     "output_type": "stream",
     "text": [
      "ram shyam hari sita gita ram ram\n"
     ]
    }
   ],
   "source": [
    "name = \"Ram Shyam Hari Sita Gita Ram Ram\".lower()\n",
    "print(name)"
   ]
  },
  {
   "cell_type": "code",
   "execution_count": 53,
   "id": "e8917833",
   "metadata": {},
   "outputs": [
    {
     "name": "stdout",
     "output_type": "stream",
     "text": [
      "ram shyam hari sita gita ram ram\n"
     ]
    }
   ],
   "source": [
    "name = \"Ram Shyam Hari Sita Gita Ram Ram\"\n",
    "print(name.lower())"
   ]
  },
  {
   "cell_type": "code",
   "execution_count": 1,
   "id": "f83d0fac",
   "metadata": {},
   "outputs": [
    {
     "name": "stdout",
     "output_type": "stream",
     "text": [
      "ram shyam hari sita gita ram ram\n",
      "Ram Shyam Hari Sita Gita Ram Ram\n"
     ]
    }
   ],
   "source": [
    "name = \"Ram Shyam Hari Sita Gita Ram Ram\"\n",
    "print(name.lower())\n",
    "print(name)"
   ]
  },
  {
   "cell_type": "code",
   "execution_count": 2,
   "id": "2d719835",
   "metadata": {},
   "outputs": [
    {
     "name": "stdout",
     "output_type": "stream",
     "text": [
      "ram shyam hari sita gita ram ram\n"
     ]
    }
   ],
   "source": [
    "name = \"Ram Shyam Hari Sita Gita Ram Ram\".lower()\n",
    "print(name)"
   ]
  },
  {
   "cell_type": "code",
   "execution_count": 4,
   "id": "3a0fdfb2",
   "metadata": {},
   "outputs": [
    {
     "name": "stdout",
     "output_type": "stream",
     "text": [
      "ram Shyam Hari Sita Gita ram ram\n",
      "Ram Shyam Hari Sita Gita Ram Ram\n"
     ]
    }
   ],
   "source": [
    "#replace()\n",
    "name = \"Ram Shyam Hari Sita Gita Ram Ram\"\n",
    "x = name.replace(\"Ram\", \"ram\")\n",
    "print(x)\n",
    "\n",
    "print(name)"
   ]
  },
  {
   "cell_type": "code",
   "execution_count": 6,
   "id": "3302b97a",
   "metadata": {},
   "outputs": [
    {
     "name": "stdout",
     "output_type": "stream",
     "text": [
      " Shyam Hari Sita Gita  \n"
     ]
    }
   ],
   "source": [
    " # to remove name\n",
    "name = \"Ram Shyam Hari Sita Gita Ram Ram\"\n",
    "x = name.replace(\"Ram\", \"\")\n",
    "print(x)\n"
   ]
  },
  {
   "cell_type": "code",
   "execution_count": 7,
   "id": "5efaf3d0",
   "metadata": {},
   "outputs": [
    {
     "name": "stdout",
     "output_type": "stream",
     "text": [
      "HelloWorld"
     ]
    }
   ],
   "source": [
    "a = \"Hello World\"\n",
    "for i in a:\n",
    "    if i != \" \":\n",
    "        print(i, end = \"\")"
   ]
  },
  {
   "cell_type": "code",
   "execution_count": 10,
   "id": "80dbb143",
   "metadata": {},
   "outputs": [
    {
     "name": "stdout",
     "output_type": "stream",
     "text": [
      "0 H\n",
      "1 e\n",
      "2 l\n",
      "3 l\n",
      "4 o\n"
     ]
    }
   ],
   "source": [
    "a = \"Hello\" # to use for loop in range.\n",
    "n = len(a)\n",
    "for i in range(n):\n",
    "    print(i, a[i])"
   ]
  },
  {
   "cell_type": "code",
   "execution_count": 12,
   "id": "1ef81463",
   "metadata": {},
   "outputs": [
    {
     "name": "stdout",
     "output_type": "stream",
     "text": [
      "0 H\n",
      "1 e\n",
      "2 l\n",
      "3 l\n",
      "4 o\n"
     ]
    }
   ],
   "source": [
    "a = \"Hello\" # to use while loop in range.\n",
    "n = len(a)\n",
    "i = 0\n",
    "while i<n:\n",
    "    print(i, a[i])\n",
    "    i = i+1"
   ]
  },
  {
   "cell_type": "code",
   "execution_count": null,
   "id": "9de73b2a",
   "metadata": {},
   "outputs": [],
   "source": []
  }
 ],
 "metadata": {
  "kernelspec": {
   "display_name": "Python 3 (ipykernel)",
   "language": "python",
   "name": "python3"
  },
  "language_info": {
   "codemirror_mode": {
    "name": "ipython",
    "version": 3
   },
   "file_extension": ".py",
   "mimetype": "text/x-python",
   "name": "python",
   "nbconvert_exporter": "python",
   "pygments_lexer": "ipython3",
   "version": "3.8.10"
  }
 },
 "nbformat": 4,
 "nbformat_minor": 5
}
