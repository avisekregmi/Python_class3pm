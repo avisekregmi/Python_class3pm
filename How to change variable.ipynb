{
 "cells": [
  {
   "cell_type": "code",
   "execution_count": 4,
   "id": "215edfe1",
   "metadata": {},
   "outputs": [
    {
     "data": {
      "text/plain": [
       "40"
      ]
     },
     "execution_count": 4,
     "metadata": {},
     "output_type": "execute_result"
    }
   ],
   "source": [
    "first_num = 40\n",
    "first_num"
   ]
  },
  {
   "cell_type": "code",
   "execution_count": 2,
   "id": "5c1c7893",
   "metadata": {},
   "outputs": [],
   "source": [
    "first_num = 60"
   ]
  },
  {
   "cell_type": "code",
   "execution_count": 3,
   "id": "3085a9c3",
   "metadata": {},
   "outputs": [
    {
     "data": {
      "text/plain": [
       "60"
      ]
     },
     "execution_count": 3,
     "metadata": {},
     "output_type": "execute_result"
    }
   ],
   "source": [
    "first_num"
   ]
  },
  {
   "cell_type": "code",
   "execution_count": 5,
   "id": "21dfe740",
   "metadata": {},
   "outputs": [],
   "source": [
    "num1 = 2"
   ]
  },
  {
   "cell_type": "code",
   "execution_count": 6,
   "id": "621cf3af",
   "metadata": {},
   "outputs": [],
   "source": [
    "num1 = 2"
   ]
  },
  {
   "cell_type": "code",
   "execution_count": 7,
   "id": "fba134b9",
   "metadata": {},
   "outputs": [
    {
     "data": {
      "text/plain": [
       "2"
      ]
     },
     "execution_count": 7,
     "metadata": {},
     "output_type": "execute_result"
    }
   ],
   "source": [
    "num1"
   ]
  },
  {
   "cell_type": "code",
   "execution_count": 8,
   "id": "3cc667ec",
   "metadata": {},
   "outputs": [],
   "source": [
    "num1 = num1 + 5"
   ]
  },
  {
   "cell_type": "code",
   "execution_count": 9,
   "id": "c2bc13e9",
   "metadata": {},
   "outputs": [
    {
     "data": {
      "text/plain": [
       "7"
      ]
     },
     "execution_count": 9,
     "metadata": {},
     "output_type": "execute_result"
    }
   ],
   "source": [
    "num1"
   ]
  },
  {
   "cell_type": "code",
   "execution_count": 10,
   "id": "9674649c",
   "metadata": {},
   "outputs": [],
   "source": [
    "a = 4\n",
    "b = 0.4"
   ]
  },
  {
   "cell_type": "code",
   "execution_count": 11,
   "id": "08b500a0",
   "metadata": {},
   "outputs": [],
   "source": [
    "a, b = 4, 0.4"
   ]
  },
  {
   "cell_type": "code",
   "execution_count": 12,
   "id": "d708868b",
   "metadata": {},
   "outputs": [
    {
     "data": {
      "text/plain": [
       "0.4"
      ]
     },
     "execution_count": 12,
     "metadata": {},
     "output_type": "execute_result"
    }
   ],
   "source": [
    "b"
   ]
  },
  {
   "cell_type": "code",
   "execution_count": 13,
   "id": "ce63479a",
   "metadata": {},
   "outputs": [
    {
     "data": {
      "text/plain": [
       "4"
      ]
     },
     "execution_count": 13,
     "metadata": {},
     "output_type": "execute_result"
    }
   ],
   "source": [
    "a"
   ]
  },
  {
   "cell_type": "code",
   "execution_count": 16,
   "id": "2e435e5d",
   "metadata": {},
   "outputs": [
    {
     "name": "stdout",
     "output_type": "stream",
     "text": [
      "2 0.4 (2-3j)\n"
     ]
    }
   ],
   "source": [
    "a, b, c = 2, 0.4, 2-3j\n",
    "print(a, b, c)"
   ]
  },
  {
   "cell_type": "code",
   "execution_count": 15,
   "id": "f670eeb2",
   "metadata": {},
   "outputs": [
    {
     "data": {
      "text/plain": [
       "(2-3j)"
      ]
     },
     "execution_count": 15,
     "metadata": {},
     "output_type": "execute_result"
    }
   ],
   "source": [
    "c"
   ]
  },
  {
   "cell_type": "code",
   "execution_count": 17,
   "id": "3738e847",
   "metadata": {},
   "outputs": [
    {
     "name": "stdout",
     "output_type": "stream",
     "text": [
      "2.86\n"
     ]
    }
   ],
   "source": [
    "num1 = 2.5\n",
    "num2 = 0.36\n"
   ]
  },
  {
   "cell_type": "code",
   "execution_count": 18,
   "id": "b606f62f",
   "metadata": {},
   "outputs": [],
   "source": [
    "um1 = 2.5\n",
    "num2 = 0.36"
   ]
  },
  {
   "cell_type": "code",
   "execution_count": 19,
   "id": "448a6022",
   "metadata": {},
   "outputs": [],
   "source": [
    "tmp = num1"
   ]
  },
  {
   "cell_type": "code",
   "execution_count": 20,
   "id": "9ff7f9f3",
   "metadata": {},
   "outputs": [],
   "source": [
    "num1 = num2\n"
   ]
  },
  {
   "cell_type": "code",
   "execution_count": 21,
   "id": "317c40ca",
   "metadata": {},
   "outputs": [],
   "source": [
    "num2 = tmp"
   ]
  },
  {
   "cell_type": "code",
   "execution_count": 22,
   "id": "7ea50ec8",
   "metadata": {},
   "outputs": [
    {
     "data": {
      "text/plain": [
       "0.36"
      ]
     },
     "execution_count": 22,
     "metadata": {},
     "output_type": "execute_result"
    }
   ],
   "source": [
    "num1"
   ]
  },
  {
   "cell_type": "code",
   "execution_count": 23,
   "id": "1a5695aa",
   "metadata": {},
   "outputs": [
    {
     "data": {
      "text/plain": [
       "2.5"
      ]
     },
     "execution_count": 23,
     "metadata": {},
     "output_type": "execute_result"
    }
   ],
   "source": [
    "num2"
   ]
  },
  {
   "cell_type": "code",
   "execution_count": 24,
   "id": "60e6927c",
   "metadata": {},
   "outputs": [],
   "source": [
    "um1 = 2.5\n",
    "num2 = 0.36"
   ]
  },
  {
   "cell_type": "code",
   "execution_count": 25,
   "id": "1412adb5",
   "metadata": {},
   "outputs": [],
   "source": [
    "num2, num1 = num1, num2"
   ]
  },
  {
   "cell_type": "code",
   "execution_count": 26,
   "id": "ad57688a",
   "metadata": {},
   "outputs": [
    {
     "data": {
      "text/plain": [
       "0.36"
      ]
     },
     "execution_count": 26,
     "metadata": {},
     "output_type": "execute_result"
    }
   ],
   "source": [
    "num1"
   ]
  },
  {
   "cell_type": "code",
   "execution_count": 27,
   "id": "c8d8c482",
   "metadata": {},
   "outputs": [
    {
     "data": {
      "text/plain": [
       "0.36"
      ]
     },
     "execution_count": 27,
     "metadata": {},
     "output_type": "execute_result"
    }
   ],
   "source": [
    "num2"
   ]
  },
  {
   "cell_type": "code",
   "execution_count": null,
   "id": "8725fe1a",
   "metadata": {},
   "outputs": [],
   "source": []
  }
 ],
 "metadata": {
  "kernelspec": {
   "display_name": "Python 3 (ipykernel)",
   "language": "python",
   "name": "python3"
  },
  "language_info": {
   "codemirror_mode": {
    "name": "ipython",
    "version": 3
   },
   "file_extension": ".py",
   "mimetype": "text/x-python",
   "name": "python",
   "nbconvert_exporter": "python",
   "pygments_lexer": "ipython3",
   "version": "3.8.10"
  }
 },
 "nbformat": 4,
 "nbformat_minor": 5
}
