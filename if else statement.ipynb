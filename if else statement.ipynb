{
 "cells": [
  {
   "cell_type": "code",
   "execution_count": null,
   "id": "69facdec",
   "metadata": {},
   "outputs": [],
   "source": [
    "# if <condition>: - \n",
    "#    <operations>\n",
    "# elif <conditoin>:\n",
    "#    <operations>\n",
    "# ....\n",
    "\n",
    "# else:\n",
    "    # <operation>\n",
    "    "
   ]
  },
  {
   "cell_type": "code",
   "execution_count": null,
   "id": "11cc1046",
   "metadata": {},
   "outputs": [],
   "source": [
    "> < >= <= == !="
   ]
  },
  {
   "cell_type": "code",
   "execution_count": null,
   "id": "51ff59ef",
   "metadata": {},
   "outputs": [],
   "source": [
    "a = 10\n",
    "if a>5:\n",
    "    print(\"a is greater\")"
   ]
  },
  {
   "cell_type": "code",
   "execution_count": null,
   "id": "598acf7b",
   "metadata": {},
   "outputs": [],
   "source": [
    "a = int(input(\"Enter a = \"))\n",
    "b = int(input(\"Enter b = \"))\n",
    "if a>b:\n",
    "    print(\"a is greater\")\n",
    "elif b>a:\n",
    "print(\"b is greater\")\n",
    "else:\n",
    "print(\"a and b both are equal\")"
   ]
  },
  {
   "cell_type": "code",
   "execution_count": null,
   "id": "dcba3136",
   "metadata": {},
   "outputs": [],
   "source": [
    "a = 4\n",
    "print(a>5)"
   ]
  },
  {
   "cell_type": "code",
   "execution_count": null,
   "id": "74f74154",
   "metadata": {},
   "outputs": [],
   "source": [
    "a = int(input(\"Enter a = \"))\n",
    "b = int(input(\"Enter b = \"))\n",
    "if a>b:\n",
    "    print(a,\"is greater\")\n",
    "elif b>a:\n",
    "    print(b,\" is greater\")\n",
    "else:\n",
    "    print(\"a and b both are equal\")"
   ]
  },
  {
   "cell_type": "code",
   "execution_count": null,
   "id": "9003f737",
   "metadata": {},
   "outputs": [],
   "source": [
    "a = int(input(\"Enter a = \"))\n",
    "if a%2 == 0:\n",
    "    print(a, \"is even\")\n",
    "else:\n",
    "    print (a, \" is odd\")"
   ]
  },
  {
   "cell_type": "code",
   "execution_count": null,
   "id": "2db89a3d",
   "metadata": {},
   "outputs": [],
   "source": [
    "# WAP to enter all marks of subjects of a student, find total and find grade \n",
    "#total marks"
   ]
  },
  {
   "cell_type": "code",
   "execution_count": 3,
   "id": "145dffff",
   "metadata": {},
   "outputs": [
    {
     "name": "stdout",
     "output_type": "stream",
     "text": [
      "Enter marks of the first subject:80\n",
      "Enter marks of the second subject:75\n",
      "Enter marks of the third subject:87\n",
      "Enter marks of the fourth subject:67\n",
      "Enter marks of the fifth subject: 55\n",
      "The mark is C\n"
     ]
    }
   ],
   "source": [
    "sub1=int(input(\"Enter marks of the first subject:\"))\n",
    "sub2=int(input(\"Enter marks of the second subject:\"))\n",
    "sub3=int(input(\"Enter marks of the third subject:\"))\n",
    "sub4=int(input(\"Enter marks of the fourth subject:\"))\n",
    "sub5=int(input(\"Enter marks of the fifth subject: \"))\n",
    "\n",
    "avg=(sub1+sub2+sub3+sub4+sub4)/5\n",
    "\n",
    "if(avg >= 90):\n",
    "    print(\"The mark is A\")\n",
    "elif (avg>= 80 and avg<90):\n",
    "    print(\"The mark is B\")\n",
    "elif(avg>=70 and avg<80):\n",
    "    print(\"The mark is C\")\n",
    "elif(avg>=60 and avg<70):\n",
    "    print(\"The mark is D\")\n",
    "else:\n",
    "    print(\"The mark is F\")"
   ]
  },
  {
   "cell_type": "code",
   "execution_count": 5,
   "id": "9c42288f",
   "metadata": {},
   "outputs": [],
   "source": [
    "# logical operator \n",
    "# and &\n",
    "# 1*1 = 1\n",
    "# 1*0 = 0\n",
    "# 0*1 = 0\n",
    "# 0*0 = 0\n",
    "\n",
    "# or |\n",
    "# 1+1 = 2\n",
    "# 1+0 = 1\n",
    "# 0+1 = 1\n",
    "# 0+0 = 1"
   ]
  },
  {
   "cell_type": "code",
   "execution_count": 6,
   "id": "70d0365e",
   "metadata": {},
   "outputs": [
    {
     "name": "stdout",
     "output_type": "stream",
     "text": [
      "False\n"
     ]
    }
   ],
   "source": [
    "print(True and False)"
   ]
  },
  {
   "cell_type": "code",
   "execution_count": 7,
   "id": "6a6bb6fa",
   "metadata": {},
   "outputs": [
    {
     "name": "stdout",
     "output_type": "stream",
     "text": [
      "False\n"
     ]
    }
   ],
   "source": [
    "print(False or False)"
   ]
  },
  {
   "cell_type": "code",
   "execution_count": 8,
   "id": "aa2e4284",
   "metadata": {},
   "outputs": [
    {
     "name": "stdout",
     "output_type": "stream",
     "text": [
      "True\n"
     ]
    }
   ],
   "source": [
    "print(True or True)"
   ]
  },
  {
   "cell_type": "code",
   "execution_count": 15,
   "id": "7bd73b0e",
   "metadata": {},
   "outputs": [
    {
     "name": "stdout",
     "output_type": "stream",
     "text": [
      "Enter the value of a:30\n",
      "Enter the value of b:10\n",
      "Enter + - * / +\n",
      "40\n"
     ]
    }
   ],
   "source": [
    "a = int(input(\"Enter the value of a:\"))\n",
    "b = int(input(\"Enter the value of b:\"))\n",
    "o = input(\"Enter + - * / \")\n",
    "\n",
    "if o == '+':\n",
    "    print(a+b)\n",
    "elif o == '-':\n",
    "    print(a-b)\n",
    "elif o == '*':\n",
    "    print(a*b)\n",
    "elif o == '/':\n",
    "    print(a/b)\n",
    "else:\n",
    "    print(\"Invalid operator\")"
   ]
  },
  {
   "cell_type": "code",
   "execution_count": 16,
   "id": "7ec65cd4",
   "metadata": {},
   "outputs": [
    {
     "name": "stdout",
     "output_type": "stream",
     "text": [
      "Enter the value of a:10\n",
      "Enter the value of b:0\n",
      "Enter + - * / /\n",
      "The value of b cannot be zero.\n"
     ]
    }
   ],
   "source": [
    "a = int(input(\"Enter the value of a:\"))\n",
    "b = int(input(\"Enter the value of b:\"))\n",
    "o = input(\"Enter + - * / \")\n",
    "\n",
    "if o == '+':\n",
    "    print(a+b)\n",
    "elif o == '-':\n",
    "    print(a-b)\n",
    "elif o == '*':\n",
    "    print(a*b)\n",
    "elif o == '/' and b != 0:\n",
    "    print(a/b)\n",
    "elif o == '/' and b == 0:\n",
    "    print(\"The value of b cannot be zero.\")\n",
    "else:\n",
    "    print(\"Invalid operator\")"
   ]
  },
  {
   "cell_type": "code",
   "execution_count": 17,
   "id": "9b252f38",
   "metadata": {},
   "outputs": [],
   "source": [
    "#Nested if/else\n",
    "#if <condition>:\n",
    "    # if <condition>:\n",
    "     #   <operation>\n",
    " #   elif <condition>:\n",
    "      #  <operation>\n",
    " #   else:\n",
    "      #  <operation>\n",
    "#else:\n",
    "#    <operation>"
   ]
  },
  {
   "cell_type": "code",
   "execution_count": 23,
   "id": "66bcf7b0",
   "metadata": {},
   "outputs": [
    {
     "name": "stdout",
     "output_type": "stream",
     "text": [
      "Enter the value of x = 10\n",
      "10 is positive and even\n"
     ]
    }
   ],
   "source": [
    "x = int(input(\"Enter the value of x = \"))\n",
    "if x>0:\n",
    "    if x%2==0:\n",
    "        print(x, \"is positive and even\")\n",
    "    else:\n",
    "        print(x, \" is positive|but odd\")\n",
    "else:\n",
    "    Print(x, \"is negative number\")"
   ]
  },
  {
   "cell_type": "code",
   "execution_count": null,
   "id": "5ebb7a4f",
   "metadata": {},
   "outputs": [],
   "source": []
  }
 ],
 "metadata": {
  "kernelspec": {
   "display_name": "Python 3 (ipykernel)",
   "language": "python",
   "name": "python3"
  },
  "language_info": {
   "codemirror_mode": {
    "name": "ipython",
    "version": 3
   },
   "file_extension": ".py",
   "mimetype": "text/x-python",
   "name": "python",
   "nbconvert_exporter": "python",
   "pygments_lexer": "ipython3",
   "version": "3.8.10"
  }
 },
 "nbformat": 4,
 "nbformat_minor": 5
}
