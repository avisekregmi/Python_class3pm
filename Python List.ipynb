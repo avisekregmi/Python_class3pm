{
 "cells": [
  {
   "cell_type": "code",
   "execution_count": 7,
   "id": "f3f0b434",
   "metadata": {},
   "outputs": [
    {
     "name": "stdout",
     "output_type": "stream",
     "text": [
      "9 is at 0\n",
      "2 is at 1\n",
      "45 is at 2\n",
      "0 is at 3\n",
      "11 is at 4\n"
     ]
    }
   ],
   "source": [
    "nums = [9,2,45,0,11]\n",
    "for i in range(len(nums)):\n",
    "    num = nums[i]\n",
    "    print(\"{} is at {}\".format(num,(i)))\n",
    "    "
   ]
  },
  {
   "cell_type": "code",
   "execution_count": 8,
   "id": "d1b206af",
   "metadata": {},
   "outputs": [
    {
     "name": "stdout",
     "output_type": "stream",
     "text": [
      "9\n",
      "2\n",
      "45\n",
      "0\n",
      "11\n"
     ]
    }
   ],
   "source": [
    "for item in nums:\n",
    "    print(item)"
   ]
  },
  {
   "cell_type": "code",
   "execution_count": 9,
   "id": "a6cce9e3",
   "metadata": {},
   "outputs": [
    {
     "name": "stdout",
     "output_type": "stream",
     "text": [
      "9\n",
      "2\n",
      "45\n",
      "0\n",
      "11\n"
     ]
    }
   ],
   "source": [
    "for index in range(len(nums)):\n",
    "    item = nums[index]\n",
    "    print(item)"
   ]
  },
  {
   "cell_type": "code",
   "execution_count": 18,
   "id": "bb1cbabf",
   "metadata": {},
   "outputs": [
    {
     "name": "stdout",
     "output_type": "stream",
     "text": [
      "13.4\n"
     ]
    }
   ],
   "source": [
    "nums = [9,2,45,0,11]\n",
    "total = 0\n",
    "for  i in range(len(nums)):\n",
    "    num = nums[i]\n",
    "    total= total + num\n",
    "\n",
    "mean = total/len(nums)\n",
    "print(mean)\n",
    "    \n"
   ]
  },
  {
   "cell_type": "code",
   "execution_count": 19,
   "id": "1ccb5a3f",
   "metadata": {},
   "outputs": [],
   "source": [
    "nums = [9,2,45,0,11]"
   ]
  },
  {
   "cell_type": "code",
   "execution_count": 21,
   "id": "32967611",
   "metadata": {},
   "outputs": [
    {
     "data": {
      "text/plain": [
       "11"
      ]
     },
     "execution_count": 21,
     "metadata": {},
     "output_type": "execute_result"
    }
   ],
   "source": [
    "nums[-1]"
   ]
  },
  {
   "cell_type": "code",
   "execution_count": 22,
   "id": "ede2c50a",
   "metadata": {},
   "outputs": [
    {
     "data": {
      "text/plain": [
       "0"
      ]
     },
     "execution_count": 22,
     "metadata": {},
     "output_type": "execute_result"
    }
   ],
   "source": [
    "nums[-2]"
   ]
  },
  {
   "cell_type": "code",
   "execution_count": 23,
   "id": "5b9a76c4",
   "metadata": {},
   "outputs": [
    {
     "data": {
      "text/plain": [
       "9"
      ]
     },
     "execution_count": 23,
     "metadata": {},
     "output_type": "execute_result"
    }
   ],
   "source": [
    "nums[-5]"
   ]
  },
  {
   "cell_type": "code",
   "execution_count": null,
   "id": "563129d1",
   "metadata": {},
   "outputs": [],
   "source": []
  }
 ],
 "metadata": {
  "kernelspec": {
   "display_name": "Python 3 (ipykernel)",
   "language": "python",
   "name": "python3"
  },
  "language_info": {
   "codemirror_mode": {
    "name": "ipython",
    "version": 3
   },
   "file_extension": ".py",
   "mimetype": "text/x-python",
   "name": "python",
   "nbconvert_exporter": "python",
   "pygments_lexer": "ipython3",
   "version": "3.8.10"
  }
 },
 "nbformat": 4,
 "nbformat_minor": 5
}
