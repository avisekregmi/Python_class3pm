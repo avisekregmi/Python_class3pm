{
 "cells": [
  {
   "cell_type": "code",
   "execution_count": 9,
   "id": "52b43cb5",
   "metadata": {},
   "outputs": [
    {
     "name": "stdout",
     "output_type": "stream",
     "text": [
      "Normal weight\n"
     ]
    }
   ],
   "source": [
    "weight = 72\n",
    "height = 195\n",
    "height = height / 100\n",
    "BMI = weight /(height * height)\n",
    "\n",
    "\n",
    "if BMI < 18.5:\n",
    "    print(\"Under weight\")\n",
    "\n",
    "elif BMI >= 18.5 and BMI <= 24.9:\n",
    "    print(\"Normal weight\")\n",
    "\n",
    "elif BMI >= 25 and BMI <= 29.9:\n",
    "    print(\"over weight\")\n",
    "\n",
    "else:\n",
    "    print(\"Obisity\")"
   ]
  },
  {
   "cell_type": "code",
   "execution_count": 8,
   "id": "7e69025e",
   "metadata": {},
   "outputs": [
    {
     "name": "stdout",
     "output_type": "stream",
     "text": [
      "odd\n"
     ]
    }
   ],
   "source": [
    "a = 40\n",
    "\n",
    "if not a % 2 == 0:\n",
    "    print(\"even\")\n",
    "else:\n",
    "    print(\"odd\")"
   ]
  },
  {
   "cell_type": "code",
   "execution_count": null,
   "id": "c1efd759",
   "metadata": {},
   "outputs": [],
   "source": []
  }
 ],
 "metadata": {
  "kernelspec": {
   "display_name": "Python 3 (ipykernel)",
   "language": "python",
   "name": "python3"
  },
  "language_info": {
   "codemirror_mode": {
    "name": "ipython",
    "version": 3
   },
   "file_extension": ".py",
   "mimetype": "text/x-python",
   "name": "python",
   "nbconvert_exporter": "python",
   "pygments_lexer": "ipython3",
   "version": "3.8.10"
  }
 },
 "nbformat": 4,
 "nbformat_minor": 5
}
