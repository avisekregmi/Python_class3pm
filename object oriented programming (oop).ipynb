{
 "cells": [
  {
   "cell_type": "code",
   "execution_count": 1,
   "id": "ede612ec",
   "metadata": {},
   "outputs": [],
   "source": [
    "# The concept of OOP in Python focuses on creating reusable code. This concept is also knonw as DRY (Dont Repeat Yourself)\n",
    "\n",
    "# In Python, the concept of OOP follows some basic principles:\n",
    "\n",
    "# Inheritance: A process of using details from a new class without modifying existing class.\n",
    "\n",
    "# Encapsulation: Hiding the private details of a class from other object.\n",
    "\n",
    "# Polymorphism: A concept of using common operation in different ways for different data input."
   ]
  },
  {
   "cell_type": "code",
   "execution_count": 2,
   "id": "aff9f025",
   "metadata": {},
   "outputs": [],
   "source": [
    "# Class, Object, Methods\n",
    "\n",
    "# Class: A class is a blueprint for the object.\n",
    "#class Python:\n",
    "#pass\n",
    "\n",
    "# Object: Object initializes Class. An object(instance) is an instantiation of a class. When class is define,only the descriptoin for the object \n",
    "# is defined therefore no memory or storage is allocated.\n",
    "# Obj = Python()\n",
    "# Method:"
   ]
  },
  {
   "cell_type": "code",
   "execution_count": 3,
   "id": "a3dbe168",
   "metadata": {},
   "outputs": [],
   "source": [
    "# class <class_name>:\n",
    "#    <operations>\n",
    "\n",
    "\n",
    "#obj = <class_name()"
   ]
  },
  {
   "cell_type": "code",
   "execution_count": 4,
   "id": "c569e491",
   "metadata": {},
   "outputs": [
    {
     "name": "stdout",
     "output_type": "stream",
     "text": [
      "Hello World\n"
     ]
    }
   ],
   "source": [
    "class Hello:                #class\n",
    "    print(\"Hello World\")\n",
    "\n",
    "obj = Hello()              #object"
   ]
  },
  {
   "cell_type": "code",
   "execution_count": 6,
   "id": "0a0a5dcb",
   "metadata": {},
   "outputs": [
    {
     "name": "stdout",
     "output_type": "stream",
     "text": [
      "Hello World\n"
     ]
    }
   ],
   "source": [
    "class Hello:                   # class\n",
    "    def hello(self):           # method\n",
    "        print(\"Hello World\")  \n",
    "\n",
    "obj = Hello()  # code means initialize this # object\n",
    "obj.hello()    # call the function\n"
   ]
  },
  {
   "cell_type": "code",
   "execution_count": null,
   "id": "1961db79",
   "metadata": {},
   "outputs": [],
   "source": [
    " a.upper() # a is object and upper is function"
   ]
  },
  {
   "cell_type": "code",
   "execution_count": 9,
   "id": "2882e41d",
   "metadata": {},
   "outputs": [
    {
     "name": "stdout",
     "output_type": "stream",
     "text": [
      "Enter l = 20\n",
      "Enter b = 1\n",
      "Enter h = 67\n",
      "The area is =  20\n",
      "The volume is =  1340\n"
     ]
    }
   ],
   "source": [
    "class Cal:  # intialize class\n",
    "    def cal(self): # trying to access variable that belongs to the class.             # method\n",
    "        l = int(input(\"Enter l = \"))\n",
    "        b = int(input(\"Enter b = \"))\n",
    "        h = int(input(\"Enter h = \"))\n",
    "        a = l*b\n",
    "        v = a*h\n",
    "        print(\"The area is = \", a)\n",
    "        print(\"The volume is = \", v)\n",
    "\n",
    "obj = Cal()                 #object call\n",
    "obj.cal()"
   ]
  },
  {
   "cell_type": "code",
   "execution_count": 10,
   "id": "70806da9",
   "metadata": {},
   "outputs": [
    {
     "name": "stdout",
     "output_type": "stream",
     "text": [
      "Enter l = 20\n",
      "Enter b = 50\n",
      "Enter h = 70\n",
      "The area is =  1000\n",
      "The volume is =  70000\n"
     ]
    }
   ],
   "source": [
    "class Cal:\n",
    "    @staticmethod \n",
    "    def cal():        # method\n",
    "        l = int(input(\"Enter l = \"))\n",
    "        b = int(input(\"Enter b = \"))\n",
    "        h = int(input(\"Enter h = \"))\n",
    "        a = l*b\n",
    "        v = a*h\n",
    "        print(\"The area is = \", a)\n",
    "        print(\"The volume is = \", v)\n",
    "\n",
    "obj = Cal()                 #object call\n",
    "obj.cal()"
   ]
  },
  {
   "cell_type": "code",
   "execution_count": 1,
   "id": "e4fa2ce6",
   "metadata": {},
   "outputs": [
    {
     "name": "stdout",
     "output_type": "stream",
     "text": [
      "Enter l = 20\n",
      "Enter b = 10\n",
      "Enter h = 40\n",
      "The area is =  200\n",
      "The volume is =  8000\n"
     ]
    }
   ],
   "source": [
    "class Cal:\n",
    "     \n",
    "    def cal(self,l,b,h):        # method\n",
    "        a = l*b\n",
    "        v = a*h\n",
    "        print(\"The area is = \", a)\n",
    "        print(\"The volume is = \", v)\n",
    "\n",
    "l = int(input(\"Enter l = \"))\n",
    "b = int(input(\"Enter b = \"))\n",
    "h = int(input(\"Enter h = \"))\n",
    "\n",
    "obj = Cal()                 \n",
    "obj.cal(l,b,h) # if you write @staticmethod you can write the code like this"
   ]
  },
  {
   "cell_type": "code",
   "execution_count": 16,
   "id": "3259c046",
   "metadata": {},
   "outputs": [
    {
     "name": "stdout",
     "output_type": "stream",
     "text": [
      "Enter l = 20\n",
      "Enter b = 10\n",
      "Enter h = 89\n",
      "The area is =  890\n",
      "The volume is =  79210\n"
     ]
    }
   ],
   "source": [
    "class Cal:\n",
    "     def cal(self, x,y,z):        \n",
    "        a = z*y\n",
    "        v = a*z\n",
    "        print(\"The area is = \", a)\n",
    "        print(\"The volume is = \", v)\n",
    "\n",
    "l = int(input(\"Enter l = \"))\n",
    "b = int(input(\"Enter b = \"))\n",
    "h = int(input(\"Enter h = \"))\n",
    "\n",
    "obj = Cal()     # you are sending fucntion to value            \n",
    "obj.cal(l,b,h) # if you write code using self"
   ]
  },
  {
   "cell_type": "code",
   "execution_count": 10,
   "id": "a8d442da",
   "metadata": {},
   "outputs": [
    {
     "name": "stdout",
     "output_type": "stream",
     "text": [
      "Enter l = 10\n",
      "Enter b = 20\n",
      "Enter h = 30\n",
      "The area is =  200\n",
      "6000\n"
     ]
    }
   ],
   "source": [
    "class Cal:\n",
    "    def area(self,x,y):        \n",
    "        a = x*y \n",
    "        print(\"The area is = \", a) \n",
    "    \n",
    "    def volume(self,x,y,z):\n",
    "        v = x*y*z\n",
    "        print(v)\n",
    "\n",
    "l = int(input(\"Enter l = \"))\n",
    "b = int(input(\"Enter b = \"))\n",
    "h = int(input(\"Enter h = \"))\n",
    "\n",
    "obj = Cal()                 \n",
    "obj.area(l,b)\n",
    "obj.volume(l,b,h) "
   ]
  },
  {
   "cell_type": "code",
   "execution_count": 8,
   "id": "6bb50f16",
   "metadata": {},
   "outputs": [
    {
     "name": "stdout",
     "output_type": "stream",
     "text": [
      "Enter l = 10\n",
      "Enter b = 20\n",
      "Enter h = 30\n",
      "The area is =  200\n",
      "6000\n"
     ]
    }
   ],
   "source": [
    "class Cal:\n",
    "    def __init__(self,x,y,z):      # initialize code double underscore\n",
    "        self.x = x\n",
    "        self.y = y\n",
    "        self.z = z\n",
    "        \n",
    "    def area(self):        \n",
    "        a = self.x*self.y\n",
    "        print(\"The area is = \", a)\n",
    "    \n",
    "    def volume(self):\n",
    "        v =self.x*self.y*self.z        # constructor code\n",
    "        print(v)\n",
    "\n",
    "l = int(input(\"Enter l = \"))\n",
    "b = int(input(\"Enter b = \"))\n",
    "h = int(input(\"Enter h = \"))\n",
    "\n",
    "obj = Cal(l,b,h)                 \n",
    "obj.area()\n",
    "obj.volume() "
   ]
  },
  {
   "cell_type": "code",
   "execution_count": 13,
   "id": "a32a43f1",
   "metadata": {},
   "outputs": [
    {
     "name": "stdout",
     "output_type": "stream",
     "text": [
      "Enter name = Ram\n",
      "Enter age = 78\n",
      "Enter add = Kathmandu\n",
      "Hello World I amRam. I am from Kathmandu. I am 78\n"
     ]
    }
   ],
   "source": [
    "class Info:\n",
    "    def __init__(self,name, age, add):\n",
    "        self.name = name\n",
    "        self.age = age\n",
    "        self.add = add\n",
    "    \n",
    "    def my_info(self):\n",
    "        print(f\"Hello World I am {self.name}. I am from {self.add}. I am {self.age}\")\n",
    "\n",
    "name = input(\"Enter name = \")\n",
    "age = int(input(\"Enter age = \"))\n",
    "add = input(\"Enter add = \")\n",
    "\n",
    "obj = Info(name,age,add)\n",
    "obj.my_info()"
   ]
  },
  {
   "cell_type": "code",
   "execution_count": 18,
   "id": "124cd7ef",
   "metadata": {},
   "outputs": [
    {
     "name": "stdout",
     "output_type": "stream",
     "text": [
      "Enter name = Ram\n",
      "Enter age = 89\n",
      "Enter add = Kathmandu\n",
      "Hello World I amRam. I am from Kathmandu. I am 89\n",
      "Ram 89 Kathmandu\n"
     ]
    }
   ],
   "source": [
    "class Info:\n",
    "    def __init__(self,name, age, add):\n",
    "        self.name = name\n",
    "        self.age = age\n",
    "        self.add = add\n",
    "    \n",
    "    def my_info(self):\n",
    "        print(f\"Hello World I am {self.name}. I am from {self.add}. I am {self.age}\")\n",
    "\n",
    "name = input(\"Enter name = \")\n",
    "age = int(input(\"Enter age = \"))\n",
    "add = input(\"Enter add = \")\n",
    "\n",
    "obj = Info(name,age,add)\n",
    "obj.my_info()\n",
    "print(obj.name,obj.age,obj.add)"
   ]
  },
  {
   "cell_type": "code",
   "execution_count": 13,
   "id": "8464a33b",
   "metadata": {},
   "outputs": [
    {
     "name": "stdout",
     "output_type": "stream",
     "text": [
      "Enter l = 100\n",
      "Enter b = 24\n",
      "Enter h = 2\n",
      "The area is =  2400\n",
      "The volume =  4800\n"
     ]
    }
   ],
   "source": [
    "class Area:\n",
    "    def __init__(self,x,y):      # initialize code double underscore\n",
    "        self.x,self.y = x,y   \n",
    "        \n",
    "    def area(self):        \n",
    "        a = self.x*self.y\n",
    "        print(\"The area is = \", a)\n",
    "\n",
    "class Volume:\n",
    "    def __init__(self,x,y,z):\n",
    "        self.x,self.y,self.z = x,y,z\n",
    "    def volume(self):\n",
    "        v =self.x*self.y*self.z        # constructor code\n",
    "        print(\"The volume = \", v)\n",
    "\n",
    "l = int(input(\"Enter l = \"))\n",
    "b = int(input(\"Enter b = \"))\n",
    "h = int(input(\"Enter h = \"))\n",
    "\n",
    "obj = Area(l,b,)\n",
    "obj1 = Volume(l,b,h) \n",
    "obj.area()\n",
    "obj1.volume()"
   ]
  },
  {
   "cell_type": "code",
   "execution_count": 14,
   "id": "cbc1f29b",
   "metadata": {},
   "outputs": [],
   "source": [
    "# __str__ method string representation of a object of a class\n",
    "# str method automatically calls"
   ]
  },
  {
   "cell_type": "code",
   "execution_count": 15,
   "id": "152ba21a",
   "metadata": {},
   "outputs": [
    {
     "name": "stdout",
     "output_type": "stream",
     "text": [
      "Enter name = Ram\n",
      "Enter age = 78\n",
      "Enter add = Kathamndu\n",
      "Ram\n"
     ]
    }
   ],
   "source": [
    "class Info:\n",
    "    def __init__(self,name, age, add):\n",
    "        self.name = name\n",
    "        self.age = age\n",
    "        self.add = add\n",
    "    \n",
    "    def __str__(self):\n",
    "        return self.name # this is object\n",
    "        \n",
    "name = input(\"Enter name = \")\n",
    "age = int(input(\"Enter age = \"))\n",
    "add = input(\"Enter add = \")\n",
    "\n",
    "obj = Info(name,age,add)\n",
    "print(obj)"
   ]
  },
  {
   "cell_type": "code",
   "execution_count": 16,
   "id": "a46ede26",
   "metadata": {},
   "outputs": [
    {
     "name": "stdout",
     "output_type": "stream",
     "text": [
      "Enter name = Ram\n",
      "Enter age = 45\n",
      "Enter add = kathmandu\n"
     ]
    },
    {
     "data": {
      "text/plain": [
       "__main__.Info"
      ]
     },
     "execution_count": 16,
     "metadata": {},
     "output_type": "execute_result"
    }
   ],
   "source": [
    "# this is an object type\n",
    "class Info:\n",
    "    def __init__(self,name, age, add):\n",
    "        self.name = name\n",
    "        self.age = age\n",
    "        self.add = add\n",
    "    \n",
    "    def __str__(self):\n",
    "        return self.name # this is object\n",
    "        \n",
    "name = input(\"Enter name = \")\n",
    "age = int(input(\"Enter age = \"))\n",
    "add = input(\"Enter add = \")\n",
    "\n",
    "obj = Info(name,age,add)\n",
    "type(obj)"
   ]
  },
  {
   "cell_type": "code",
   "execution_count": 19,
   "id": "ca9c764b",
   "metadata": {},
   "outputs": [
    {
     "name": "stdout",
     "output_type": "stream",
     "text": [
      "Enter name = Ram\n",
      "Enter age = 20\n",
      "Enter add = Kathmandu\n",
      "Ram\n",
      "Ram\n",
      "Ram\n"
     ]
    }
   ],
   "source": [
    "class Info:\n",
    "    def __init__(self,name, age, add):\n",
    "        self.name = name\n",
    "        self.age = age\n",
    "        self.add = add\n",
    "    \n",
    "    def __str__(self):\n",
    "        return self.name # this is object\n",
    "        \n",
    "name = input(\"Enter name = \")\n",
    "age = int(input(\"Enter age = \"))\n",
    "add = input(\"Enter add = \")\n",
    "\n",
    "obj = Info(name,age,add)\n",
    "print(obj) # it returns name so \"Ram\"\n",
    "print(obj.__str__()) # normal return strings\n",
    "print(str(obj)) # return normal strings"
   ]
  },
  {
   "cell_type": "code",
   "execution_count": 20,
   "id": "a9c5a9bf",
   "metadata": {},
   "outputs": [],
   "source": [
    "#Operator Overloading\n",
    "# This feature in Python, that allows same operator to have different \n",
    "# meaning according to the context is called operator overloading"
   ]
  },
  {
   "cell_type": "code",
   "execution_count": 24,
   "id": "e9ae51c2",
   "metadata": {},
   "outputs": [
    {
     "name": "stdout",
     "output_type": "stream",
     "text": [
      "3000\n"
     ]
    }
   ],
   "source": [
    "class Total:\n",
    "    def __init__(self,x):\n",
    "        self.x = x\n",
    "    def __str__(self):\n",
    "        return str(self.x)\n",
    "    def __add__(self, other):\n",
    "        x = self.x+other.x\n",
    "        return Total(x)\n",
    "\n",
    "obj = Total(1000)\n",
    "obj1 = Total(2000)\n",
    "print(obj+obj1)"
   ]
  },
  {
   "cell_type": "code",
   "execution_count": 38,
   "id": "016bc4f3",
   "metadata": {},
   "outputs": [
    {
     "name": "stdout",
     "output_type": "stream",
     "text": [
      "7000\n"
     ]
    }
   ],
   "source": [
    "# To add 3 values\n",
    "class Total:\n",
    "    def __init__(self,x):\n",
    "        self.x = x\n",
    "    def __str__(self):\n",
    "        return str(self.x)\n",
    "    def __add__(self, other):\n",
    "        x = self.x+other.x\n",
    "        return Total(x)\n",
    "\n",
    "obj = Total(1000)\n",
    "obj1 = Total(2000)\n",
    "obj2 = Total(4000)\n",
    "print(obj+obj1+obj2)\n"
   ]
  },
  {
   "cell_type": "code",
   "execution_count": 41,
   "id": "5e5a4f76",
   "metadata": {},
   "outputs": [
    {
     "name": "stdout",
     "output_type": "stream",
     "text": [
      "This is init method 1000\n",
      "This is init method 2000\n",
      "This is init method 4000\n",
      "This is add method 3000\n",
      "This is init method 3000\n",
      "This is add method 7000\n",
      "This is init method 7000\n",
      "This is str method 7000\n",
      "7000\n"
     ]
    }
   ],
   "source": [
    "class Total:\n",
    "    def __init__(self,x):\n",
    "        self.x = x\n",
    "        print(\"This is init method\",self.x)\n",
    "    def __str__(self): \n",
    "        print(\"This is str method\",self.x)\n",
    "        return str(self.x)\n",
    "    def __add__(self, other):\n",
    "        x = self.x+other.x\n",
    "        print(\"This is add method\",x)\n",
    "        return Total(x)\n",
    "\n",
    "obj = Total(1000)\n",
    "obj1 = Total(2000)\n",
    "obj2 = Total(4000)\n",
    "print(obj+obj1+obj2)"
   ]
  },
  {
   "cell_type": "code",
   "execution_count": 42,
   "id": "35649088",
   "metadata": {},
   "outputs": [
    {
     "name": "stdout",
     "output_type": "stream",
     "text": [
      "This is init method 1000\n",
      "This is init method 2000\n",
      "This is init method 4000\n",
      "This is add method 3000\n",
      "This is init method 3000\n",
      "This is add method 7000\n",
      "This is init method 7000\n",
      "This is str method 7000\n",
      "7000\n",
      "This is add method 3000\n",
      "This is init method 3000\n",
      "This is add method 7000\n",
      "This is init method 7000\n"
     ]
    },
    {
     "data": {
      "text/plain": [
       "__main__.Total"
      ]
     },
     "execution_count": 42,
     "metadata": {},
     "output_type": "execute_result"
    }
   ],
   "source": [
    "# the type is still object.\n",
    "class Total:\n",
    "    def __init__(self,x):\n",
    "        self.x = x\n",
    "        print(\"This is init method\",self.x)\n",
    "    def __str__(self): \n",
    "        print(\"This is str method\",self.x)\n",
    "        return str(self.x)\n",
    "    def __add__(self, other):\n",
    "        x = self.x+other.x\n",
    "        print(\"This is add method\",x)\n",
    "        return Total(x)\n",
    "\n",
    "obj = Total(1000)\n",
    "obj1 = Total(2000)\n",
    "obj2 = Total(4000)\n",
    "print(obj+obj1+obj2)\n",
    "type(obj+obj1+obj2)"
   ]
  },
  {
   "cell_type": "code",
   "execution_count": 35,
   "id": "3d2e9686",
   "metadata": {},
   "outputs": [
    {
     "ename": "TypeError",
     "evalue": "unsupported operand type(s) for +: 'Point' and 'Point'",
     "output_type": "error",
     "traceback": [
      "\u001b[1;31m---------------------------------------------------------------------------\u001b[0m",
      "\u001b[1;31mTypeError\u001b[0m                                 Traceback (most recent call last)",
      "Input \u001b[1;32mIn [35]\u001b[0m, in \u001b[0;36m<cell line: 8>\u001b[1;34m()\u001b[0m\n\u001b[0;32m      6\u001b[0m p1 \u001b[38;5;241m=\u001b[39m Point(\u001b[38;5;241m2\u001b[39m,\u001b[38;5;241m3\u001b[39m)\n\u001b[0;32m      7\u001b[0m p2 \u001b[38;5;241m=\u001b[39m Point(\u001b[38;5;241m-\u001b[39m\u001b[38;5;241m1\u001b[39m,\u001b[38;5;241m2\u001b[39m)\n\u001b[1;32m----> 8\u001b[0m \u001b[43mp1\u001b[49m\u001b[43m \u001b[49m\u001b[38;5;241;43m+\u001b[39;49m\u001b[43m \u001b[49m\u001b[43mp2\u001b[49m\n",
      "\u001b[1;31mTypeError\u001b[0m: unsupported operand type(s) for +: 'Point' and 'Point'"
     ]
    }
   ],
   "source": [
    "class Point:\n",
    "    def __init__(self, x, y):\n",
    "        self.x = x\n",
    "        self.y = y\n",
    "\n",
    "p1 = Point(2,3)\n",
    "p2 = Point(-1,2) # as it is different object you cannot override.\n",
    "\n",
    "p1 + p2"
   ]
  },
  {
   "cell_type": "code",
   "execution_count": 43,
   "id": "39d15c65",
   "metadata": {},
   "outputs": [
    {
     "name": "stdout",
     "output_type": "stream",
     "text": [
      "(1,5)\n"
     ]
    }
   ],
   "source": [
    "class Point:\n",
    "    \n",
    "    def __init__(self, x = 0, y = 0):\n",
    "        self.x = x\n",
    "        self.y = y\n",
    "\n",
    "    def __str__(self):\n",
    "        return f\"({self.x},{self.y})\"\n",
    "\n",
    "    def __add__(self,other):\n",
    "        x = self.x + other.x\n",
    "        y = self.y + other.y\n",
    "        return Point(x,y)\n",
    "\n",
    "p1 = Point(2,3)\n",
    "p2 = Point(-1,2)\n",
    "\n",
    "print(p1 + p2) # this becomes and object. "
   ]
  },
  {
   "cell_type": "code",
   "execution_count": null,
   "id": "58a4e851",
   "metadata": {},
   "outputs": [],
   "source": []
  },
  {
   "cell_type": "code",
   "execution_count": null,
   "id": "70186b89",
   "metadata": {},
   "outputs": [],
   "source": []
  },
  {
   "cell_type": "code",
   "execution_count": null,
   "id": "7bcbe32e",
   "metadata": {},
   "outputs": [],
   "source": []
  },
  {
   "cell_type": "code",
   "execution_count": 1,
   "id": "a11cd26e",
   "metadata": {},
   "outputs": [
    {
     "ename": "SyntaxError",
     "evalue": "EOL while scanning string literal (2872519609.py, line 8)",
     "output_type": "error",
     "traceback": [
      "\u001b[1;36m  Input \u001b[1;32mIn [1]\u001b[1;36m\u001b[0m\n\u001b[1;33m    print(f\"Hello world I am {self.name}. I am from {self.add})\u001b[0m\n\u001b[1;37m                                                               ^\u001b[0m\n\u001b[1;31mSyntaxError\u001b[0m\u001b[1;31m:\u001b[0m EOL while scanning string literal\n"
     ]
    }
   ],
   "source": [
    "class Data:\n",
    "    def __init__(self):\n",
    "        self.name = \"Ram\"\n",
    "        self.add = \"Bara\"\n",
    "\n",
    "class Info(Data):\n",
    "    def info(self):\n",
    "        print(f\"Hello world I am {self.name}. I am from {self.add})\n",
    "\n",
    "obj = Info()\n",
    "obj.info()"
   ]
  },
  {
   "cell_type": "code",
   "execution_count": null,
   "id": "fbdb5eb5",
   "metadata": {},
   "outputs": [],
   "source": []
  }
 ],
 "metadata": {
  "kernelspec": {
   "display_name": "Python 3 (ipykernel)",
   "language": "python",
   "name": "python3"
  },
  "language_info": {
   "codemirror_mode": {
    "name": "ipython",
    "version": 3
   },
   "file_extension": ".py",
   "mimetype": "text/x-python",
   "name": "python",
   "nbconvert_exporter": "python",
   "pygments_lexer": "ipython3",
   "version": "3.8.10"
  }
 },
 "nbformat": 4,
 "nbformat_minor": 5
}
