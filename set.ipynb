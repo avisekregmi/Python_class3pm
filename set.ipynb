{
 "cells": [
  {
   "cell_type": "code",
   "execution_count": 1,
   "id": "3435b7b6",
   "metadata": {},
   "outputs": [],
   "source": [
    "#Set\n",
    "# - it does not support indexing\n",
    "# - no duplicate data\n",
    "# - unordered data type\n",
    "# - Mutable"
   ]
  },
  {
   "cell_type": "code",
   "execution_count": 3,
   "id": "e1b1124e",
   "metadata": {},
   "outputs": [
    {
     "name": "stdout",
     "output_type": "stream",
     "text": [
      "{1, 2, 3, 4, 5}\n",
      "{'Cat', 'Ball', 'Apple'}\n",
      "<class 'set'>\n",
      "<class 'set'>\n"
     ]
    }
   ],
   "source": [
    "a = set()\n",
    "b = {1,2,3,4,1,3,4,5,2,3}\n",
    "c = {\"Ball\", \"Apple\",\"Cat\"}\n",
    "print(b) # no duplicate has been printed on output\n",
    "print(c) # not ordered is printed on output\n",
    "print(type(b))\n",
    "print(type(c))"
   ]
  },
  {
   "cell_type": "code",
   "execution_count": 5,
   "id": "0a96689b",
   "metadata": {},
   "outputs": [
    {
     "name": "stdout",
     "output_type": "stream",
     "text": [
      "Cat\n",
      "Ball\n",
      "Apple\n"
     ]
    }
   ],
   "source": [
    "c = {\"Ball\", \"Apple\",\"Cat\"} # unordered data type\n",
    "for i in c:\n",
    "    print(i)"
   ]
  },
  {
   "cell_type": "code",
   "execution_count": 6,
   "id": "1dcc66e9",
   "metadata": {},
   "outputs": [
    {
     "name": "stdout",
     "output_type": "stream",
     "text": [
      "{'Cat', 'Dog', 'Ball', 'Apple'}\n"
     ]
    }
   ],
   "source": [
    "c = {\"Ball\", \"Apple\",\"Cat\"} # Mutable, able to add new info.\n",
    "c.add(\"Dog\")\n",
    "print(c)"
   ]
  },
  {
   "cell_type": "code",
   "execution_count": 8,
   "id": "ac09f72d",
   "metadata": {},
   "outputs": [
    {
     "name": "stdout",
     "output_type": "stream",
     "text": [
      "Enter n =4\n",
      "Enter x  =23\n",
      "Enter x  =456\n",
      "Enter x  =354\n",
      "Enter x  =576\n",
      "{456, 354, 576, 23}\n"
     ]
    }
   ],
   "source": [
    "l = set()\n",
    "n = int(input(\"Enter n = \"))\n",
    "for i in range(n):\n",
    "    x = int(input(\"Enter x  =\"))\n",
    "    l.add(x)\n",
    "\n",
    "print(l)"
   ]
  },
  {
   "cell_type": "code",
   "execution_count": 9,
   "id": "747bd035",
   "metadata": {},
   "outputs": [
    {
     "name": "stdout",
     "output_type": "stream",
     "text": [
      "{1, 2, 3, 4, 5, 6, 7, 9}\n"
     ]
    }
   ],
   "source": [
    "a = {1,3,4,5,7,2}\n",
    "b = {9,1,6}\n",
    "a.update(b) # to add a and b data into one using update\n",
    "print(a)"
   ]
  },
  {
   "cell_type": "code",
   "execution_count": 10,
   "id": "77aa65e5",
   "metadata": {},
   "outputs": [
    {
     "name": "stdout",
     "output_type": "stream",
     "text": [
      "{1, 2, 4, 5, 7}\n"
     ]
    }
   ],
   "source": [
    "a = {1,3,4,5,7,2}\n",
    "b = {9,1,6}\n",
    "a.remove(3) # to remove\n",
    "print(a)"
   ]
  },
  {
   "cell_type": "code",
   "execution_count": 12,
   "id": "a56216e1",
   "metadata": {},
   "outputs": [
    {
     "name": "stdout",
     "output_type": "stream",
     "text": [
      "[1, 2, 3, 4, 5, 6, 7, 8, 9]\n"
     ]
    }
   ],
   "source": [
    "a =[1,3,2,3,4,5,6,7,5,7,8,9,]\n",
    "b = set(a) # duplicate value is removed.\n",
    "a = list(b) # converted into list\n",
    "print(a)"
   ]
  },
  {
   "cell_type": "code",
   "execution_count": 14,
   "id": "07d79bc5",
   "metadata": {},
   "outputs": [
    {
     "name": "stdout",
     "output_type": "stream",
     "text": [
      "{(1, 2, 3)}\n"
     ]
    }
   ],
   "source": [
    "a = {(1,2,3)}\n",
    "print(a)"
   ]
  },
  {
   "cell_type": "code",
   "execution_count": 15,
   "id": "14f8b64c",
   "metadata": {},
   "outputs": [],
   "source": [
    "# union\n",
    "# intersection\n",
    "# difference"
   ]
  },
  {
   "cell_type": "code",
   "execution_count": 17,
   "id": "cd358dff",
   "metadata": {},
   "outputs": [
    {
     "data": {
      "text/plain": [
       "{'Hari', 'Jack', 'Nabin', 'Ram', 'Sabin', 'Sarita', 'Shyam'}"
      ]
     },
     "execution_count": 17,
     "metadata": {},
     "output_type": "execute_result"
    }
   ],
   "source": [
    "# union means a and b are merging together\n",
    "apple = {\"Ram\",\"Shyam\", \"Hari\", \"Nabin\", \"Sabin\"}\n",
    "ms = {\"Hari\", \"Nabin\", \"Jack\", \"Sarita\"}\n",
    "\n",
    "apple.union(ms)\n",
    "\n",
    "\n"
   ]
  },
  {
   "cell_type": "code",
   "execution_count": 18,
   "id": "1c756b3f",
   "metadata": {},
   "outputs": [
    {
     "data": {
      "text/plain": [
       "{'Hari', 'Nabin'}"
      ]
     },
     "execution_count": 18,
     "metadata": {},
     "output_type": "execute_result"
    }
   ],
   "source": [
    "# both the people below are associated with both companies.\n",
    "apple.intersection(ms)"
   ]
  },
  {
   "cell_type": "code",
   "execution_count": 19,
   "id": "7b88ba44",
   "metadata": {},
   "outputs": [
    {
     "data": {
      "text/plain": [
       "{'Ram', 'Sabin', 'Shyam'}"
      ]
     },
     "execution_count": 19,
     "metadata": {},
     "output_type": "execute_result"
    }
   ],
   "source": [
    "apple-ms # all people working for apple but not microsoft."
   ]
  },
  {
   "cell_type": "code",
   "execution_count": 20,
   "id": "87084b25",
   "metadata": {},
   "outputs": [
    {
     "data": {
      "text/plain": [
       "{'Jack', 'Sarita'}"
      ]
     },
     "execution_count": 20,
     "metadata": {},
     "output_type": "execute_result"
    }
   ],
   "source": [
    "ms-apple # all people working for miscrosoft but not apple."
   ]
  },
  {
   "cell_type": "code",
   "execution_count": 21,
   "id": "ea5fea26",
   "metadata": {},
   "outputs": [
    {
     "data": {
      "text/plain": [
       "{'Ram', 'Sabin', 'Shyam'}"
      ]
     },
     "execution_count": 21,
     "metadata": {},
     "output_type": "execute_result"
    }
   ],
   "source": [
    "apple.difference(ms) # all people working for apple but not microsoft."
   ]
  },
  {
   "cell_type": "code",
   "execution_count": 24,
   "id": "71586737",
   "metadata": {},
   "outputs": [
    {
     "data": {
      "text/plain": [
       "{'Hari', 'Jack', 'Nabin', 'Ram', 'Sabin', 'Sarita', 'Shyam'}"
      ]
     },
     "execution_count": 24,
     "metadata": {},
     "output_type": "execute_result"
    }
   ],
   "source": [
    "# union means a and b are merging together\n",
    "\n",
    "u = {\"Ram\",\"Shyam\", \"Hari\", \"Nabin\", \"Sabin\", \"Sarita\", \"Shyam\", \"Nikesh \", \"Bikesh \"}\n",
    "apple = {\"Ram\",\"Shyam\", \"Hari\", \"Nabin\", \"Sabin\"}\n",
    "ms = {\"Hari\", \"Nabin\", \"Jack\", \"Sarita\"}\n",
    "\n",
    "apple.union(ms)"
   ]
  },
  {
   "cell_type": "code",
   "execution_count": 25,
   "id": "8187e285",
   "metadata": {},
   "outputs": [
    {
     "data": {
      "text/plain": [
       "False"
      ]
     },
     "execution_count": 25,
     "metadata": {},
     "output_type": "execute_result"
    }
   ],
   "source": [
    "apple = {\"Ram\",\"Shyam\", \"Hari\", \"Nabin\", \"Sabin\"}\n",
    "ms = {\"Hari\", \"Nabin\", \"Jack\", \"Sarita\"}\n",
    "\n",
    "apple.issubset(ms)"
   ]
  },
  {
   "cell_type": "code",
   "execution_count": 26,
   "id": "0d0e6ca4",
   "metadata": {},
   "outputs": [
    {
     "data": {
      "text/plain": [
       "True"
      ]
     },
     "execution_count": 26,
     "metadata": {},
     "output_type": "execute_result"
    }
   ],
   "source": [
    "a = {1,2,3,4,5,6,7,8,9,0}\n",
    "b = {3,2,5,1}\n",
    "b.issubset(a) #subset"
   ]
  },
  {
   "cell_type": "code",
   "execution_count": 29,
   "id": "eb7d810d",
   "metadata": {},
   "outputs": [
    {
     "data": {
      "text/plain": [
       "True"
      ]
     },
     "execution_count": 29,
     "metadata": {},
     "output_type": "execute_result"
    }
   ],
   "source": [
    "a = {1,2,3,4,5,6,7,8,9,0}\n",
    "b = {3,2,5,1}\n",
    "a.issuperset(b) # superset"
   ]
  },
  {
   "cell_type": "code",
   "execution_count": 30,
   "id": "74c676d1",
   "metadata": {},
   "outputs": [
    {
     "data": {
      "text/plain": [
       "False"
      ]
     },
     "execution_count": 30,
     "metadata": {},
     "output_type": "execute_result"
    }
   ],
   "source": [
    "a = {1,2,3,4,5,6,7,8,9,0}\n",
    "b = {3,2,5,1}\n",
    "a.isdisjoint(b) # disjoint"
   ]
  },
  {
   "cell_type": "code",
   "execution_count": null,
   "id": "f8615796",
   "metadata": {},
   "outputs": [],
   "source": []
  }
 ],
 "metadata": {
  "kernelspec": {
   "display_name": "Python 3 (ipykernel)",
   "language": "python",
   "name": "python3"
  },
  "language_info": {
   "codemirror_mode": {
    "name": "ipython",
    "version": 3
   },
   "file_extension": ".py",
   "mimetype": "text/x-python",
   "name": "python",
   "nbconvert_exporter": "python",
   "pygments_lexer": "ipython3",
   "version": "3.8.10"
  }
 },
 "nbformat": 4,
 "nbformat_minor": 5
}
