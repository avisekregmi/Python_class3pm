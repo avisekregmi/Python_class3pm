{
 "cells": [
  {
   "cell_type": "code",
   "execution_count": null,
   "id": "a225d81f",
   "metadata": {},
   "outputs": [],
   "source": [
    "# Dictionary\n",
    "# Indexing\n",
    "# Ordered\n",
    "# Mulitiple and Duplicate data\n",
    "# Mutable"
   ]
  },
  {
   "cell_type": "code",
   "execution_count": 10,
   "id": "ca9f7509",
   "metadata": {},
   "outputs": [
    {
     "data": {
      "text/plain": [
       "dict"
      ]
     },
     "execution_count": 10,
     "metadata": {},
     "output_type": "execute_result"
    }
   ],
   "source": [
    "d = {}\n",
    "type(d)"
   ]
  },
  {
   "cell_type": "code",
   "execution_count": 12,
   "id": "74613b16",
   "metadata": {},
   "outputs": [
    {
     "name": "stdout",
     "output_type": "stream",
     "text": [
      "<class 'dict'>\n",
      "<class 'dict'>\n"
     ]
    }
   ],
   "source": [
    "d = {}\n",
    "e = dict()\n",
    "print(type(d))\n",
    "print(type(e))\n"
   ]
  },
  {
   "cell_type": "code",
   "execution_count": 16,
   "id": "31c3b667",
   "metadata": {},
   "outputs": [
    {
     "name": "stdout",
     "output_type": "stream",
     "text": [
      "{1: 1, 2: 4, 3: 9, 4: 16} {'a': 'apple', 'b': 'ball', 'c': 'cat'}\n",
      "<class 'dict'> <class 'dict'>\n"
     ]
    }
   ],
   "source": [
    "# d = {<key>:<value>,<key>: <value>}\n",
    "d = {\"a\": \"apple\", \"b\": \"ball\", \"c\": \"cat\"}\n",
    "a = {1:1, 2:4, 3:9, 4:16} # square\n",
    "print(a,d)\n",
    "print(type(a), type(d))"
   ]
  },
  {
   "cell_type": "code",
   "execution_count": 17,
   "id": "cc509256",
   "metadata": {},
   "outputs": [
    {
     "data": {
      "text/plain": [
       "'apple'"
      ]
     },
     "execution_count": 17,
     "metadata": {},
     "output_type": "execute_result"
    }
   ],
   "source": [
    "#Indexing # Mapping\n",
    "\n",
    "d[\"a\"]"
   ]
  },
  {
   "cell_type": "code",
   "execution_count": 21,
   "id": "a9d7d5b6",
   "metadata": {},
   "outputs": [
    {
     "name": "stdout",
     "output_type": "stream",
     "text": [
      "{'a': 'apple', 'b': 'ball', 'c': 'cat', 'C': 'cat'}\n"
     ]
    }
   ],
   "source": [
    "d = {\"a\": \"apple\", \"b\": \"ball\", \"c\": \"cat\", \"C\":\"cat\"}\n",
    "print(d) # key cannot be duplicated."
   ]
  },
  {
   "cell_type": "code",
   "execution_count": 22,
   "id": "edb930b3",
   "metadata": {},
   "outputs": [
    {
     "name": "stdout",
     "output_type": "stream",
     "text": [
      "{'a': 'apple', 'b': 'ball', 'c': 'Cat'}\n"
     ]
    }
   ],
   "source": [
    "d = {\"a\": \"apple\", \"b\": \"ball\", \"c\": \"cat\", \"c\":\"Cat\"}\n",
    "print(d) # key cannot be duplicated, value can be same."
   ]
  },
  {
   "cell_type": "code",
   "execution_count": 23,
   "id": "14a76d5b",
   "metadata": {},
   "outputs": [
    {
     "name": "stdout",
     "output_type": "stream",
     "text": [
      "{'a': 'Apple', 'b': 'Ball', 'c': 'Cat'}\n"
     ]
    }
   ],
   "source": [
    "a ={}\n",
    "a[\"a\"] = \"Apple\"\n",
    "a[\"b\"] = \"Ball\"\n",
    "a[\"c\"] = \"Cat\"\n",
    "print(a)"
   ]
  },
  {
   "cell_type": "code",
   "execution_count": null,
   "id": "5c0df4ed",
   "metadata": {},
   "outputs": [],
   "source": []
  },
  {
   "cell_type": "code",
   "execution_count": 37,
   "id": "f5f68295",
   "metadata": {},
   "outputs": [
    {
     "name": "stdout",
     "output_type": "stream",
     "text": [
      "Enter n  = 2\n",
      "Enter name  = Ram\n",
      "Enter phone = 9841677809\n",
      "Enter name  = Shyam\n",
      "Enter phone = 987654321\n",
      "{'Ram': 9841677809, 'Shyam': 987654321}\n"
     ]
    }
   ],
   "source": [
    "d = {}\n",
    "n = int(input(\"Enter n  = \"))\n",
    "for i in range(n):\n",
    "    name = input(\"Enter name  = \")\n",
    "    phone = int(input(\"Enter phone = \"))\n",
    "    key = name\n",
    "    value = phone\n",
    "    d[key] = value\n",
    "    \n",
    "print(d)"
   ]
  },
  {
   "cell_type": "code",
   "execution_count": 24,
   "id": "5fca0eda",
   "metadata": {},
   "outputs": [
    {
     "data": {
      "text/plain": [
       "2"
      ]
     },
     "execution_count": 24,
     "metadata": {},
     "output_type": "execute_result"
    }
   ],
   "source": [
    "d ={'Ram': 9841687908, 'Shyam': 98765676787}\n",
    "len(d) # lenght is seperated by commas."
   ]
  },
  {
   "cell_type": "code",
   "execution_count": 25,
   "id": "523fa184",
   "metadata": {},
   "outputs": [
    {
     "name": "stdout",
     "output_type": "stream",
     "text": [
      "Ram\n",
      "Shyam\n"
     ]
    }
   ],
   "source": [
    "d ={'Ram': 9841687908, 'Shyam': 98765676787} #to read use for loop\n",
    "for i in d:\n",
    "    print(i)"
   ]
  },
  {
   "cell_type": "code",
   "execution_count": 26,
   "id": "ec256408",
   "metadata": {},
   "outputs": [
    {
     "name": "stdout",
     "output_type": "stream",
     "text": [
      "9841687908\n",
      "98765676787\n"
     ]
    }
   ],
   "source": [
    "d ={'Ram': 9841687908, 'Shyam': 98765676787}\n",
    "for i in d.values(): # to print values in dictionary\n",
    "    print(i)"
   ]
  },
  {
   "cell_type": "code",
   "execution_count": 27,
   "id": "21a2fbf8",
   "metadata": {},
   "outputs": [
    {
     "name": "stdout",
     "output_type": "stream",
     "text": [
      "('Ram', 9841687908)\n",
      "('Shyam', 98765676787)\n"
     ]
    }
   ],
   "source": [
    "d ={'Ram': 9841687908, 'Shyam': 98765676787}\n",
    "for i in d.items(): # to print both key and values.\n",
    "    print(i)"
   ]
  },
  {
   "cell_type": "code",
   "execution_count": 28,
   "id": "b7a98d56",
   "metadata": {},
   "outputs": [
    {
     "name": "stdout",
     "output_type": "stream",
     "text": [
      "[('Ram', 9841687908), ('Shyam', 98765676787)]\n"
     ]
    },
    {
     "data": {
      "text/plain": [
       "{'Ram': 9841687908, 'Shyam': 98765676787}"
      ]
     },
     "execution_count": 28,
     "metadata": {},
     "output_type": "execute_result"
    }
   ],
   "source": [
    "l =[]\n",
    "for i in d.items():\n",
    "    l.append(i)\n",
    "\n",
    "print(l) # to be ale to get output in list format.\n",
    "dict(l) # to be able to convert to dictionary."
   ]
  },
  {
   "cell_type": "code",
   "execution_count": 29,
   "id": "09e42f65",
   "metadata": {},
   "outputs": [
    {
     "name": "stdout",
     "output_type": "stream",
     "text": [
      "{'Ram': 9841687908, 'Shyam': 98765676787, 1: 1, 2: 4, 3: 9, 4: 16}\n"
     ]
    }
   ],
   "source": [
    "d = {'Ram': 9841687908, 'Shyam': 98765676787}\n",
    "a = {1:1, 2:4, 3:9, 4:16} \n",
    "#can't concatinate in dictionary\n",
    "# can't duplicate in dictionary\n",
    "# can't enlarge\n",
    "\n"
   ]
  },
  {
   "cell_type": "code",
   "execution_count": 38,
   "id": "dfb4bf49",
   "metadata": {},
   "outputs": [
    {
     "name": "stdout",
     "output_type": "stream",
     "text": [
      "{'Ram': 9841687908, 'Shyam': 98765676787, 1: 1, 2: 4, 3: 9, 4: 16}\n"
     ]
    }
   ],
   "source": [
    "d = {'Ram': 9841687908, 'Shyam': 98765676787}\n",
    "a = {1:1, 2:4, 3:9, 4:16} \n",
    "d.update(a)\n",
    "print(d)"
   ]
  },
  {
   "cell_type": "code",
   "execution_count": 30,
   "id": "8502ad53",
   "metadata": {},
   "outputs": [
    {
     "name": "stdout",
     "output_type": "stream",
     "text": [
      "{'Shyam': 98765676787, 1: 1, 2: 4, 3: 9, 4: 16}\n"
     ]
    }
   ],
   "source": [
    "# delete\n",
    "# del pop()\n",
    "a = {'Ram': 9841687908, 'Shyam': 98765676787, 1: 1, 2: 4, 3: 9, 4: 16}\n",
    "del a[\"Ram\"]# you can put key and value\n",
    "print(a)"
   ]
  },
  {
   "cell_type": "code",
   "execution_count": 31,
   "id": "5188b537",
   "metadata": {},
   "outputs": [
    {
     "name": "stdout",
     "output_type": "stream",
     "text": [
      "{'Shyam': 98765676787, 1: 1, 2: 4, 3: 9, 4: 16}\n",
      "9841687908\n"
     ]
    }
   ],
   "source": [
    "a = {'Ram': 9841687908, 'Shyam': 98765676787, 1: 1, 2: 4, 3: 9, 4: 16}\n",
    "b = a.pop(\"Ram\")\n",
    "print(a)\n",
    "print(b)"
   ]
  },
  {
   "cell_type": "code",
   "execution_count": 32,
   "id": "9b2b7313",
   "metadata": {},
   "outputs": [
    {
     "name": "stdout",
     "output_type": "stream",
     "text": [
      "{'Ram': [9841687908, 9841687909], 'Shyam': [98765676787, 98765676788]}\n"
     ]
    }
   ],
   "source": [
    "# list inside dict # multiple values, to read values use for loop\n",
    "d = {'Ram': [9841687908, 9841687909 ], 'Shyam': [98765676787, 98765676788]}\n",
    "print(d)"
   ]
  },
  {
   "cell_type": "code",
   "execution_count": 47,
   "id": "61f102db",
   "metadata": {},
   "outputs": [
    {
     "data": {
      "text/plain": [
       "[9841687908, 9841687909]"
      ]
     },
     "execution_count": 47,
     "metadata": {},
     "output_type": "execute_result"
    }
   ],
   "source": [
    "d = {'Ram': [9841687908, 9841687909 ], 'Shyam': [98765676787, 98765676788]}\n",
    "d[\"Ram\"]"
   ]
  },
  {
   "cell_type": "code",
   "execution_count": 43,
   "id": "a0566e97",
   "metadata": {},
   "outputs": [
    {
     "data": {
      "text/plain": [
       "9841687908"
      ]
     },
     "execution_count": 43,
     "metadata": {},
     "output_type": "execute_result"
    }
   ],
   "source": [
    "d[\"Ram\"] # list value"
   ]
  },
  {
   "cell_type": "code",
   "execution_count": 49,
   "id": "8f1caaaf",
   "metadata": {},
   "outputs": [
    {
     "data": {
      "text/plain": [
       "9841687909"
      ]
     },
     "execution_count": 49,
     "metadata": {},
     "output_type": "execute_result"
    }
   ],
   "source": [
    "d = {'Ram': [9841687908, 9841687909 ], 'Shyam': [98765676787, 98765676788]}\n",
    "d[\"Ram\"][1]"
   ]
  },
  {
   "cell_type": "code",
   "execution_count": 36,
   "id": "d985a514",
   "metadata": {},
   "outputs": [
    {
     "name": "stdout",
     "output_type": "stream",
     "text": [
      "Enter n  = 2\n",
      "Enter name  = Ram\n",
      "Enter ntc phone = 989887888\n",
      "Enter ncell phone = 989888\n",
      "Enter name  = Shyam\n",
      "Enter ntc phone = 988877766\n",
      "Enter ncell phone = 0999888777\n",
      "{'Ram': [989887888, 989888], 'Shyam': [988877766, 999888777]}\n"
     ]
    }
   ],
   "source": [
    "d = {}\n",
    "n = int(input(\"Enter n  = \"))\n",
    "for i in range(n):\n",
    "    name = input(\"Enter name  = \")\n",
    "    ntc_phone = int(input(\"Enter ntc phone = \"))\n",
    "    ncell_phone = int(input(\"Enter ncell phone = \"))\n",
    "    d[name] = [ntc_phone,ncell_phone]\n",
    "   \n",
    "    \n",
    "print(d)"
   ]
  },
  {
   "cell_type": "code",
   "execution_count": null,
   "id": "8f3cbc11",
   "metadata": {},
   "outputs": [],
   "source": [
    "# d = {\"name\": [], \"age\":[], \"add\":[]}"
   ]
  },
  {
   "cell_type": "code",
   "execution_count": 52,
   "id": "1c5d5aa2",
   "metadata": {},
   "outputs": [
    {
     "name": "stdout",
     "output_type": "stream",
     "text": [
      "Enter n  = 2\n",
      "Enter name  = Ram\n",
      "Enter age = 89\n",
      "Enter add = Kathmandu\n",
      "Enter name  = Shyam\n",
      "Enter age = 45\n",
      "Enter add = Bhaktapur\n",
      "{'name': ['Ram', 'Shyam'], 'age': [89, 45], 'add': ['Kathmandu', 'Bhaktapur']}\n"
     ]
    }
   ],
   "source": [
    "d = {\"name\":[], \"age\":[], \"add\":[]}\n",
    "\n",
    "n = int(input(\"Enter n  = \"))\n",
    "for i in range(n):\n",
    "    name = input(\"Enter name  = \")\n",
    "    age = int(input(\"Enter age = \"))\n",
    "    add = input(\"Enter add = \")\n",
    "    \n",
    "    d[\"name\"].append(name)\n",
    "    d[\"age\"].append(age)\n",
    "    d[\"add\"].append(add)\n",
    "    \n",
    "print(d)"
   ]
  },
  {
   "cell_type": "code",
   "execution_count": 56,
   "id": "b125df31",
   "metadata": {},
   "outputs": [
    {
     "name": "stdout",
     "output_type": "stream",
     "text": [
      "{'name': ['Ram', 'Shyam'], 'age': [89, 45], 'add': ['Ktm', 'Bhaktapur']}\n"
     ]
    }
   ],
   "source": [
    "#Update - to change address # mutable data\n",
    "d = {'name': ['Ram', 'Shyam'], 'age': [89, 45], 'add': ['Kathmandu', 'Bhaktapur']}\n",
    "d[\"add\"] [0] = \"Ktm\"\n",
    "print(d)"
   ]
  },
  {
   "cell_type": "code",
   "execution_count": 57,
   "id": "3a39624b",
   "metadata": {},
   "outputs": [
    {
     "name": "stdout",
     "output_type": "stream",
     "text": [
      "{'name': ['Shyam'], 'age': [45], 'add': ['Bhaktapur']}\n"
     ]
    }
   ],
   "source": [
    "#Delete - del -  d key then value.\n",
    "d = {'name': ['Ram', 'Shyam'], 'age': [89, 45], 'add': ['Kathmandu', 'Bhaktapur']}\n",
    "del d[\"name\"] [0]\n",
    "del d[\"age\"] [0]\n",
    "del d[\"add\"] [0]\n",
    "print(d)"
   ]
  },
  {
   "cell_type": "code",
   "execution_count": 6,
   "id": "2044a0b6",
   "metadata": {},
   "outputs": [
    {
     "name": "stdout",
     "output_type": "stream",
     "text": [
      "{('Ram', 'Sita'): [9841687908, 9841687909], 'Shyam': [98765676787, 98765676788]}\n"
     ]
    }
   ],
   "source": [
    "a = {(\"Ram\", \"Sita\"): [9841687908, 9841687909 ], 'Shyam': [98765676787, 98765676788]}\n",
    "print(a)"
   ]
  },
  {
   "cell_type": "code",
   "execution_count": 67,
   "id": "a419b925",
   "metadata": {},
   "outputs": [
    {
     "name": "stdout",
     "output_type": "stream",
     "text": [
      "Enter n = 2\n",
      "Enter name  =Ram\n",
      "Enter age =78\n",
      "Enter add = Kathmandu\n",
      "Enter name  =Shyam\n",
      "Enter age =89\n",
      "Enter add = Bhaktapur\n",
      "[{'name': 'Ram', 'age': 78, 'add': 'Kathmandu'}, {'name': 'Shyam', 'age': 89, 'add': 'Bhaktapur'}]\n"
     ]
    }
   ],
   "source": [
    "#dict inside list\n",
    "#WAP to create dict inside list and perform Create Read Update Delete\n",
    "d = [{\"name\": \"Ram\", \"age\":45, \"add\": \"Kathmandu\" },\n",
    "    {\"name\": \"Shyam\", \"age\":75, \"add\": \"Bhaktapur\" },\n",
    "    {\"name\": \"Nabin\", \"age\":54, \"add\": \"Lalitpur\" }]\n",
    "\n",
    "\n",
    "# create \n",
    "a =[]\n",
    "n = int(input(\"Enter n = \"))\n",
    "for i in range(n):\n",
    "    name = input(\"Enter name  =\")\n",
    "    age = int(input(\"Enter age =\"))\n",
    "    add = input(\"Enter add = \")\n",
    "    data = {\"name\" :name, \"age\": age, \"add\": add}\n",
    "    a.append(data)\n",
    "\n",
    "print(a)\n",
    "\n",
    "\n"
   ]
  },
  {
   "cell_type": "code",
   "execution_count": 68,
   "id": "cbf8b03f",
   "metadata": {},
   "outputs": [
    {
     "data": {
      "text/plain": [
       "'Ram'"
      ]
     },
     "execution_count": 68,
     "metadata": {},
     "output_type": "execute_result"
    }
   ],
   "source": [
    "# read\n",
    "a = [{'name': 'Ram', 'age': 78, 'add': 'Kathmandu'}, {'name': 'Shyam', 'age': 89, 'add': 'Bhaktapur'}]\n",
    "a[0][\"name\"]"
   ]
  },
  {
   "cell_type": "code",
   "execution_count": 70,
   "id": "4fbcef40",
   "metadata": {},
   "outputs": [
    {
     "name": "stdout",
     "output_type": "stream",
     "text": [
      "[{'name': 'Rama', 'age': 80, 'add': 'Lalitpur'}, {'name': 'Shyam', 'age': 89, 'add': 'Bhaktapur'}]\n"
     ]
    }
   ],
   "source": [
    "# update\n",
    "a = [{'name': 'Ram', 'age': 78, 'add': 'Kathmandu'}, {'name': 'Shyam', 'age': 89, 'add': 'Bhaktapur'}]\n",
    "a[0] = {\"name\": \"Rama\", \"age\": 80, \"add\": \"Lalitpur\"}\n",
    "print(a)"
   ]
  },
  {
   "cell_type": "code",
   "execution_count": 73,
   "id": "07fe97a9",
   "metadata": {},
   "outputs": [
    {
     "name": "stdout",
     "output_type": "stream",
     "text": [
      "[{'name': 'Rama', 'age': 78, 'add': 'Kathmandu'}, {'name': 'Shyam', 'age': 89, 'add': 'Bhaktapur'}]\n"
     ]
    }
   ],
   "source": [
    "# delete\n",
    "a = [{'name': 'Ram', 'age': 78, 'add': 'Kathmandu'}, {'name': 'Shyam', 'age': 89, 'add': 'Bhaktapur'}]\n",
    "a[0][\"name\"] = \"Rama\"\n",
    "print(a)"
   ]
  },
  {
   "cell_type": "code",
   "execution_count": 79,
   "id": "2e4961e4",
   "metadata": {},
   "outputs": [
    {
     "name": "stdout",
     "output_type": "stream",
     "text": [
      "Enter n = 2\n",
      "Enter name = Ram\n",
      "Enter age = 78\n",
      "Enter add = Kathmandu\n",
      "Enter name = Shyam\n",
      "Enter age = 89\n",
      "Enter add = Lalitpur\n",
      "{1: {'name': 'Ram', 'age': 78, 'add': 'Kathmandu'}, 2: {'name': 'Shyam', 'age': 89, 'add': 'Lalitpur'}}\n"
     ]
    }
   ],
   "source": [
    "# nested dict\n",
    "d = {1:{\"name\": \"Ram\", \"age\":10, \"grade\" : \"A\" },\n",
    "     2:{\"name\": \"Shyam\", \"age\" :11, \"grade\" : \"A+\"},\n",
    "     3:{\"name\": \"Hari\", \"age\" :14, \"grade\" : \"B\"},\n",
    "     4:{\"name\": \"Nabin\", \"age\" :11, \"grade\" : \"C\"}}\n",
    "\n",
    "d ={}\n",
    "n = int(input(\"Enter n = \"))\n",
    "for i in range(1,n+1):\n",
    "    name = input(\"Enter name = \")\n",
    "    age = int(input(\"Enter age = \"))\n",
    "    add = input(\"Enter add = \")\n",
    "    data = {\"name\":name, \"age\": age, \"add\": add}\n",
    "    d[i] = data\n",
    "    \n",
    "print(d)"
   ]
  },
  {
   "cell_type": "code",
   "execution_count": 80,
   "id": "a288b7eb",
   "metadata": {},
   "outputs": [
    {
     "name": "stdout",
     "output_type": "stream",
     "text": [
      "{1: {'name': 'Ram', 'age': 78, 'add': 'Kathmandu'}, 2: {'name': 'Shyam', 'age': 89, 'add': 'Lalitpur'}, 3: {'name': 'Rama', 'age': 83, 'add': 'Kathmandu'}}\n"
     ]
    }
   ],
   "source": [
    "a = {1: {'name': 'Ram', 'age': 78, 'add': 'Kathmandu'}, 2: {'name': 'Shyam', 'age': 89, 'add': 'Lalitpur'}}\n",
    "a[3] = {\"name\": \"Rama\", \"age\" :83, \"add\": \"Kathmandu\"}\n",
    "print(a)"
   ]
  },
  {
   "cell_type": "code",
   "execution_count": 81,
   "id": "86ca6157",
   "metadata": {},
   "outputs": [
    {
     "name": "stdout",
     "output_type": "stream",
     "text": [
      "{1: {'name': 'Rama', 'age': 28, 'add': 'Bara'}, 2: {'name': 'Shyam', 'age': 89, 'add': 'Lalitpur'}}\n"
     ]
    }
   ],
   "source": [
    "#update\n",
    "a = {1: {'name': 'Ram', 'age': 78, 'add': 'Kathmandu'}, 2: {'name': 'Shyam', 'age': 89, 'add': 'Lalitpur'}}\n",
    "a[1] = {'name': 'Rama', 'age': 28, 'add': 'Bara'}\n",
    "print(a)"
   ]
  },
  {
   "cell_type": "code",
   "execution_count": 82,
   "id": "8c1cfe56",
   "metadata": {},
   "outputs": [
    {
     "name": "stdout",
     "output_type": "stream",
     "text": [
      "{2: {'name': 'Shyam', 'age': 89, 'add': 'Lalitpur'}}\n"
     ]
    }
   ],
   "source": [
    "#delete\n",
    "a = {1: {'name': 'Ram', 'age': 78, 'add': 'Kathmandu'}, 2: {'name': 'Shyam', 'age': 89, 'add': 'Lalitpur'}}\n",
    "del a[1]\n",
    "print(a)"
   ]
  },
  {
   "cell_type": "code",
   "execution_count": null,
   "id": "ceb37a60",
   "metadata": {},
   "outputs": [],
   "source": [
    "#WAP to create result management system for a class using\n",
    "# dict. inside dict.\n",
    "#physics = theory practical\n",
    "#chemistry = theory practical\n",
    "#maths\n",
    "#english\n",
    "#nepali\n",
    "#total\n",
    "\n",
    "d = {1:{\"class\": \"Chemistry\", \"age\":10, \"grade\" : \"A\" },\n",
    "     2:{\"class\": \"Shyam\", \"age\" :11, \"grade\" : \"A+\"},\n",
    "     3:{\"name\": \"Hari\", \"age\" :14, \"grade\" : \"B\"},\n",
    "     4:{\"name\": \"Nabin\", \"age\" :11, \"grade\" : \"C\"}}\n",
    "\n",
    "d ={}\n",
    "n = int(input(\"Enter class = \"))\n",
    "for i in range(1,n+1):\n",
    "    name = input(\"Enter name = \")\n",
    "    age = int(input(\"Enter age = \"))\n",
    "    add = input(\"Enter add = \")\n",
    "    data = {\"name\":name, \"age\": age, \"add\": add}\n",
    "    d[i] = data\n",
    "    \n",
    "print(d)"
   ]
  }
 ],
 "metadata": {
  "kernelspec": {
   "display_name": "Python 3 (ipykernel)",
   "language": "python",
   "name": "python3"
  },
  "language_info": {
   "codemirror_mode": {
    "name": "ipython",
    "version": 3
   },
   "file_extension": ".py",
   "mimetype": "text/x-python",
   "name": "python",
   "nbconvert_exporter": "python",
   "pygments_lexer": "ipython3",
   "version": "3.8.10"
  }
 },
 "nbformat": 4,
 "nbformat_minor": 5
}
