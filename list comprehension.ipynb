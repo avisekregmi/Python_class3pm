{
 "cells": [
  {
   "cell_type": "code",
   "execution_count": 15,
   "id": "bc468e08",
   "metadata": {},
   "outputs": [
    {
     "name": "stdout",
     "output_type": "stream",
     "text": [
      "[4, 9, 25, 49, 121, 169]\n"
     ]
    }
   ],
   "source": [
    "prime_numbers = [2,3,5, 7, 11, 13]\n",
    "primesquares = []\n",
    "for item in prime_numbers:\n",
    "    square =  item ** 2\n",
    "    primesquares.append(square)\n",
    "\n",
    "print(primesquares)"
   ]
  },
  {
   "cell_type": "code",
   "execution_count": 22,
   "id": "5a5ab0b2",
   "metadata": {},
   "outputs": [],
   "source": [
    "squares_of_prime = [item **2 for itme in prime_numbers]"
   ]
  },
  {
   "cell_type": "code",
   "execution_count": 21,
   "id": "2e0bd595",
   "metadata": {},
   "outputs": [
    {
     "data": {
      "text/plain": [
       "[169, 169, 169, 169, 169, 169]"
      ]
     },
     "execution_count": 21,
     "metadata": {},
     "output_type": "execute_result"
    }
   ],
   "source": [
    "squares_of_prime"
   ]
  },
  {
   "cell_type": "code",
   "execution_count": 23,
   "id": "c248e969",
   "metadata": {},
   "outputs": [],
   "source": [
    "val = []\n",
    "for index in range(-5,10):\n",
    "    if index <=5:\n",
    "        val.append(index)\n",
    "    else:\n",
    "        continue"
   ]
  },
  {
   "cell_type": "code",
   "execution_count": 24,
   "id": "d8eca22e",
   "metadata": {},
   "outputs": [
    {
     "data": {
      "text/plain": [
       "[-5, -4, -3, -2, -1, 0, 1, 2, 3, 4, 5]"
      ]
     },
     "execution_count": 24,
     "metadata": {},
     "output_type": "execute_result"
    }
   ],
   "source": [
    "val"
   ]
  },
  {
   "cell_type": "code",
   "execution_count": 29,
   "id": "4a32200d",
   "metadata": {},
   "outputs": [
    {
     "data": {
      "text/plain": [
       "[-5, -4, -3, -2, -1, 0, 1, 2, 3, 4, 5]"
      ]
     },
     "execution_count": 29,
     "metadata": {},
     "output_type": "execute_result"
    }
   ],
   "source": [
    "[index for index in range(-5, 10) if index<=5]"
   ]
  },
  {
   "cell_type": "code",
   "execution_count": 30,
   "id": "bad34645",
   "metadata": {},
   "outputs": [
    {
     "data": {
      "text/plain": [
       "[-5, -4, -3, -2, -1, 0, 1, 2, 3, 4, 5, 0, 0, 0, 0]"
      ]
     },
     "execution_count": 30,
     "metadata": {},
     "output_type": "execute_result"
    }
   ],
   "source": [
    "[index if index<=5 else 0 for index in range(-5,10)]"
   ]
  },
  {
   "cell_type": "code",
   "execution_count": 31,
   "id": "001dfcd9",
   "metadata": {},
   "outputs": [
    {
     "data": {
      "text/plain": [
       "[-10, -8, -6, -4, -2, 0, 2, 4, 6, 8, 10, 0, 0, 0, 0]"
      ]
     },
     "execution_count": 31,
     "metadata": {},
     "output_type": "execute_result"
    }
   ],
   "source": [
    "[index *2 if index<=5 else 0 for index in range(-5,10)]"
   ]
  },
  {
   "cell_type": "code",
   "execution_count": 32,
   "id": "defe2def",
   "metadata": {},
   "outputs": [],
   "source": [
    "fruits = [\"APPLE\", \"BANANA\", \"MANGO\", \"ORANGE\"] # for item in list name or iterable."
   ]
  },
  {
   "cell_type": "code",
   "execution_count": 33,
   "id": "f59851d4",
   "metadata": {},
   "outputs": [],
   "source": [
    "lower_fruits = [item.lower() for item in fruits]"
   ]
  },
  {
   "cell_type": "code",
   "execution_count": 34,
   "id": "af6e847f",
   "metadata": {},
   "outputs": [
    {
     "data": {
      "text/plain": [
       "['apple', 'banana', 'mango', 'orange']"
      ]
     },
     "execution_count": 34,
     "metadata": {},
     "output_type": "execute_result"
    }
   ],
   "source": [
    "lower_fruits"
   ]
  },
  {
   "cell_type": "code",
   "execution_count": 35,
   "id": "6073a8e4",
   "metadata": {},
   "outputs": [],
   "source": [
    "fruits = [\"APPLE\", \"BANANA\", \"MANGO\", \"ORANGE\"]\n",
    "lower_fruits = [item.lower() for item in fruits]"
   ]
  },
  {
   "cell_type": "code",
   "execution_count": 36,
   "id": "28095363",
   "metadata": {},
   "outputs": [
    {
     "data": {
      "text/plain": [
       "['apple', 'banana', 'mango', 'orange']"
      ]
     },
     "execution_count": 36,
     "metadata": {},
     "output_type": "execute_result"
    }
   ],
   "source": [
    "lower_fruits"
   ]
  },
  {
   "cell_type": "markdown",
   "id": "083c1f18",
   "metadata": {},
   "source": [
    "# [ ] attributes: - insert, extend, remove, append, pop\n",
    "\n",
    "# \" \" attributes/methods :  - .lower(), .upper(), .replace(), .split(), .lstrip(), .vstrip()"
   ]
  },
  {
   "cell_type": "code",
   "execution_count": 38,
   "id": "ef144682",
   "metadata": {},
   "outputs": [],
   "source": [
    "fruits = [\"apple\", \"banana\", \"apple\", \"mango\"]\n",
    "list1 = [item for item in fruits if item != \"apple\"]\n"
   ]
  },
  {
   "cell_type": "code",
   "execution_count": 39,
   "id": "15b8af9a",
   "metadata": {},
   "outputs": [
    {
     "data": {
      "text/plain": [
       "['banana', 'mango']"
      ]
     },
     "execution_count": 39,
     "metadata": {},
     "output_type": "execute_result"
    }
   ],
   "source": [
    "list1"
   ]
  },
  {
   "cell_type": "code",
   "execution_count": 41,
   "id": "3ae8c627",
   "metadata": {},
   "outputs": [
    {
     "data": {
      "text/plain": [
       "['odd']"
      ]
     },
     "execution_count": 41,
     "metadata": {},
     "output_type": "execute_result"
    }
   ],
   "source": [
    "nums = [1,2,3,4,65, 8, 9, 0, 77, 55, 33]\n",
    "[\"even\" if item %2 == 0 else \"odd\"]"
   ]
  },
  {
   "cell_type": "code",
   "execution_count": null,
   "id": "7541af5b",
   "metadata": {},
   "outputs": [],
   "source": []
  }
 ],
 "metadata": {
  "kernelspec": {
   "display_name": "Python 3 (ipykernel)",
   "language": "python",
   "name": "python3"
  },
  "language_info": {
   "codemirror_mode": {
    "name": "ipython",
    "version": 3
   },
   "file_extension": ".py",
   "mimetype": "text/x-python",
   "name": "python",
   "nbconvert_exporter": "python",
   "pygments_lexer": "ipython3",
   "version": "3.8.10"
  }
 },
 "nbformat": 4,
 "nbformat_minor": 5
}
