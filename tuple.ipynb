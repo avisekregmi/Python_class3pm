{
 "cells": [
  {
   "cell_type": "code",
   "execution_count": null,
   "id": "c6928bad",
   "metadata": {},
   "outputs": [],
   "source": [
    "# Tuple\n",
    "# Tuple is also a datatype\n",
    "# Indexing\n",
    "# Ordered\n",
    "# Multiple value\n",
    "# Duplicate value\n",
    "# Imutable"
   ]
  },
  {
   "cell_type": "code",
   "execution_count": null,
   "id": "992012f5",
   "metadata": {},
   "outputs": [],
   "source": [
    "t = tuple()\n",
    "t = (1,2,3,4,5,6,)\n",
    "r = (\"Apple\", \"Ball\", \"Cat\")\n",
    "print(r)\n",
    "print(type(r))"
   ]
  },
  {
   "cell_type": "code",
   "execution_count": null,
   "id": "65ba9ba5",
   "metadata": {},
   "outputs": [],
   "source": [
    "r = (\"Apple\", \"Ball\", \"Cat\")\n",
    "type(r)"
   ]
  },
  {
   "cell_type": "code",
   "execution_count": null,
   "id": "5fc1283d",
   "metadata": {},
   "outputs": [],
   "source": [
    "r = (\"Apple\")\n",
    "type(r)"
   ]
  },
  {
   "cell_type": "code",
   "execution_count": null,
   "id": "4046e3c6",
   "metadata": {},
   "outputs": [],
   "source": [
    "r = (\"Apple\", \"Ball\",)\n",
    "type(r)"
   ]
  },
  {
   "cell_type": "code",
   "execution_count": null,
   "id": "023beffb",
   "metadata": {},
   "outputs": [],
   "source": [
    "r = (\"Apple\")\n",
    "type(r)"
   ]
  },
  {
   "cell_type": "code",
   "execution_count": null,
   "id": "4b352129",
   "metadata": {},
   "outputs": [],
   "source": [
    "r = (\"Apple\", \"Ball\", \"Cat\")\n",
    "r[1]"
   ]
  },
  {
   "cell_type": "code",
   "execution_count": null,
   "id": "8c5783ee",
   "metadata": {},
   "outputs": [],
   "source": [
    "r = (\"Apple\", \"Ball\", \"Cat\")\n",
    "r[0]"
   ]
  },
  {
   "cell_type": "code",
   "execution_count": null,
   "id": "20d3942d",
   "metadata": {},
   "outputs": [],
   "source": [
    "r = (\"Apple\", \"Ball\", \"Cat\")\n",
    "r[2]"
   ]
  },
  {
   "cell_type": "code",
   "execution_count": null,
   "id": "e91c13d9",
   "metadata": {},
   "outputs": [],
   "source": [
    "t = (1,2,3,4,5,6)\n",
    "r = (\"Apple\", \"Ball\", \"Cat\")\n",
    "t+r"
   ]
  },
  {
   "cell_type": "code",
   "execution_count": null,
   "id": "912827e6",
   "metadata": {},
   "outputs": [],
   "source": [
    "r = (\"Apple\", \"Ball\", \"Cat\")\n",
    "r*2"
   ]
  },
  {
   "cell_type": "code",
   "execution_count": null,
   "id": "8a4549cf",
   "metadata": {},
   "outputs": [],
   "source": [
    "# WAP to  create a tuple by taking data from user\n",
    "\n",
    "tuple = (3, 4.6, 7, 9, 10, 12, \"dog\", \"cat\", \"mouse\", \"turtle\", )\n",
    "print(tuple)\n",
    "type(tuple)"
   ]
  },
  {
   "cell_type": "code",
   "execution_count": null,
   "id": "0111de3d",
   "metadata": {},
   "outputs": [],
   "source": [
    "first_tuple = 7, 8, 9, \"creation\"\n",
    "print(first_tuple) "
   ]
  },
  {
   "cell_type": "code",
   "execution_count": null,
   "id": "e7505670",
   "metadata": {},
   "outputs": [],
   "source": [
    "# no append() insert() extend()\n",
    "# no update\n",
    "# no del remove() pop()\n",
    "# no sort()"
   ]
  },
  {
   "cell_type": "code",
   "execution_count": 3,
   "id": "eeb8bd9c",
   "metadata": {},
   "outputs": [
    {
     "name": "stdout",
     "output_type": "stream",
     "text": [
      "Enter n = 5\n",
      "Enter x = 34\n",
      "Enter x = 56\n",
      "Enter x = 45\n",
      "Enter x = 67\n",
      "Enter x = 78\n",
      "(34, 56, 45, 67, 78)\n"
     ]
    }
   ],
   "source": [
    "t = tuple() \n",
    "n = int(input(\"Enter n = \"))\n",
    "for i in range(n):\n",
    "    x = int(input(\"Enter x = \"))\n",
    "    t = t+(x,)\n",
    "print(t)"
   ]
  },
  {
   "cell_type": "code",
   "execution_count": 4,
   "id": "2cf10672",
   "metadata": {},
   "outputs": [
    {
     "name": "stdout",
     "output_type": "stream",
     "text": [
      "(45, 23, 456, 231)\n"
     ]
    }
   ],
   "source": [
    "t = (123, 45, 23, 456, 231)\n",
    "x = list(t)\n",
    "del x[0]\n",
    "t = tuple(x)\n",
    "print(t)"
   ]
  },
  {
   "cell_type": "code",
   "execution_count": null,
   "id": "5d988fef",
   "metadata": {},
   "outputs": [],
   "source": [
    "#sum() max() min() index()"
   ]
  },
  {
   "cell_type": "code",
   "execution_count": null,
   "id": "0aeb5885",
   "metadata": {},
   "outputs": [],
   "source": [
    "# tuple inside tuple\n",
    "a = ((1,2,3), \n",
    "     (4,5,6), \n",
    "     (7,8,9))\n"
   ]
  },
  {
   "cell_type": "code",
   "execution_count": 2,
   "id": "5f605809",
   "metadata": {},
   "outputs": [
    {
     "name": "stdout",
     "output_type": "stream",
     "text": [
      "Enter n = 2\n",
      "Enter name = ram\n",
      "Enter age = 34\n",
      "Enter add = kathmandu\n",
      "Enter name = Shyam\n",
      "Enter age = 45\n",
      "Enter add = bakhtapur\n",
      "(('ram', 34, 'kathmandu'), ('Shyam', 45, 'bakhtapur'))\n"
     ]
    }
   ],
   "source": [
    "data = tuple()\n",
    "n = int(input(\"Enter n = \"))\n",
    "for i in range(n):\n",
    "        name = input(\"Enter name = \")\n",
    "        age  = int(input(\"Enter age = \"))\n",
    "        add  = input(\"Enter add = \")\n",
    "        data = data + ((name,age,add),)\n",
    "print(data)"
   ]
  },
  {
   "cell_type": "code",
   "execution_count": 5,
   "id": "f24bc4a4",
   "metadata": {},
   "outputs": [],
   "source": [
    "# tuple inside list\n",
    "a = [('ram', 34, 'kathmandu'), ('Shyam', 45, 'bakhtapur')]\n",
    "\n",
    "# list inside tuple\n",
    "b = (['ram', 34, 'kathmandu'], ['Shyam', 45, 'bakhtapur'])"
   ]
  },
  {
   "cell_type": "code",
   "execution_count": 6,
   "id": "c2cd7c8f",
   "metadata": {},
   "outputs": [
    {
     "name": "stdout",
     "output_type": "stream",
     "text": [
      "[('Shyam', 45, 'bakhtapur')]\n"
     ]
    }
   ],
   "source": [
    "a = [('ram', 34, 'kathmandu'), ('Shyam', 45, 'bakhtapur')]\n",
    "del a[0]\n",
    "print(a)"
   ]
  },
  {
   "cell_type": "code",
   "execution_count": 7,
   "id": "ea044211",
   "metadata": {},
   "outputs": [
    {
     "data": {
      "text/plain": [
       "['ram', 34, 'kathmandu']"
      ]
     },
     "execution_count": 7,
     "metadata": {},
     "output_type": "execute_result"
    }
   ],
   "source": [
    "b = (['ram', 34, 'kathmandu'], ['Shyam', 45, 'bakhtapur'])\n",
    "b[0]"
   ]
  },
  {
   "cell_type": "code",
   "execution_count": 8,
   "id": "73c95cda",
   "metadata": {},
   "outputs": [
    {
     "name": "stdout",
     "output_type": "stream",
     "text": [
      "([34, 'kathmandu'], ['Shyam', 45, 'bakhtapur'])\n"
     ]
    }
   ],
   "source": [
    "b = (['ram', 34, 'kathmandu'], ['Shyam', 45, 'bakhtapur'])\n",
    "del b[0][0]\n",
    "print(b)"
   ]
  },
  {
   "cell_type": "code",
   "execution_count": 9,
   "id": "edd02322",
   "metadata": {},
   "outputs": [],
   "source": [
    "#search index() sorted() but not sort function"
   ]
  },
  {
   "cell_type": "code",
   "execution_count": 10,
   "id": "bbde0e43",
   "metadata": {},
   "outputs": [
    {
     "data": {
      "text/plain": [
       "[24, 76, 234, 234, 234, 546, 657]"
      ]
     },
     "execution_count": 10,
     "metadata": {},
     "output_type": "execute_result"
    }
   ],
   "source": [
    "a = (234, 546, 234, 657, 24, 76, 234)\n",
    "sorted(a) # value returns in list"
   ]
  },
  {
   "cell_type": "code",
   "execution_count": null,
   "id": "f3db775c",
   "metadata": {},
   "outputs": [],
   "source": []
  }
 ],
 "metadata": {
  "kernelspec": {
   "display_name": "Python 3 (ipykernel)",
   "language": "python",
   "name": "python3"
  },
  "language_info": {
   "codemirror_mode": {
    "name": "ipython",
    "version": 3
   },
   "file_extension": ".py",
   "mimetype": "text/x-python",
   "name": "python",
   "nbconvert_exporter": "python",
   "pygments_lexer": "ipython3",
   "version": "3.8.10"
  }
 },
 "nbformat": 4,
 "nbformat_minor": 5
}
