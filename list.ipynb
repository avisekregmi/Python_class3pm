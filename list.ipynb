{
 "cells": [
  {
   "cell_type": "code",
   "execution_count": null,
   "id": "439c22bd",
   "metadata": {},
   "outputs": [],
   "source": []
  },
  {
   "cell_type": "code",
   "execution_count": null,
   "id": "45270b3c",
   "metadata": {},
   "outputs": [],
   "source": []
  },
  {
   "cell_type": "code",
   "execution_count": null,
   "id": "329cf678",
   "metadata": {},
   "outputs": [],
   "source": [
    "a = [1,2,3,4,5]\n",
    "b = [\"Apple\", \"Ball\", \"Cat\"]\n",
    "print(a)\n",
    "print(b)\n",
    "print(type(a))\n",
    "print(type(b))"
   ]
  },
  {
   "cell_type": "code",
   "execution_count": null,
   "id": "53bf4846",
   "metadata": {},
   "outputs": [],
   "source": [
    "b = [\"Apple\", \"Ball\", \"Cat\"]\n",
    "print(b[2])"
   ]
  },
  {
   "cell_type": "code",
   "execution_count": null,
   "id": "3a1dff1f",
   "metadata": {},
   "outputs": [],
   "source": [
    "print(len(b))"
   ]
  },
  {
   "cell_type": "code",
   "execution_count": null,
   "id": "d64f5c85",
   "metadata": {},
   "outputs": [],
   "source": [
    "b = [\"Apple\", \"Ball\", \"Cat\", \"Dog\", \"Fish\"]\n",
    "b[0:3]"
   ]
  },
  {
   "cell_type": "code",
   "execution_count": null,
   "id": "4dfdcce7",
   "metadata": {},
   "outputs": [],
   "source": [
    "b = [\"Apple\", \"Ball\", \"Cat\", \"Dog\", \"Fish\"]\n",
    "b[0:5:]"
   ]
  },
  {
   "cell_type": "code",
   "execution_count": null,
   "id": "4d4811f3",
   "metadata": {},
   "outputs": [],
   "source": [
    "b = [\"Apple\", \"Ball\", \"Cat\", \"Dog\", \"Fish\"]\n",
    "b[0:5:2]"
   ]
  },
  {
   "cell_type": "code",
   "execution_count": null,
   "id": "f7778c50",
   "metadata": {},
   "outputs": [],
   "source": [
    "b = [\"Apple\", \"Ball\", \"Cat\", \"Dog\", \"Fish\", \"Apple\"]\n",
    "b"
   ]
  },
  {
   "cell_type": "code",
   "execution_count": null,
   "id": "d14696ed",
   "metadata": {},
   "outputs": [],
   "source": [
    "b = [\"Apple\", \"Ball\", \"Cat\", \"Dog\", \"Fish\", \"Apple\"]\n",
    "c = [\"Goat\"]\n",
    "d = b+c # concatenation.\n",
    "print(d)"
   ]
  },
  {
   "cell_type": "code",
   "execution_count": null,
   "id": "08bd82ee",
   "metadata": {},
   "outputs": [],
   "source": [
    "type(c)"
   ]
  },
  {
   "cell_type": "code",
   "execution_count": null,
   "id": "db695d0c",
   "metadata": {},
   "outputs": [],
   "source": [
    "type(c[0])"
   ]
  },
  {
   "cell_type": "code",
   "execution_count": null,
   "id": "da6de099",
   "metadata": {},
   "outputs": [],
   "source": []
  },
  {
   "cell_type": "code",
   "execution_count": null,
   "id": "bdc2491c",
   "metadata": {},
   "outputs": [],
   "source": [
    "a =[1,2,3,4]\n",
    "print(a*2) # it does not multiply but it enlarges the list."
   ]
  },
  {
   "cell_type": "code",
   "execution_count": null,
   "id": "3d4bfb22",
   "metadata": {},
   "outputs": [],
   "source": [
    "l = list() # or []\n",
    "n = int(input(\"Enter n = \"))\n",
    "for i in range(n):\n",
    "    x = int(input(\"Enter x = \"))\n",
    "    l = l+[x]\n",
    "print(l)"
   ]
  },
  {
   "cell_type": "code",
   "execution_count": null,
   "id": "efaa67ec",
   "metadata": {},
   "outputs": [],
   "source": [
    "print(\"The max value = \",max(l)) \n",
    "print(\"The min value = \",min(l))\n",
    "print(\"the sum = \", sum(l))\n",
    "l.sort()\n",
    "print(l)\n",
    "l.reverse()\n",
    "print(l)"
   ]
  },
  {
   "cell_type": "code",
   "execution_count": null,
   "id": "109c42a9",
   "metadata": {},
   "outputs": [],
   "source": [
    "a = [\"apple\", \"Ant\", \"Ball\",\"Zebra\", \"cat\"]\n",
    "a.sort()\n",
    "print(a)"
   ]
  },
  {
   "cell_type": "code",
   "execution_count": null,
   "id": "37915f49",
   "metadata": {},
   "outputs": [],
   "source": [
    "a = [\"Apple\", \"Ant\", \"Ball\",\"Zebra\", \"Cat\"]\n",
    "a.sort()\n",
    "print(a)"
   ]
  },
  {
   "cell_type": "code",
   "execution_count": null,
   "id": "7baf6029",
   "metadata": {},
   "outputs": [],
   "source": [
    "a = [\"Apple\", \"Ant\", \"Ball\",\"Zebra\", \"Cat\"]\n",
    "for i in a:\n",
    "    print(i)"
   ]
  },
  {
   "cell_type": "code",
   "execution_count": null,
   "id": "f8a799a8",
   "metadata": {},
   "outputs": [],
   "source": [
    "a = x, y =  [100,200]\n"
   ]
  },
  {
   "cell_type": "code",
   "execution_count": null,
   "id": "7815af73",
   "metadata": {},
   "outputs": [],
   "source": [
    "x, y =  [100,200]\n",
    "print(x)\n",
    "print(y)"
   ]
  },
  {
   "cell_type": "code",
   "execution_count": null,
   "id": "b1baf1d0",
   "metadata": {},
   "outputs": [],
   "source": [
    "a = [\"Apple\", \"Ant\", \"Ball\",\"Zebra\", \"Cat\"]\n",
    "for i in a:\n",
    "    if i != \"Ball\":\n",
    "        print(i)"
   ]
  },
  {
   "cell_type": "code",
   "execution_count": null,
   "id": "3a8b844d",
   "metadata": {},
   "outputs": [],
   "source": [
    "a = [\"Apple\", \"Ant\", \"Ball\",\"Zebra\", \"Cat\"]\n",
    "if \"Ant\" in a:\n",
    "    print(\"Yes\", a.count(\"Ant\"))\n",
    "\n",
    "else:\n",
    "    print(\"No\")"
   ]
  },
  {
   "cell_type": "code",
   "execution_count": null,
   "id": "3470d7e9",
   "metadata": {},
   "outputs": [],
   "source": [
    "# append() insert() extend()"
   ]
  },
  {
   "cell_type": "code",
   "execution_count": null,
   "id": "9e7c3aa3",
   "metadata": {},
   "outputs": [],
   "source": [
    "a = [\"Apple\", \"Ant\", \"Ball\",\"Zebra\", \"Cat\"]\n",
    "a.append(\"Goat\")\n",
    "print(a)"
   ]
  },
  {
   "cell_type": "code",
   "execution_count": null,
   "id": "240588ba",
   "metadata": {},
   "outputs": [],
   "source": [
    "a = [\"Apple\", \"Ant\", \"Ball\",\"Zebra\", \"Cat\"]\n",
    "a.insert(1,\"Goat\")\n",
    "print(a)"
   ]
  },
  {
   "cell_type": "code",
   "execution_count": null,
   "id": "59a9b4b7",
   "metadata": {},
   "outputs": [],
   "source": [
    "a = [\"Apple\", \"Ant\", \"Ball\",\"Zebra\", \"Cat\"]\n",
    "b = [\"Fish\",\"Apple\"]\n",
    "a.extend(b)\n",
    "print(a)"
   ]
  },
  {
   "cell_type": "code",
   "execution_count": null,
   "id": "7a12dc5a",
   "metadata": {},
   "outputs": [],
   "source": [
    "l = list() # or []\n",
    "n = int(input(\"Enter n = \"))\n",
    "for i in range(n):\n",
    "    x = int(input(\"Enter x = \"))\n",
    "    l.append(x)\n",
    "print(l)"
   ]
  },
  {
   "cell_type": "code",
   "execution_count": 2,
   "id": "f73fa267",
   "metadata": {},
   "outputs": [
    {
     "name": "stdout",
     "output_type": "stream",
     "text": [
      "['Apple', 'Goat', 'Ant', 'Ball', 'Zebra', 'Cat']\n"
     ]
    }
   ],
   "source": [
    "a = [\"Apple\", \"Goat\" , \"Ant\", \"Ball\",\"Zebra\", \"Cat\"]\n",
    "print(a)"
   ]
  },
  {
   "cell_type": "code",
   "execution_count": 3,
   "id": "48647083",
   "metadata": {},
   "outputs": [
    {
     "name": "stdout",
     "output_type": "stream",
     "text": [
      "['Ant', 'Goat', 'Ant', 'Ball', 'Zebra', 'Cat']\n"
     ]
    }
   ],
   "source": [
    "a = [\"Apple\", \"Goat\" , \"Ant\", \"Ball\",\"Zebra\", \"Cat\"]\n",
    "a [0] = \"Ant\"\n",
    "print(a)"
   ]
  },
  {
   "cell_type": "code",
   "execution_count": 4,
   "id": "0ce8057e",
   "metadata": {},
   "outputs": [
    {
     "name": "stdout",
     "output_type": "stream",
     "text": [
      "[1, 2, 3, 'Ball', 'Zebra', 'Cat']\n"
     ]
    }
   ],
   "source": [
    "#update\n",
    "a = [\"Apple\", \"Goat\" , \"Ant\", \"Ball\",\"Zebra\", \"Cat\"]\n",
    "a [0:3] = [1,2,3]\n",
    "print(a)"
   ]
  },
  {
   "cell_type": "code",
   "execution_count": 5,
   "id": "29fbbf3d",
   "metadata": {},
   "outputs": [
    {
     "name": "stdout",
     "output_type": "stream",
     "text": [
      "['Goat', 'Ant', 'Ball', 'Zebra', 'Cat']\n"
     ]
    }
   ],
   "source": [
    "#del to delete value\n",
    "#remove()\n",
    "#pop\n",
    "\n",
    "a = [\"Apple\", \"Goat\" , \"Ant\", \"Ball\",\"Zebra\", \"Cat\"]\n",
    "del a[0]\n",
    "print(a)"
   ]
  },
  {
   "cell_type": "code",
   "execution_count": 6,
   "id": "d4ebbb72",
   "metadata": {},
   "outputs": [
    {
     "name": "stdout",
     "output_type": "stream",
     "text": [
      "['Ball', 'Zebra', 'Cat']\n"
     ]
    }
   ],
   "source": [
    "a = [\"Apple\", \"Goat\" , \"Ant\", \"Ball\",\"Zebra\", \"Cat\"]\n",
    "del a[0:3]\n",
    "print(a)"
   ]
  },
  {
   "cell_type": "code",
   "execution_count": 8,
   "id": "1047c218",
   "metadata": {},
   "outputs": [
    {
     "name": "stdout",
     "output_type": "stream",
     "text": [
      "['Goat', 'Ant', 'Ball', 'Zebra', 'Cat']\n"
     ]
    }
   ],
   "source": [
    "a = [\"Apple\", \"Goat\", \"Ant\", \"Ball\",\"Zebra\", \"Cat\"]\n",
    "a.remove(\"Apple\")\n",
    "print(a)"
   ]
  },
  {
   "cell_type": "code",
   "execution_count": 9,
   "id": "d42dd632",
   "metadata": {},
   "outputs": [
    {
     "name": "stdout",
     "output_type": "stream",
     "text": [
      "['Apple', 'Ant', 'Ball', 'Zebra', 'Cat']\n"
     ]
    }
   ],
   "source": [
    "#pop\n",
    "a = [\"Apple\", \"Goat\", \"Ant\", \"Ball\",\"Zebra\", \"Cat\"]\n",
    "a.pop(1)\n",
    "print(a)"
   ]
  },
  {
   "cell_type": "code",
   "execution_count": 10,
   "id": "04578fa5",
   "metadata": {},
   "outputs": [
    {
     "name": "stdout",
     "output_type": "stream",
     "text": [
      "['Apple', 'Ant', 'Ball', 'Zebra', 'Cat']\n",
      "Goat\n"
     ]
    }
   ],
   "source": [
    "a = [\"Apple\", \"Goat\", \"Ant\", \"Ball\",\"Zebra\", \"Cat\"]\n",
    "b = a.pop(1)\n",
    "print(a)\n",
    "print(b)"
   ]
  },
  {
   "cell_type": "code",
   "execution_count": 11,
   "id": "3e1f13ea",
   "metadata": {},
   "outputs": [
    {
     "name": "stdout",
     "output_type": "stream",
     "text": [
      "['Goat', 'Ant', 'Ball', 'Zebra', 'Cat']\n"
     ]
    }
   ],
   "source": [
    "a = [\"Apple\", \"Goat\", \"Ant\", \"Ball\",\"Zebra\", \"Cat\"]\n",
    "a.remove(\"Apple\")\n",
    "print(a) # multiple value of the same word will not be removed."
   ]
  },
  {
   "cell_type": "code",
   "execution_count": 12,
   "id": "515dac43",
   "metadata": {},
   "outputs": [
    {
     "name": "stdout",
     "output_type": "stream",
     "text": [
      "['Goat', 'Ant', 'Ball', 'Zebra', 'Cat']\n"
     ]
    }
   ],
   "source": [
    "a = [\"Apple\", \"Goat\", \"Ant\", \"Ball\",\"Zebra\", \"Cat\", \"Apple\"]\n",
    "n = a.count(\"Apple\")\n",
    "for i in range(n):\n",
    "    a.remove(\"Apple\")\n",
    "print(a) # # multiple value of the same word will be remove"
   ]
  },
  {
   "cell_type": "code",
   "execution_count": 15,
   "id": "3907dc60",
   "metadata": {},
   "outputs": [
    {
     "data": {
      "text/plain": [
       "4"
      ]
     },
     "execution_count": 15,
     "metadata": {},
     "output_type": "execute_result"
    }
   ],
   "source": [
    "a = [\"Apple\", \"Goat\", \"Ant\", \"Ball\",\"Zebra\", \"Cat\",]\n",
    "a.index(\"Zebra\")"
   ]
  },
  {
   "cell_type": "code",
   "execution_count": 20,
   "id": "fc40fba7",
   "metadata": {},
   "outputs": [
    {
     "name": "stdout",
     "output_type": "stream",
     "text": [
      "4\n",
      "6\n"
     ]
    }
   ],
   "source": [
    "a = [\"Apple\", \"Goat\", \"Ant\", \"Ball\",\"Zebra\", \"Cat\", \"Zebra\"]\n",
    "l = len(a)\n",
    "for i in range(l):\n",
    "    if a[i] == \"Zebra\":\n",
    "        print(i)\n",
    "        "
   ]
  },
  {
   "cell_type": "code",
   "execution_count": 22,
   "id": "cb291595",
   "metadata": {},
   "outputs": [],
   "source": [
    "#a = [\"Apple\", \"Ant\", \"Ball\",\"Zebra\", \"Cat\"]\n",
    "#if \"Ant\" in a:\n",
    "   # print(\"Yes\", a.count(\"Ant\"))\n",
    "\n",
    "#else:\n",
    "   # print(\"No\")\n",
    "    # MAKE CASE INSENSITIVE WAP"
   ]
  },
  {
   "cell_type": "code",
   "execution_count": 23,
   "id": "b93e4c66",
   "metadata": {},
   "outputs": [],
   "source": [
    "#list inside list (nested list)"
   ]
  },
  {
   "cell_type": "code",
   "execution_count": 29,
   "id": "6ca2e82c",
   "metadata": {},
   "outputs": [
    {
     "name": "stdout",
     "output_type": "stream",
     "text": [
      "[[1, 2, 3], [4, 5, 6], [7, 8, 9]]\n",
      "<class 'list'>\n",
      "3\n"
     ]
    }
   ],
   "source": [
    "a = [[1,2,3], [4,5,6], [7,8,9]]\n",
    "print(a)\n",
    "print(type(a))\n",
    "print(len(a))"
   ]
  },
  {
   "cell_type": "code",
   "execution_count": 28,
   "id": "dc345ac7",
   "metadata": {},
   "outputs": [
    {
     "name": "stdout",
     "output_type": "stream",
     "text": [
      "[1, 2, 3]\n"
     ]
    }
   ],
   "source": [
    "a = [[1,2,3], [4,5,6], [7,8,9]]\n",
    "print(a[0])"
   ]
  },
  {
   "cell_type": "code",
   "execution_count": 30,
   "id": "a329eb11",
   "metadata": {},
   "outputs": [
    {
     "name": "stdout",
     "output_type": "stream",
     "text": [
      "[1, 2, 3]\n"
     ]
    }
   ],
   "source": [
    "a = [[1,2,3], [4,5,6],[7,8,9]]\n",
    "print(a[0])"
   ]
  },
  {
   "cell_type": "code",
   "execution_count": 31,
   "id": "1cc27a82",
   "metadata": {},
   "outputs": [
    {
     "data": {
      "text/plain": [
       "7"
      ]
     },
     "execution_count": 31,
     "metadata": {},
     "output_type": "execute_result"
    }
   ],
   "source": [
    "a[2][0]"
   ]
  },
  {
   "cell_type": "code",
   "execution_count": 39,
   "id": "d16a374e",
   "metadata": {},
   "outputs": [
    {
     "name": "stdout",
     "output_type": "stream",
     "text": [
      "[['Ram', 34, 'Kathmandu'], ['Shyam', 45, 'Lalitpur'], ['Hari', 67, 'Bhaktapur']]\n"
     ]
    }
   ],
   "source": [
    "a = [[\"Ram\", 34, \"Kathmandu\"], \n",
    "    [\"Shyam\", 45, \"Lalitpur\"],\n",
    "    [\"Hari\", 67, \"Bhaktapur\"]] \n",
    "print(a)"
   ]
  },
  {
   "cell_type": "code",
   "execution_count": 40,
   "id": "9811bd95",
   "metadata": {},
   "outputs": [
    {
     "name": "stdout",
     "output_type": "stream",
     "text": [
      "['Ram', 34, 'Kathmandu']\n",
      "['Shyam', 45, 'Lalitpur']\n",
      "['Hari', 67, 'Bhaktapur']\n"
     ]
    }
   ],
   "source": [
    "for i in a:\n",
    "    print(i)"
   ]
  },
  {
   "cell_type": "code",
   "execution_count": 57,
   "id": "591b2466",
   "metadata": {},
   "outputs": [
    {
     "ename": "SyntaxError",
     "evalue": "invalid syntax (2993436358.py, line 3)",
     "output_type": "error",
     "traceback": [
      "\u001b[1;36m  Input \u001b[1;32mIn [57]\u001b[1;36m\u001b[0m\n\u001b[1;33m    for i in range(n):\u001b[0m\n\u001b[1;37m                     ^\u001b[0m\n\u001b[1;31mSyntaxError\u001b[0m\u001b[1;31m:\u001b[0m invalid syntax\n"
     ]
    }
   ],
   "source": [
    "data = []\n",
    "n = int(input(\"Enter n = \")\n",
    "        for i in range(n):\n",
    "        name = int(input(\"Enter name = \"))\n",
    "        age = int(input(\"Enter age = \"))\n",
    "        add = input(\"Enter add = \")\n",
    "        data.append([name,age,add])\n",
    "        print(data)"
   ]
  },
  {
   "cell_type": "code",
   "execution_count": 47,
   "id": "d334708a",
   "metadata": {},
   "outputs": [
    {
     "name": "stdout",
     "output_type": "stream",
     "text": [
      "[['Ram', 34, 'Kathmandu'], ['Nabin', 56], ['Age', 45, 'Lalitpur']]\n"
     ]
    }
   ],
   "source": [
    "a = [[\"Ram\", 34, \"Kathmandu\"], [\"Nabin\", 56,]]\n",
    "a.append([\"Age\", 45, \"Lalitpur\"])\n",
    "print(a)"
   ]
  },
  {
   "cell_type": "code",
   "execution_count": 51,
   "id": "7278fe43",
   "metadata": {},
   "outputs": [
    {
     "name": "stdout",
     "output_type": "stream",
     "text": [
      "Enter name = Ram\n",
      "['Ram', 34, 'Kathmandu']\n"
     ]
    }
   ],
   "source": [
    "a= [['Ram', 34, 'Kathmandu'], ['Nabin', 56], ['Age', 45, 'Lalitpur']]\n",
    "name = input(\"Enter name = \")\n",
    "for i in a:\n",
    "    if name in i:\n",
    "        print(i)"
   ]
  },
  {
   "cell_type": "code",
   "execution_count": 56,
   "id": "dbd60e32",
   "metadata": {},
   "outputs": [
    {
     "name": "stdout",
     "output_type": "stream",
     "text": [
      "Enter name = Ram\n",
      "0\n",
      "2\n"
     ]
    }
   ],
   "source": [
    "a= [['Ram', 34, 'Kathmandu'], ['Nabin', 56], ['Ram', 45, 'Lalitpur']]\n",
    "name = input(\"Enter name = \")\n",
    "for i in range(len(a)):\n",
    "    if name in a[i]:\n",
    "        print(i)"
   ]
  },
  {
   "cell_type": "code",
   "execution_count": 58,
   "id": "68649c00",
   "metadata": {},
   "outputs": [
    {
     "name": "stdout",
     "output_type": "stream",
     "text": [
      "Enter n = 2\n",
      "Enter name =Apple\n",
      "Enter price = 34\n",
      "Enter quantity = 3\n",
      "Enter name =Banana\n",
      "Enter price = 200\n",
      "Enter quantity = 2\n",
      "Apple 34 3 102\n",
      "Banana 200 2 400\n",
      "\n",
      "502\n"
     ]
    }
   ],
   "source": [
    "bill = 0\n",
    "s = str()\n",
    "n = int(input(\"Enter n = \"))\n",
    "for i in range(n):\n",
    "    name = input (\"Enter name =\")\n",
    "    price = int(input(\"Enter price = \"))\n",
    "    quantity = int(input(\"Enter quantity = \"))\n",
    "    total = price*quantity\n",
    "    s = s + f\"{name} {price} {quantity} {total}\\n\"\n",
    "    bill = bill+total\n",
    "\n",
    "print(s)\n",
    "print(bill)"
   ]
  },
  {
   "cell_type": "code",
   "execution_count": 59,
   "id": "0a020357",
   "metadata": {},
   "outputs": [
    {
     "data": {
      "text/plain": [
       "['Apple 34 3 102', 'Banana 200 2 400', '']"
      ]
     },
     "execution_count": 59,
     "metadata": {},
     "output_type": "execute_result"
    }
   ],
   "source": [
    "s.split(\"\\n\") # split converts into list"
   ]
  },
  {
   "cell_type": "code",
   "execution_count": 60,
   "id": "67d80600",
   "metadata": {},
   "outputs": [
    {
     "name": "stdout",
     "output_type": "stream",
     "text": [
      "['Apple 34 3 102', 'Banana 200 2 400']\n"
     ]
    }
   ],
   "source": [
    "x = s.split(\"\\n\") [0:-1] # to not show space in output.\n",
    "print(x) "
   ]
  },
  {
   "cell_type": "code",
   "execution_count": 62,
   "id": "6fe9ea8e",
   "metadata": {},
   "outputs": [
    {
     "name": "stdout",
     "output_type": "stream",
     "text": [
      "[['Apple', '34', '3', '102'], ['Banana', '200', '2', '400']]\n"
     ]
    }
   ],
   "source": [
    "bill = []\n",
    "for i in x:\n",
    "    y = i.split()\n",
    "    bill.append(y)\n",
    "print(bill)"
   ]
  },
  {
   "cell_type": "code",
   "execution_count": 63,
   "id": "3ed89a8c",
   "metadata": {},
   "outputs": [
    {
     "name": "stdout",
     "output_type": "stream",
     "text": [
      "Enter n = 5\n",
      "Enter x = 123\n",
      "Enter x = 45\n",
      "Enter x = 23\n",
      "Enter x = 456\n",
      "Enter x = 231\n",
      "(123, 45, 23, 456, 231)\n"
     ]
    }
   ],
   "source": []
  },
  {
   "cell_type": "code",
   "execution_count": null,
   "id": "10ebc877",
   "metadata": {},
   "outputs": [],
   "source": []
  }
 ],
 "metadata": {
  "kernelspec": {
   "display_name": "Python 3 (ipykernel)",
   "language": "python",
   "name": "python3"
  },
  "language_info": {
   "codemirror_mode": {
    "name": "ipython",
    "version": 3
   },
   "file_extension": ".py",
   "mimetype": "text/x-python",
   "name": "python",
   "nbconvert_exporter": "python",
   "pygments_lexer": "ipython3",
   "version": "3.8.10"
  }
 },
 "nbformat": 4,
 "nbformat_minor": 5
}
