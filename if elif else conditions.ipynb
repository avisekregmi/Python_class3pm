{
 "cells": [
  {
   "cell_type": "code",
   "execution_count": 5,
   "id": "d4a29023",
   "metadata": {},
   "outputs": [
    {
     "ename": "SyntaxError",
     "evalue": "invalid syntax (1802174189.py, line 6)",
     "output_type": "error",
     "traceback": [
      "\u001b[1;36m  Input \u001b[1;32mIn [5]\u001b[1;36m\u001b[0m\n\u001b[1;33m    elif: user_input == 0:\u001b[0m\n\u001b[1;37m        ^\u001b[0m\n\u001b[1;31mSyntaxError\u001b[0m\u001b[1;31m:\u001b[0m invalid syntax\n"
     ]
    }
   ],
   "source": [
    "user_input = int(input(\"Enter the number:\"))\n",
    "\n",
    "if user_input < 0:\n",
    "    print(\"The number {} is negative\".format(user_input))\n",
    "\n",
    "elif: user_input == 0:\n",
    "    print(\"The number {} is zero\".format(user_input))\n",
    "        \n",
    "else:\n",
    "    print(\"The number {} is positive\".format(user_input)) "
   ]
  },
  {
   "cell_type": "code",
   "execution_count": 5,
   "id": "9ce3c79a",
   "metadata": {},
   "outputs": [
    {
     "name": "stdout",
     "output_type": "stream",
     "text": [
      "Enter the number:-5\n",
      "The number -5 is negative\n"
     ]
    }
   ],
   "source": [
    "user_input = int(input(\"Enter the number:\"))\n",
    "\n",
    "if user_input < 0:\n",
    "    print(\"The number {} is negative\".format(user_input))\n",
    "\n",
    "elif user_input == 0:\n",
    "    print(\"The number {} is zero\".format(user_input))\n",
    "        \n",
    "else:\n",
    "    print(\"The number {} is positive\".format(user_input)) "
   ]
  },
  {
   "cell_type": "code",
   "execution_count": null,
   "id": "d26a1349",
   "metadata": {},
   "outputs": [],
   "source": []
  },
  {
   "cell_type": "code",
   "execution_count": null,
   "id": "37fd402e",
   "metadata": {},
   "outputs": [],
   "source": []
  }
 ],
 "metadata": {
  "kernelspec": {
   "display_name": "Python 3 (ipykernel)",
   "language": "python",
   "name": "python3"
  },
  "language_info": {
   "codemirror_mode": {
    "name": "ipython",
    "version": 3
   },
   "file_extension": ".py",
   "mimetype": "text/x-python",
   "name": "python",
   "nbconvert_exporter": "python",
   "pygments_lexer": "ipython3",
   "version": "3.8.10"
  }
 },
 "nbformat": 4,
 "nbformat_minor": 5
}
