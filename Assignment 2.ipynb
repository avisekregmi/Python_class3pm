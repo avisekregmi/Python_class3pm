{
 "cells": [
  {
   "cell_type": "markdown",
   "id": "4d565a6b",
   "metadata": {},
   "source": [
    "# Assignment 2"
   ]
  },
  {
   "cell_type": "code",
   "execution_count": 1,
   "id": "aba8865e",
   "metadata": {},
   "outputs": [
    {
     "name": "stdout",
     "output_type": "stream",
     "text": [
      "There are 2562 seconds in 42 minutes, 42 seconds\n"
     ]
    }
   ],
   "source": [
    "total_seconds = (42 * 60) + 42\n",
    "print(\"There are {} seconds in 42 minutes, 42 seconds\".format(total_seconds))"
   ]
  },
  {
   "cell_type": "code",
   "execution_count": 14,
   "id": "15a2b183",
   "metadata": {},
   "outputs": [
    {
     "name": "stdout",
     "output_type": "stream",
     "text": [
      "There are 6.215040397762586 km in 10 miles\n"
     ]
    }
   ],
   "source": [
    "total_miles = (10/1.609)\n",
    "print(\"There are {} km in 10 miles\".format(total_miles))"
   ]
  },
  {
   "cell_type": "code",
   "execution_count": 15,
   "id": "1b7cbf33",
   "metadata": {},
   "outputs": [
    {
     "name": "stdout",
     "output_type": "stream",
     "text": [
      "There are 0.005668934240362812 average mile\n"
     ]
    }
   ],
   "source": []
  },
  {
   "cell_type": "code",
   "execution_count": 25,
   "id": "15a77fff",
   "metadata": {},
   "outputs": [
    {
     "name": "stdout",
     "output_type": "stream",
     "text": [
      "The volume of the sphere is:  523.3333333333334\n"
     ]
    }
   ],
   "source": [
    "pi = 3.14\n",
    "r  = 5\n",
    "V  = 4/3*pi* r**3\n",
    "print('The volume of the sphere is: ',V)"
   ]
  },
  {
   "cell_type": "code",
   "execution_count": 26,
   "id": "416768a8",
   "metadata": {},
   "outputs": [],
   "source": [
    "time_in_min = 42 + 42/60"
   ]
  },
  {
   "cell_type": "code",
   "execution_count": 27,
   "id": "f4ff3eb5",
   "metadata": {},
   "outputs": [],
   "source": [
    "time_in_sec = 42 * 60 + 42"
   ]
  },
  {
   "cell_type": "code",
   "execution_count": 28,
   "id": "0653c64c",
   "metadata": {},
   "outputs": [],
   "source": [
    "ten_km_to_mile = 10/1.609"
   ]
  },
  {
   "cell_type": "code",
   "execution_count": 29,
   "id": "864f664d",
   "metadata": {},
   "outputs": [],
   "source": [
    "speed_in_miles_per_min = ten_km_to_mile / time_in_min"
   ]
  },
  {
   "cell_type": "code",
   "execution_count": 30,
   "id": "570e48e1",
   "metadata": {},
   "outputs": [
    {
     "data": {
      "text/plain": [
       "0.1455512973714891"
      ]
     },
     "execution_count": 30,
     "metadata": {},
     "output_type": "execute_result"
    }
   ],
   "source": [
    "speed_in_miles_per_min"
   ]
  },
  {
   "cell_type": "code",
   "execution_count": 31,
   "id": "bb928838",
   "metadata": {},
   "outputs": [],
   "source": [
    "speed_in_miles_per_sec = ten_km_to_mile / time_in_min"
   ]
  },
  {
   "cell_type": "code",
   "execution_count": 32,
   "id": "78703649",
   "metadata": {},
   "outputs": [
    {
     "data": {
      "text/plain": [
       "0.1455512973714891"
      ]
     },
     "execution_count": 32,
     "metadata": {},
     "output_type": "execute_result"
    }
   ],
   "source": [
    "speed_in_miles_per_sec"
   ]
  },
  {
   "cell_type": "code",
   "execution_count": null,
   "id": "c84df403",
   "metadata": {},
   "outputs": [],
   "source": []
  }
 ],
 "metadata": {
  "kernelspec": {
   "display_name": "Python 3 (ipykernel)",
   "language": "python",
   "name": "python3"
  },
  "language_info": {
   "codemirror_mode": {
    "name": "ipython",
    "version": 3
   },
   "file_extension": ".py",
   "mimetype": "text/x-python",
   "name": "python",
   "nbconvert_exporter": "python",
   "pygments_lexer": "ipython3",
   "version": "3.8.10"
  }
 },
 "nbformat": 4,
 "nbformat_minor": 5
}
