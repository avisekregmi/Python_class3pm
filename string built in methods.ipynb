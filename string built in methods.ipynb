{
 "cells": [
  {
   "cell_type": "code",
   "execution_count": 1,
   "id": "270101bf",
   "metadata": {},
   "outputs": [],
   "source": [
    "name = \"k$hitiz\""
   ]
  },
  {
   "cell_type": "code",
   "execution_count": 9,
   "id": "c7393923",
   "metadata": {},
   "outputs": [
    {
     "ename": "AttributeError",
     "evalue": "'list' object has no attribute 'replace'",
     "output_type": "error",
     "traceback": [
      "\u001b[1;31m---------------------------------------------------------------------------\u001b[0m",
      "\u001b[1;31mAttributeError\u001b[0m                            Traceback (most recent call last)",
      "Input \u001b[1;32mIn [9]\u001b[0m, in \u001b[0;36m<cell line: 1>\u001b[1;34m()\u001b[0m\n\u001b[1;32m----> 1\u001b[0m name \u001b[38;5;241m=\u001b[39m \u001b[43mname\u001b[49m\u001b[38;5;241;43m.\u001b[39;49m\u001b[43mreplace\u001b[49m(\u001b[38;5;124m\"\u001b[39m\u001b[38;5;124m$\u001b[39m\u001b[38;5;124m\"\u001b[39m, \u001b[38;5;124m\"\u001b[39m\u001b[38;5;124ms\u001b[39m\u001b[38;5;124m\"\u001b[39m)\n",
      "\u001b[1;31mAttributeError\u001b[0m: 'list' object has no attribute 'replace'"
     ]
    }
   ],
   "source": [
    "name = name.replace(\"$\", \"s\")"
   ]
  },
  {
   "cell_type": "code",
   "execution_count": 10,
   "id": "aeadc709",
   "metadata": {},
   "outputs": [],
   "source": [
    "# YOU CANNOT UPDATE PYTHON STRING USING INDEXING AND ASSIGNMENT OPERATOR"
   ]
  },
  {
   "cell_type": "code",
   "execution_count": 11,
   "id": "98e65af3",
   "metadata": {},
   "outputs": [],
   "source": [
    "gender = \"male\" # male, MALE."
   ]
  },
  {
   "cell_type": "code",
   "execution_count": 12,
   "id": "e20b2c27",
   "metadata": {},
   "outputs": [
    {
     "data": {
      "text/plain": [
       "'male'"
      ]
     },
     "execution_count": 12,
     "metadata": {},
     "output_type": "execute_result"
    }
   ],
   "source": [
    "gender"
   ]
  },
  {
   "cell_type": "code",
   "execution_count": 2,
   "id": "77c02370",
   "metadata": {},
   "outputs": [],
   "source": [
    "greet = \"Awesome day\""
   ]
  },
  {
   "cell_type": "code",
   "execution_count": 3,
   "id": "386d5132",
   "metadata": {},
   "outputs": [
    {
     "data": {
      "text/plain": [
       "'Awesome day'"
      ]
     },
     "execution_count": 3,
     "metadata": {},
     "output_type": "execute_result"
    }
   ],
   "source": [
    "greet"
   ]
  },
  {
   "cell_type": "code",
   "execution_count": 4,
   "id": "48dcaae3",
   "metadata": {},
   "outputs": [
    {
     "data": {
      "text/plain": [
       "'Wonderful day'"
      ]
     },
     "execution_count": 4,
     "metadata": {},
     "output_type": "execute_result"
    }
   ],
   "source": [
    "greet.replace(\"Awesome\", \"Wonderful\")"
   ]
  },
  {
   "cell_type": "code",
   "execution_count": 6,
   "id": "8853fe94",
   "metadata": {},
   "outputs": [
    {
     "data": {
      "text/plain": [
       "'Wonderful day'"
      ]
     },
     "execution_count": 6,
     "metadata": {},
     "output_type": "execute_result"
    }
   ],
   "source": [
    "greet"
   ]
  },
  {
   "cell_type": "code",
   "execution_count": null,
   "id": "92272c58",
   "metadata": {},
   "outputs": [],
   "source": [
    "greet = greet.replace(\"Awesome\", \"Wonderful\")"
   ]
  },
  {
   "cell_type": "code",
   "execution_count": 7,
   "id": "3733a549",
   "metadata": {},
   "outputs": [],
   "source": [
    "txt = \"Covid-19 is a pandemic. Please! wash your hands\""
   ]
  },
  {
   "cell_type": "code",
   "execution_count": 8,
   "id": "11c53df8",
   "metadata": {},
   "outputs": [
    {
     "data": {
      "text/plain": [
       "'Covid-19 is a pandemic. Please! wash your hands'"
      ]
     },
     "execution_count": 8,
     "metadata": {},
     "output_type": "execute_result"
    }
   ],
   "source": [
    "txt"
   ]
  },
  {
   "cell_type": "code",
   "execution_count": 12,
   "id": "618d0446",
   "metadata": {},
   "outputs": [
    {
     "data": {
      "text/plain": [
       "['Covid-19', 'is', 'a', 'pandemic.', 'Please!', 'wash', 'your', 'hands']"
      ]
     },
     "execution_count": 12,
     "metadata": {},
     "output_type": "execute_result"
    }
   ],
   "source": [
    "word= txt.split(\" \")"
   ]
  },
  {
   "cell_type": "code",
   "execution_count": 14,
   "id": "5f1b20b8",
   "metadata": {},
   "outputs": [
    {
     "ename": "NameError",
     "evalue": "name 'words' is not defined",
     "output_type": "error",
     "traceback": [
      "\u001b[1;31m---------------------------------------------------------------------------\u001b[0m",
      "\u001b[1;31mNameError\u001b[0m                                 Traceback (most recent call last)",
      "Input \u001b[1;32mIn [14]\u001b[0m, in \u001b[0;36m<cell line: 1>\u001b[1;34m()\u001b[0m\n\u001b[1;32m----> 1\u001b[0m \u001b[38;5;28mtype\u001b[39m(\u001b[43mwords\u001b[49m)\n",
      "\u001b[1;31mNameError\u001b[0m: name 'words' is not defined"
     ]
    }
   ],
   "source": [
    "type(words)"
   ]
  },
  {
   "cell_type": "code",
   "execution_count": 15,
   "id": "d7ecad8a",
   "metadata": {},
   "outputs": [],
   "source": [
    "txt = \"Covid-19 is a pandemic. Please! wash your hands\""
   ]
  },
  {
   "cell_type": "code",
   "execution_count": 16,
   "id": "5a0528ff",
   "metadata": {},
   "outputs": [
    {
     "data": {
      "text/plain": [
       "'Covid-19 is a pandemic. Please! wash your hands'"
      ]
     },
     "execution_count": 16,
     "metadata": {},
     "output_type": "execute_result"
    }
   ],
   "source": [
    "txt"
   ]
  },
  {
   "cell_type": "code",
   "execution_count": 17,
   "id": "b90de282",
   "metadata": {},
   "outputs": [],
   "source": [
    "word = txt.split(\" \")"
   ]
  },
  {
   "cell_type": "code",
   "execution_count": 18,
   "id": "48ec0d0c",
   "metadata": {},
   "outputs": [
    {
     "data": {
      "text/plain": [
       "list"
      ]
     },
     "execution_count": 18,
     "metadata": {},
     "output_type": "execute_result"
    }
   ],
   "source": [
    "type(word)"
   ]
  },
  {
   "cell_type": "code",
   "execution_count": null,
   "id": "c98e58e6",
   "metadata": {},
   "outputs": [],
   "source": []
  }
 ],
 "metadata": {
  "kernelspec": {
   "display_name": "Python 3 (ipykernel)",
   "language": "python",
   "name": "python3"
  },
  "language_info": {
   "codemirror_mode": {
    "name": "ipython",
    "version": 3
   },
   "file_extension": ".py",
   "mimetype": "text/x-python",
   "name": "python",
   "nbconvert_exporter": "python",
   "pygments_lexer": "ipython3",
   "version": "3.8.10"
  }
 },
 "nbformat": 4,
 "nbformat_minor": 5
}
