{
 "cells": [
  {
   "cell_type": "markdown",
   "id": "56684c5b",
   "metadata": {},
   "source": [
    "# For loop syntax\n",
    "\n",
    "for item in range:print(item)\n",
    "\n",
    "```python\n",
    "for index in range(start,end,step):\n",
    "    print(index) # prints index value starting from start upto end -1 with given step\n",
    "\n",
    "```\n",
    "\n",
    "# Other syntax\n",
    "\n",
    "```python\n",
    "for item in list_name:\n",
    "    print(item) # prints item in list one by one\n",
    "    \n",
    "```"
   ]
  },
  {
   "cell_type": "code",
   "execution_count": null,
   "id": "7a1b12dd",
   "metadata": {},
   "outputs": [],
   "source": []
  }
 ],
 "metadata": {
  "kernelspec": {
   "display_name": "Python 3 (ipykernel)",
   "language": "python",
   "name": "python3"
  },
  "language_info": {
   "codemirror_mode": {
    "name": "ipython",
    "version": 3
   },
   "file_extension": ".py",
   "mimetype": "text/x-python",
   "name": "python",
   "nbconvert_exporter": "python",
   "pygments_lexer": "ipython3",
   "version": "3.8.10"
  }
 },
 "nbformat": 4,
 "nbformat_minor": 5
}
