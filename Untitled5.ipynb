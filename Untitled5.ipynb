{
 "cells": [
  {
   "cell_type": "code",
   "execution_count": 5,
   "id": "c50cb0db",
   "metadata": {},
   "outputs": [
    {
     "name": "stdout",
     "output_type": "stream",
     "text": [
      "Total Number of Vowels in this String = 0\n",
      "Total Number of Consonants in this String =  1\n",
      "Total Number of Vowels in this String = 0\n",
      "Total Number of Consonants in this String =  2\n",
      "Total Number of Vowels in this String = 1\n",
      "Total Number of Consonants in this String =  3\n",
      "Total Number of Vowels in this String = 1\n",
      "Total Number of Consonants in this String =  4\n",
      "Total Number of Vowels in this String = 2\n",
      "Total Number of Consonants in this String =  5\n",
      "Total Number of Vowels in this String = 2\n",
      "Total Number of Consonants in this String =  6\n",
      "Total Number of Vowels in this String = 3\n",
      "Total Number of Consonants in this String =  7\n",
      "Total Number of Vowels in this String = 3\n",
      "Total Number of Consonants in this String =  8\n",
      "Total Number of Vowels in this String = 3\n",
      "Total Number of Consonants in this String =  9\n"
     ]
    }
   ],
   "source": [
    "S = \"Hello\"\n",
    "vowels = 0\n",
    "consonants = 0\n",
    "str1.lower()\n",
    "\n",
    "for i in str1:\n",
    "    if(i == 'a' or i == 'e' or i == 'i' or i == 'o' or i == 'u'):\n",
    "        vowels = vowels + 1\n",
    "    else:\n",
    "        consonants = consonants + 1\n",
    "        print(\"Total Number of Vowels in this String =\", vowels)\n",
    "        print(\"Total Number of Consonants in this String = \", consonants) "
   ]
  },
  {
   "cell_type": "code",
   "execution_count": null,
   "id": "5bb90d4b",
   "metadata": {},
   "outputs": [],
   "source": []
  }
 ],
 "metadata": {
  "kernelspec": {
   "display_name": "Python 3 (ipykernel)",
   "language": "python",
   "name": "python3"
  },
  "language_info": {
   "codemirror_mode": {
    "name": "ipython",
    "version": 3
   },
   "file_extension": ".py",
   "mimetype": "text/x-python",
   "name": "python",
   "nbconvert_exporter": "python",
   "pygments_lexer": "ipython3",
   "version": "3.8.10"
  }
 },
 "nbformat": 4,
 "nbformat_minor": 5
}
