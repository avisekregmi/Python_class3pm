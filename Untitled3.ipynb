{
 "cells": [
  {
   "cell_type": "code",
   "execution_count": null,
   "id": "c3eb6882",
   "metadata": {},
   "outputs": [],
   "source": [
    "unit = int(input(\"Enter your unit:\"))\n",
    "\n",
    "if unit  <= 100:\n",
    "    print(\"There is no charge:\") \n",
    "    \n",
    "elif unit >=101 and unit <= 200:\n",
    "    print(\"The charge is Rs.5 per unit.\") \n",
    "        \n",
    "else:\n",
    "    print(\"The charge after 200 units is Rs.10 per unit.\") "
   ]
  },
  {
   "cell_type": "code",
   "execution_count": null,
   "id": "ba664f40",
   "metadata": {},
   "outputs": [],
   "source": [
    "num = int (input (\"Enter the number whose divisibility needs to be checked:\")) \n",
    "\n",
    "div = int (input (\"Enter the number with which divisibility needs to be checked:\"))\n",
    "\n",
    "if num % div == 0:\n",
    "    \n",
    "    print(\"The number {} is divisible by three\".format(num))\n",
    "\n",
    "else:\n",
    "    \n",
    "    print(\"The numer {} is not divisible by three\".format(num)) "
   ]
  },
  {
   "cell_type": "code",
   "execution_count": null,
   "id": "9aa35c6a",
   "metadata": {},
   "outputs": [],
   "source": []
  }
 ],
 "metadata": {
  "kernelspec": {
   "display_name": "Python 3 (ipykernel)",
   "language": "python",
   "name": "python3"
  },
  "language_info": {
   "codemirror_mode": {
    "name": "ipython",
    "version": 3
   },
   "file_extension": ".py",
   "mimetype": "text/x-python",
   "name": "python",
   "nbconvert_exporter": "python",
   "pygments_lexer": "ipython3",
   "version": "3.8.10"
  }
 },
 "nbformat": 4,
 "nbformat_minor": 5
}
