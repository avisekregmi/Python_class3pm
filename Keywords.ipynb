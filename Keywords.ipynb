{
 "cells": [
  {
   "cell_type": "code",
   "execution_count": 1,
   "id": "555237fa",
   "metadata": {},
   "outputs": [
    {
     "ename": "SyntaxError",
     "evalue": "cannot assign to False (3386981729.py, line 1)",
     "output_type": "error",
     "traceback": [
      "\u001b[1;36m  Input \u001b[1;32mIn [1]\u001b[1;36m\u001b[0m\n\u001b[1;33m    False = 66\u001b[0m\n\u001b[1;37m    ^\u001b[0m\n\u001b[1;31mSyntaxError\u001b[0m\u001b[1;31m:\u001b[0m cannot assign to False\n"
     ]
    }
   ],
   "source": [
    "False = 66"
   ]
  },
  {
   "cell_type": "code",
   "execution_count": 2,
   "id": "212794ae",
   "metadata": {},
   "outputs": [
    {
     "ename": "SyntaxError",
     "evalue": "invalid syntax (382805477.py, line 1)",
     "output_type": "error",
     "traceback": [
      "\u001b[1;36m  Input \u001b[1;32mIn [2]\u001b[1;36m\u001b[0m\n\u001b[1;33m    for = 8\u001b[0m\n\u001b[1;37m        ^\u001b[0m\n\u001b[1;31mSyntaxError\u001b[0m\u001b[1;31m:\u001b[0m invalid syntax\n"
     ]
    }
   ],
   "source": [
    "for = 8"
   ]
  },
  {
   "cell_type": "code",
   "execution_count": 3,
   "id": "95d6f2ac",
   "metadata": {},
   "outputs": [],
   "source": [
    "false = 66"
   ]
  },
  {
   "cell_type": "code",
   "execution_count": 4,
   "id": "3437c975",
   "metadata": {},
   "outputs": [
    {
     "data": {
      "text/plain": [
       "66"
      ]
     },
     "execution_count": 4,
     "metadata": {},
     "output_type": "execute_result"
    }
   ],
   "source": [
    "false"
   ]
  },
  {
   "cell_type": "markdown",
   "id": "daf68cb8",
   "metadata": {},
   "source": []
  },
  {
   "cell_type": "markdown",
   "id": "df09f6ac",
   "metadata": {},
   "source": [
    "Case sensitive : upper case and lower case names are treated differently. Python is case sensitive language\n",
    "    Why?\n",
    "False and false are different."
   ]
  },
  {
   "cell_type": "markdown",
   "id": "4ea1447e",
   "metadata": {},
   "source": [
    "Case sensitive : upper case and lower case names are treated differently. Python is case sensitive language Why? False and false are different."
   ]
  },
  {
   "cell_type": "code",
   "execution_count": 5,
   "id": "9148a542",
   "metadata": {},
   "outputs": [],
   "source": [
    "#Case sensitive : upper case and lower case names are treated differently. Python is case sensitive language Why? False and false are different."
   ]
  },
  {
   "cell_type": "markdown",
   "id": "6c5eb1bc",
   "metadata": {},
   "source": [
    "#Case sensitive : upper case and lower case names are treated differently. Python is case sensitive language Why? False and false are different."
   ]
  },
  {
   "cell_type": "code",
   "execution_count": 6,
   "id": "b27af2d3",
   "metadata": {},
   "outputs": [],
   "source": [
    "# Case sensitive : upper case and lower case names are treated differently. Python is case sensitive language Why? False and false are different."
   ]
  },
  {
   "cell_type": "code",
   "execution_count": null,
   "id": "4fcf2fad",
   "metadata": {},
   "outputs": [],
   "source": []
  }
 ],
 "metadata": {
  "kernelspec": {
   "display_name": "Python 3 (ipykernel)",
   "language": "python",
   "name": "python3"
  },
  "language_info": {
   "codemirror_mode": {
    "name": "ipython",
    "version": 3
   },
   "file_extension": ".py",
   "mimetype": "text/x-python",
   "name": "python",
   "nbconvert_exporter": "python",
   "pygments_lexer": "ipython3",
   "version": "3.8.10"
  }
 },
 "nbformat": 4,
 "nbformat_minor": 5
}
